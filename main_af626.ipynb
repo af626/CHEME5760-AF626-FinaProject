{
 "cells": [
  {
   "cell_type": "markdown",
   "id": "c600411c-88de-45b8-8291-a7b6a3320959",
   "metadata": {},
   "source": [
    "# Managing a Humanitarian Project Endowment in Kampala, Uganda\n",
    "\n",
    "From our previous set of calculations we have come up with the total grant value that we will requesting from the Bills Foundation. Now in our case we are expecting a minimum desired return percentage of 12 percent i.e. our total budget will be equal to our grant amount i.e. USD  41,585,845.43 and the goal of our portfolio would be to get a minimum desired return of 12 percent every year from our portfolio.\n",
    "In this notebook we will develop a SIM for all tickers, pick a set of companies for our portfolio and develop the efficient fronline and then check performance of the portfolio for the cases of no reallocation and allocation and validate if our portfolio is giving us the minimum desired return"
   ]
  },
  {
   "cell_type": "markdown",
   "id": "8f198f79-5cc5-42ca-9f99-b3327f32cb2e",
   "metadata": {},
   "source": [
    "## Setup"
   ]
  },
  {
   "cell_type": "code",
   "execution_count": 1,
   "id": "833c5b46-521d-4762-8213-d4c0e9ee8733",
   "metadata": {
    "tags": []
   },
   "outputs": [
    {
     "name": "stderr",
     "output_type": "stream",
     "text": [
      "\u001b[32m\u001b[1m    Updating\u001b[22m\u001b[39m git-repo `https://github.com/varnerlab/VLQuantitativeFinancePackage.jl.git`"
     ]
    },
    {
     "name": "stderr",
     "output_type": "stream",
     "text": [
      "\n"
     ]
    },
    {
     "name": "stderr",
     "output_type": "stream",
     "text": [
      "\u001b[32m\u001b[1m   Resolving\u001b[22m\u001b[39m package versions...\n"
     ]
    },
    {
     "name": "stderr",
     "output_type": "stream",
     "text": [
      "\u001b[32m\u001b[1m  No Changes\u001b[22m\u001b[39m to `C:\\Users\\af\\Documents\\GitHub\\team-project-submission-link-angelo\\Project.toml`\n",
      "\u001b[32m\u001b[1m  No Changes\u001b[22m\u001b[39m to `C:\\Users\\af\\Documents\\GitHub\\team-project-submission-link-angelo\\Manifest.toml`"
     ]
    },
    {
     "name": "stderr",
     "output_type": "stream",
     "text": [
      "\n"
     ]
    },
    {
     "name": "stderr",
     "output_type": "stream",
     "text": [
      "\u001b[32m\u001b[1m  Activating\u001b[22m\u001b[39m project at `c:\\Users\\af\\Documents\\GitHub\\team-project-submission-link-angelo`\n"
     ]
    },
    {
     "name": "stderr",
     "output_type": "stream",
     "text": [
      "\u001b[32m\u001b[1m  No Changes\u001b[22m\u001b[39m to `C:\\Users\\af\\Documents\\GitHub\\team-project-submission-link-angelo\\Project.toml`\n",
      "\u001b[32m\u001b[1m  No Changes\u001b[22m\u001b[39m to `C:\\Users\\af\\Documents\\GitHub\\team-project-submission-link-angelo\\Manifest.toml`"
     ]
    },
    {
     "name": "stderr",
     "output_type": "stream",
     "text": [
      "\n"
     ]
    },
    {
     "name": "stderr",
     "output_type": "stream",
     "text": [
      "\u001b[32m\u001b[1m    Updating\u001b[22m\u001b[39m registry at `C:\\Users\\af\\.julia\\registries\\General.toml`\n",
      "\u001b[32m\u001b[1m    Updating\u001b[22m\u001b[39m git-repo `https://github.com/varnerlab/VLQuantitativeFinancePackage.jl.git`\n"
     ]
    },
    {
     "name": "stderr",
     "output_type": "stream",
     "text": [
      "\u001b[32m\u001b[1m  No Changes\u001b[22m\u001b[39m to `C:\\Users\\af\\Documents\\GitHub\\team-project-submission-link-angelo\\Project.toml`\n",
      "\u001b[32m\u001b[1m  No Changes\u001b[22m\u001b[39m to `C:\\Users\\af\\Documents\\GitHub\\team-project-submission-link-angelo\\Manifest.toml`\n"
     ]
    }
   ],
   "source": [
    "include(\"Include.jl\");"
   ]
  },
  {
   "cell_type": "markdown",
   "id": "d6436ca1-7423-42d6-a5a5-b4d52a13de5e",
   "metadata": {
    "jp-MarkdownHeadingCollapsed": true,
    "tags": []
   },
   "source": [
    "## Prerequisites: Load historical dataset, compute expected returns and covariance\n",
    "We gathered a daily open-high-low-close `dataset` for each firm in the [S&P500](https://en.wikipedia.org/wiki/S%26P_500) since `01-03-2018` until `12-01-2023`, along with data for a few exchange traded funds and volatility products during that time. "
   ]
  },
  {
   "cell_type": "code",
   "execution_count": 2,
   "id": "e9f0411d-18c2-40cf-8a14-b61ed16245e4",
   "metadata": {
    "tags": []
   },
   "outputs": [],
   "source": [
    "original_dataset = load(joinpath(_PATH_TO_DATA, \n",
    "        \"SP500-Daily-OHLC-1-3-2018-to-12-01-2023.jld2\")) |> x-> x[\"dataset\"];"
   ]
  },
  {
   "cell_type": "markdown",
   "id": "8bd71c14-a8d6-4526-978d-7566b4cb05da",
   "metadata": {},
   "source": [
    "### Clean the data\n",
    "Not all of the tickers in our dataset have the maximum number of trading days for various reasons, e.g., acquistion or de-listing events. Let's collect only those tickers with the maximum number of trading days.\n",
    "\n",
    "* First, let's compute the number of records for a company that we know has a maximim value, e.g., `AAPL` and save that value in the `maximum_number_trading_days` variable:"
   ]
  },
  {
   "cell_type": "code",
   "execution_count": 3,
   "id": "412a43c3-5994-49a0-9c3c-67e445e7b426",
   "metadata": {
    "tags": []
   },
   "outputs": [],
   "source": [
    "maximum_number_trading_days = original_dataset[\"AAPL\"] |> nrow;"
   ]
  },
  {
   "cell_type": "markdown",
   "id": "8e1a61fb-d581-465b-b547-9d8954703ed3",
   "metadata": {},
   "source": [
    "Now, lets iterate through our data and collect only those tickers that have `maximum_number_trading_days` records. Save that data in the `dataset::Dict{String,DataFrame}` variable:"
   ]
  },
  {
   "cell_type": "code",
   "execution_count": 4,
   "id": "7748dcd0-c56c-45c0-883f-c2f882584a86",
   "metadata": {
    "tags": []
   },
   "outputs": [],
   "source": [
    "dataset = Dict{String,DataFrame}();\n",
    "for (ticker,data) ∈ original_dataset\n",
    "    if (nrow(data) == maximum_number_trading_days)\n",
    "        dataset[ticker] = data;\n",
    "    end\n",
    "end\n",
    "dataset;"
   ]
  },
  {
   "cell_type": "markdown",
   "id": "e1c9b3ac-cc0d-4edd-9071-74d4f5f135c5",
   "metadata": {},
   "source": [
    "Let's get a list of firms that we have in cleaned up `dataset`, and save it in the `all_tickers` array:"
   ]
  },
  {
   "cell_type": "code",
   "execution_count": 5,
   "id": "532f9abd-96c2-4750-96d4-7a62e4520d2b",
   "metadata": {
    "tags": []
   },
   "outputs": [],
   "source": [
    "all_tickers = keys(dataset) |> collect |> sort;\n",
    "K = length(all_tickers);"
   ]
  },
  {
   "cell_type": "markdown",
   "id": "e5424f58-a589-40dc-91a2-69d7e717a51a",
   "metadata": {},
   "source": [
    "### Get the 2023 `SPY` data"
   ]
  },
  {
   "cell_type": "code",
   "execution_count": 6,
   "id": "916e02d1-7e28-40af-9fde-293423a241f2",
   "metadata": {
    "tags": []
   },
   "outputs": [],
   "source": [
    "startdate = Date(2023,01,03);\n",
    "SPY_dataset = dataset[\"SPY\"];\n",
    "SPY_df = filter(:timestamp => x-> x >= startdate, SPY_dataset);"
   ]
  },
  {
   "cell_type": "markdown",
   "id": "68d8f47f-c241-4d0b-9843-85d9a95e47ba",
   "metadata": {
    "tags": []
   },
   "source": [
    "### Compute the covariance and expected yield for all firms in the dataset\n",
    "The expected return $\\mathbb{E}(r_{i})$ and covariance matrix $\\Sigma$ will be used in our calculations, so we'll provide values for both of these items for the entire data set (all `N = 459` tickers), and then you can pick out which tickers you are interested in. \n",
    "\n",
    "* First, we compute the expected (annualized) log return by passing the `dataset` and the entire list of firms we have in the dataset (held in the $N\\times{1}$ `all_array` array) to the `log_return_matrix(...)` method. The result is stored in the `all_firms_return_matrix` variable, a $T-1\\times{N}$ array of log return values. Each row of `all_firms_return_matrix` corresponds to a time-value, while each column corresponds to a firm:"
   ]
  },
  {
   "cell_type": "code",
   "execution_count": 7,
   "id": "351b0634-e284-4bd4-9368-5e6194c75c6a",
   "metadata": {
    "tags": []
   },
   "outputs": [],
   "source": [
    "all_firms_return_matrix = log_return_matrix(dataset, all_tickers, \n",
    "    Δt = (1.0/252.0), risk_free_rate = 0.0);"
   ]
  },
  {
   "cell_type": "code",
   "execution_count": 8,
   "id": "050ebfce-396e-4184-8fdc-6e117aac2d6b",
   "metadata": {
    "tags": []
   },
   "outputs": [],
   "source": [
    "μ = mean(all_firms_return_matrix, dims=1) |> vec;"
   ]
  },
  {
   "cell_type": "markdown",
   "id": "a75860d2-4218-4828-a47f-3231864bada5",
   "metadata": {},
   "source": [
    "### Build single index model approximation of the covariance"
   ]
  },
  {
   "cell_type": "code",
   "execution_count": 9,
   "id": "e0305375-3d70-4696-bcea-ab799683f9df",
   "metadata": {
    "tags": []
   },
   "outputs": [],
   "source": [
    "sims = load(joinpath(_PATH_TO_DATA, \"SIMs-af626_project-PD1-CHEME-5660-Fall-2023.jld2\")) |> x->x[\"sims\"];"
   ]
  },
  {
   "cell_type": "code",
   "execution_count": 10,
   "id": "ff3dca05-b416-4a83-a92b-0e3c2a7022c5",
   "metadata": {
    "tags": []
   },
   "outputs": [
    {
     "data": {
      "text/plain": [
       "0.08947352945602301"
      ]
     },
     "metadata": {},
     "output_type": "display_data"
    }
   ],
   "source": [
    "index_SPY = findfirst(x->x==\"SPY\", all_tickers);\n",
    "r_SPY = μ[index_SPY]"
   ]
  },
  {
   "cell_type": "markdown",
   "id": "ab82164b-9b16-489a-938b-68a55b22c211",
   "metadata": {},
   "source": [
    "Next let's build the `single index model` version of the covariance array. Substituting the single index model for the excess return of asset $i$ and $j$ into the covariance expression (and simplifying) gives:\n",
    "\n",
    "$$\n",
    "\\begin{equation*}\n",
    "\\text{cov}(R_{i}, R_{j}) = \\begin{cases}\n",
    "\\beta_{i}^{2}\\sigma_{m}^{2}+\\sigma_{\\epsilon_{i}}^{2} & i = j \\\\\n",
    "\\beta_{i}\\beta_{j}\\sigma_{m}^2 & i \\neq j\n",
    "\\end{cases}\n",
    "\\end{equation*}\n",
    "$$\n",
    "\n",
    "where $\\sigma_{m}^2$ denotes the variance of the excess return of the market,  and $\\sigma_{\\epsilon_{i}}^{2}$ denotes the variance of the firm-specific error model."
   ]
  },
  {
   "cell_type": "code",
   "execution_count": 11,
   "id": "777602f8-87be-4b24-b53c-9e23735c08f9",
   "metadata": {
    "tags": []
   },
   "outputs": [
    {
     "data": {
      "text/plain": [
       "2.5345018373000348"
      ]
     },
     "metadata": {},
     "output_type": "display_data"
    }
   ],
   "source": [
    "σₘ = std(all_firms_return_matrix[:, index_SPY])"
   ]
  },
  {
   "cell_type": "markdown",
   "id": "8333a859-2417-4d2b-9dc5-efe8ad5a2d65",
   "metadata": {
    "tags": []
   },
   "source": [
    "We populate the single index covariance array using nested `for` loops:"
   ]
  },
  {
   "cell_type": "code",
   "execution_count": 12,
   "id": "bdd12e1d-5b5c-42ad-99b2-cadbad237e2e",
   "metadata": {
    "tags": []
   },
   "outputs": [],
   "source": [
    "Σ_tmp = Array{Float64,2}(undef, length(μ), length(μ));\n",
    "for i ∈ eachindex(all_tickers)\n",
    "    outer_ticker = all_tickers[i];\n",
    "    sim_outer = sims[outer_ticker];\n",
    "    \n",
    "    for j ∈ eachindex(all_tickers)\n",
    "        \n",
    "        inner_ticker = all_tickers[j];\n",
    "        sim_inner = sims[inner_ticker];\n",
    "        \n",
    "        if (i == j)\n",
    "            βᵢ = sim_outer.β\n",
    "            ϵᵢ = sim_outer.ϵ\n",
    "            σ_ϵᵢ = params(ϵᵢ)[2];\n",
    "            Σ_tmp[i,j] = ((βᵢ)^2)*((σₘ)^2)+(σ_ϵᵢ)^2\n",
    "        else\n",
    "            βᵢ = sim_outer.β\n",
    "            βⱼ = sim_inner.β\n",
    "            Σ_tmp[i,j] = βᵢ*βⱼ*(σₘ)^2\n",
    "        end\n",
    "    end\n",
    "end\n",
    "Σ_sim  = Σ_tmp |> x-> x*(1/252);"
   ]
  },
  {
   "cell_type": "markdown",
   "id": "a5081f65-af79-44cc-956f-99d67742cd6e",
   "metadata": {},
   "source": [
    "## Loading the Efficient Frontier Collection and Select an Initial Portfolio"
   ]
  },
  {
   "cell_type": "markdown",
   "id": "ba019b3a-7f48-40e1-9ebe-c4aa5964e01b",
   "metadata": {},
   "source": [
    "Specify a value for the `total_initial_budget` variable:"
   ]
  },
  {
   "cell_type": "code",
   "execution_count": 13,
   "id": "017f24ab-dfa7-4b70-9c2d-a6c4c3d104da",
   "metadata": {
    "tags": []
   },
   "outputs": [],
   "source": [
    "total_initial_budget = 41585845.43; "
   ]
  },
  {
   "cell_type": "markdown",
   "id": "8e82cfa9-1eae-47b6-93b6-3b7d97e3c027",
   "metadata": {},
   "source": [
    "We have copied the efficient frontier file generated from `THP3/PD1` (or generate it now if you have not done so) into the `data` subdirectory, and update the filename in the expression below:"
   ]
  },
  {
   "cell_type": "code",
   "execution_count": 14,
   "id": "3f803dfa-b3cc-4270-8bc4-028e3a0f4ef5",
   "metadata": {
    "tags": []
   },
   "outputs": [
    {
     "data": {
      "text/html": [
       "<div><div style = \"float: left;\"><span>38×5 DataFrame</span></div><div style = \"float: right;\"><span style = \"font-style: italic;\">13 rows omitted</span></div><div style = \"clear: both;\"></div></div><div class = \"data-frame\" style = \"overflow-x: scroll;\"><table class = \"data-frame\" style = \"margin-bottom: 6px;\"><thead><tr class = \"header\"><th class = \"rowNumber\" style = \"font-weight: bold; text-align: right;\">Row</th><th style = \"text-align: left;\">expected_excess_return</th><th style = \"text-align: left;\">risk</th><th style = \"text-align: left;\">tickers</th><th style = \"text-align: left;\">w</th><th style = \"text-align: left;\">risk_free_rate</th></tr><tr class = \"subheader headerLastRow\"><th class = \"rowNumber\" style = \"font-weight: bold; text-align: right;\"></th><th title = \"Float64\" style = \"text-align: left;\">Float64</th><th title = \"Float64\" style = \"text-align: left;\">Float64</th><th title = \"Vector{String}\" style = \"text-align: left;\">Array…</th><th title = \"Vector{Float64}\" style = \"text-align: left;\">Array…</th><th title = \"Float64\" style = \"text-align: left;\">Float64</th></tr></thead><tbody><tr><td class = \"rowNumber\" style = \"font-weight: bold; text-align: right;\">1</td><td style = \"text-align: right;\">0.0898901</td><td style = \"text-align: right;\">0.181373</td><td style = \"text-align: left;\">[&quot;AAPL&quot;, &quot;MRK&quot;, &quot;GOOGL&quot;]</td><td style = \"text-align: left;\">[0.156496, 0.615885, 0.227619]</td><td style = \"text-align: right;\">0.05</td></tr><tr><td class = \"rowNumber\" style = \"font-weight: bold; text-align: right;\">2</td><td style = \"text-align: right;\">0.0898901</td><td style = \"text-align: right;\">0.181373</td><td style = \"text-align: left;\">[&quot;AAPL&quot;, &quot;MRK&quot;, &quot;GOOGL&quot;]</td><td style = \"text-align: left;\">[0.156496, 0.615885, 0.227619]</td><td style = \"text-align: right;\">0.05</td></tr><tr><td class = \"rowNumber\" style = \"font-weight: bold; text-align: right;\">3</td><td style = \"text-align: right;\">0.0898901</td><td style = \"text-align: right;\">0.181373</td><td style = \"text-align: left;\">[&quot;AAPL&quot;, &quot;MRK&quot;, &quot;GOOGL&quot;]</td><td style = \"text-align: left;\">[0.156496, 0.615885, 0.227619]</td><td style = \"text-align: right;\">0.05</td></tr><tr><td class = \"rowNumber\" style = \"font-weight: bold; text-align: right;\">4</td><td style = \"text-align: right;\">0.0898901</td><td style = \"text-align: right;\">0.181373</td><td style = \"text-align: left;\">[&quot;AAPL&quot;, &quot;MRK&quot;, &quot;GOOGL&quot;]</td><td style = \"text-align: left;\">[0.156496, 0.615885, 0.227619]</td><td style = \"text-align: right;\">0.05</td></tr><tr><td class = \"rowNumber\" style = \"font-weight: bold; text-align: right;\">5</td><td style = \"text-align: right;\">0.0898901</td><td style = \"text-align: right;\">0.181373</td><td style = \"text-align: left;\">[&quot;AAPL&quot;, &quot;MRK&quot;, &quot;GOOGL&quot;]</td><td style = \"text-align: left;\">[0.156496, 0.615885, 0.227619]</td><td style = \"text-align: right;\">0.05</td></tr><tr><td class = \"rowNumber\" style = \"font-weight: bold; text-align: right;\">6</td><td style = \"text-align: right;\">0.0898901</td><td style = \"text-align: right;\">0.181373</td><td style = \"text-align: left;\">[&quot;AAPL&quot;, &quot;MRK&quot;, &quot;GOOGL&quot;]</td><td style = \"text-align: left;\">[0.156496, 0.615885, 0.227619]</td><td style = \"text-align: right;\">0.05</td></tr><tr><td class = \"rowNumber\" style = \"font-weight: bold; text-align: right;\">7</td><td style = \"text-align: right;\">0.0898901</td><td style = \"text-align: right;\">0.181373</td><td style = \"text-align: left;\">[&quot;AAPL&quot;, &quot;MRK&quot;, &quot;GOOGL&quot;]</td><td style = \"text-align: left;\">[0.156496, 0.615885, 0.227619]</td><td style = \"text-align: right;\">0.05</td></tr><tr><td class = \"rowNumber\" style = \"font-weight: bold; text-align: right;\">8</td><td style = \"text-align: right;\">0.0898901</td><td style = \"text-align: right;\">0.181373</td><td style = \"text-align: left;\">[&quot;AAPL&quot;, &quot;MRK&quot;, &quot;GOOGL&quot;]</td><td style = \"text-align: left;\">[0.156496, 0.615885, 0.227619]</td><td style = \"text-align: right;\">0.05</td></tr><tr><td class = \"rowNumber\" style = \"font-weight: bold; text-align: right;\">9</td><td style = \"text-align: right;\">0.0898901</td><td style = \"text-align: right;\">0.181373</td><td style = \"text-align: left;\">[&quot;AAPL&quot;, &quot;MRK&quot;, &quot;GOOGL&quot;]</td><td style = \"text-align: left;\">[0.156496, 0.615885, 0.227619]</td><td style = \"text-align: right;\">0.05</td></tr><tr><td class = \"rowNumber\" style = \"font-weight: bold; text-align: right;\">10</td><td style = \"text-align: right;\">0.0898901</td><td style = \"text-align: right;\">0.181373</td><td style = \"text-align: left;\">[&quot;AAPL&quot;, &quot;MRK&quot;, &quot;GOOGL&quot;]</td><td style = \"text-align: left;\">[0.156496, 0.615885, 0.227619]</td><td style = \"text-align: right;\">0.05</td></tr><tr><td class = \"rowNumber\" style = \"font-weight: bold; text-align: right;\">11</td><td style = \"text-align: right;\">0.0898901</td><td style = \"text-align: right;\">0.181373</td><td style = \"text-align: left;\">[&quot;AAPL&quot;, &quot;MRK&quot;, &quot;GOOGL&quot;]</td><td style = \"text-align: left;\">[0.156496, 0.615885, 0.227619]</td><td style = \"text-align: right;\">0.05</td></tr><tr><td class = \"rowNumber\" style = \"font-weight: bold; text-align: right;\">12</td><td style = \"text-align: right;\">0.0898901</td><td style = \"text-align: right;\">0.181373</td><td style = \"text-align: left;\">[&quot;AAPL&quot;, &quot;MRK&quot;, &quot;GOOGL&quot;]</td><td style = \"text-align: left;\">[0.156496, 0.615885, 0.227619]</td><td style = \"text-align: right;\">0.05</td></tr><tr><td class = \"rowNumber\" style = \"font-weight: bold; text-align: right;\">13</td><td style = \"text-align: right;\">0.0898901</td><td style = \"text-align: right;\">0.181373</td><td style = \"text-align: left;\">[&quot;AAPL&quot;, &quot;MRK&quot;, &quot;GOOGL&quot;]</td><td style = \"text-align: left;\">[0.156496, 0.615885, 0.227619]</td><td style = \"text-align: right;\">0.05</td></tr><tr><td style = \"text-align: right;\">&vellip;</td><td style = \"text-align: right;\">&vellip;</td><td style = \"text-align: right;\">&vellip;</td><td style = \"text-align: right;\">&vellip;</td><td style = \"text-align: right;\">&vellip;</td><td style = \"text-align: right;\">&vellip;</td></tr><tr><td class = \"rowNumber\" style = \"font-weight: bold; text-align: right;\">27</td><td style = \"text-align: right;\">0.118182</td><td style = \"text-align: right;\">0.189875</td><td style = \"text-align: left;\">[&quot;AAPL&quot;, &quot;MRK&quot;, &quot;GOOGL&quot;]</td><td style = \"text-align: left;\">[0.394546, 0.590487, 0.014968]</td><td style = \"text-align: right;\">0.05</td></tr><tr><td class = \"rowNumber\" style = \"font-weight: bold; text-align: right;\">28</td><td style = \"text-align: right;\">0.122727</td><td style = \"text-align: right;\">0.192872</td><td style = \"text-align: left;\">[&quot;AAPL&quot;, &quot;MRK&quot;, &quot;GOOGL&quot;]</td><td style = \"text-align: left;\">[0.442321, 0.557679, 4.60591e-7]</td><td style = \"text-align: right;\">0.05</td></tr><tr><td class = \"rowNumber\" style = \"font-weight: bold; text-align: right;\">29</td><td style = \"text-align: right;\">0.127273</td><td style = \"text-align: right;\">0.196987</td><td style = \"text-align: left;\">[&quot;AAPL&quot;, &quot;MRK&quot;, &quot;GOOGL&quot;]</td><td style = \"text-align: left;\">[0.497526, 0.502474, 1.58459e-7]</td><td style = \"text-align: right;\">0.05</td></tr><tr><td class = \"rowNumber\" style = \"font-weight: bold; text-align: right;\">30</td><td style = \"text-align: right;\">0.131818</td><td style = \"text-align: right;\">0.20223</td><td style = \"text-align: left;\">[&quot;AAPL&quot;, &quot;MRK&quot;, &quot;GOOGL&quot;]</td><td style = \"text-align: left;\">[0.55273, 0.447269, 2.47824e-7]</td><td style = \"text-align: right;\">0.05</td></tr><tr><td class = \"rowNumber\" style = \"font-weight: bold; text-align: right;\">31</td><td style = \"text-align: right;\">0.136364</td><td style = \"text-align: right;\">0.208516</td><td style = \"text-align: left;\">[&quot;AAPL&quot;, &quot;MRK&quot;, &quot;GOOGL&quot;]</td><td style = \"text-align: left;\">[0.607935, 0.392065, 1.09902e-7]</td><td style = \"text-align: right;\">0.05</td></tr><tr><td class = \"rowNumber\" style = \"font-weight: bold; text-align: right;\">32</td><td style = \"text-align: right;\">0.140909</td><td style = \"text-align: right;\">0.215753</td><td style = \"text-align: left;\">[&quot;AAPL&quot;, &quot;MRK&quot;, &quot;GOOGL&quot;]</td><td style = \"text-align: left;\">[0.66314, 0.33686, 7.1793e-8]</td><td style = \"text-align: right;\">0.05</td></tr><tr><td class = \"rowNumber\" style = \"font-weight: bold; text-align: right;\">33</td><td style = \"text-align: right;\">0.145455</td><td style = \"text-align: right;\">0.223848</td><td style = \"text-align: left;\">[&quot;AAPL&quot;, &quot;MRK&quot;, &quot;GOOGL&quot;]</td><td style = \"text-align: left;\">[0.718345, 0.281655, -8.11387e-9]</td><td style = \"text-align: right;\">0.05</td></tr><tr><td class = \"rowNumber\" style = \"font-weight: bold; text-align: right;\">34</td><td style = \"text-align: right;\">0.15</td><td style = \"text-align: right;\">0.232714</td><td style = \"text-align: left;\">[&quot;AAPL&quot;, &quot;MRK&quot;, &quot;GOOGL&quot;]</td><td style = \"text-align: left;\">[0.77355, 0.22645, -8.4013e-9]</td><td style = \"text-align: right;\">0.05</td></tr><tr><td class = \"rowNumber\" style = \"font-weight: bold; text-align: right;\">35</td><td style = \"text-align: right;\">0.154545</td><td style = \"text-align: right;\">0.242264</td><td style = \"text-align: left;\">[&quot;AAPL&quot;, &quot;MRK&quot;, &quot;GOOGL&quot;]</td><td style = \"text-align: left;\">[0.828755, 0.171245, 6.94535e-8]</td><td style = \"text-align: right;\">0.05</td></tr><tr><td class = \"rowNumber\" style = \"font-weight: bold; text-align: right;\">36</td><td style = \"text-align: right;\">0.159091</td><td style = \"text-align: right;\">0.252422</td><td style = \"text-align: left;\">[&quot;AAPL&quot;, &quot;MRK&quot;, &quot;GOOGL&quot;]</td><td style = \"text-align: left;\">[0.88396, 0.11604, 7.06653e-8]</td><td style = \"text-align: right;\">0.05</td></tr><tr><td class = \"rowNumber\" style = \"font-weight: bold; text-align: right;\">37</td><td style = \"text-align: right;\">0.163636</td><td style = \"text-align: right;\">0.263116</td><td style = \"text-align: left;\">[&quot;AAPL&quot;, &quot;MRK&quot;, &quot;GOOGL&quot;]</td><td style = \"text-align: left;\">[0.939165, 0.0608354, 1.74927e-8]</td><td style = \"text-align: right;\">0.05</td></tr><tr><td class = \"rowNumber\" style = \"font-weight: bold; text-align: right;\">38</td><td style = \"text-align: right;\">0.168182</td><td style = \"text-align: right;\">0.274285</td><td style = \"text-align: left;\">[&quot;AAPL&quot;, &quot;MRK&quot;, &quot;GOOGL&quot;]</td><td style = \"text-align: left;\">[0.994369, 0.00563054, 1.48888e-8]</td><td style = \"text-align: right;\">0.05</td></tr></tbody></table></div>"
      ],
      "text/latex": [
       "\\begin{tabular}{r|ccccc}\n",
       "\t& expected\\_excess\\_return & risk & tickers & w & \\\\\n",
       "\t\\hline\n",
       "\t& Float64 & Float64 & Array… & Array… & \\\\\n",
       "\t\\hline\n",
       "\t1 & 0.0898901 & 0.181373 & [\"AAPL\", \"MRK\", \"GOOGL\"] & [0.156496, 0.615885, 0.227619] & $\\dots$ \\\\\n",
       "\t2 & 0.0898901 & 0.181373 & [\"AAPL\", \"MRK\", \"GOOGL\"] & [0.156496, 0.615885, 0.227619] & $\\dots$ \\\\\n",
       "\t3 & 0.0898901 & 0.181373 & [\"AAPL\", \"MRK\", \"GOOGL\"] & [0.156496, 0.615885, 0.227619] & $\\dots$ \\\\\n",
       "\t4 & 0.0898901 & 0.181373 & [\"AAPL\", \"MRK\", \"GOOGL\"] & [0.156496, 0.615885, 0.227619] & $\\dots$ \\\\\n",
       "\t5 & 0.0898901 & 0.181373 & [\"AAPL\", \"MRK\", \"GOOGL\"] & [0.156496, 0.615885, 0.227619] & $\\dots$ \\\\\n",
       "\t6 & 0.0898901 & 0.181373 & [\"AAPL\", \"MRK\", \"GOOGL\"] & [0.156496, 0.615885, 0.227619] & $\\dots$ \\\\\n",
       "\t7 & 0.0898901 & 0.181373 & [\"AAPL\", \"MRK\", \"GOOGL\"] & [0.156496, 0.615885, 0.227619] & $\\dots$ \\\\\n",
       "\t8 & 0.0898901 & 0.181373 & [\"AAPL\", \"MRK\", \"GOOGL\"] & [0.156496, 0.615885, 0.227619] & $\\dots$ \\\\\n",
       "\t9 & 0.0898901 & 0.181373 & [\"AAPL\", \"MRK\", \"GOOGL\"] & [0.156496, 0.615885, 0.227619] & $\\dots$ \\\\\n",
       "\t10 & 0.0898901 & 0.181373 & [\"AAPL\", \"MRK\", \"GOOGL\"] & [0.156496, 0.615885, 0.227619] & $\\dots$ \\\\\n",
       "\t11 & 0.0898901 & 0.181373 & [\"AAPL\", \"MRK\", \"GOOGL\"] & [0.156496, 0.615885, 0.227619] & $\\dots$ \\\\\n",
       "\t12 & 0.0898901 & 0.181373 & [\"AAPL\", \"MRK\", \"GOOGL\"] & [0.156496, 0.615885, 0.227619] & $\\dots$ \\\\\n",
       "\t13 & 0.0898901 & 0.181373 & [\"AAPL\", \"MRK\", \"GOOGL\"] & [0.156496, 0.615885, 0.227619] & $\\dots$ \\\\\n",
       "\t14 & 0.0898901 & 0.181373 & [\"AAPL\", \"MRK\", \"GOOGL\"] & [0.156496, 0.615885, 0.227619] & $\\dots$ \\\\\n",
       "\t15 & 0.0898901 & 0.181373 & [\"AAPL\", \"MRK\", \"GOOGL\"] & [0.156496, 0.615885, 0.227619] & $\\dots$ \\\\\n",
       "\t16 & 0.0898902 & 0.181373 & [\"AAPL\", \"MRK\", \"GOOGL\"] & [0.156496, 0.615885, 0.227619] & $\\dots$ \\\\\n",
       "\t17 & 0.0898902 & 0.181373 & [\"AAPL\", \"MRK\", \"GOOGL\"] & [0.156497, 0.615885, 0.227619] & $\\dots$ \\\\\n",
       "\t18 & 0.0898902 & 0.181373 & [\"AAPL\", \"MRK\", \"GOOGL\"] & [0.156497, 0.615885, 0.227619] & $\\dots$ \\\\\n",
       "\t19 & 0.0898902 & 0.181373 & [\"AAPL\", \"MRK\", \"GOOGL\"] & [0.156497, 0.615885, 0.227619] & $\\dots$ \\\\\n",
       "\t20 & 0.0898902 & 0.181373 & [\"AAPL\", \"MRK\", \"GOOGL\"] & [0.156497, 0.615885, 0.227618] & $\\dots$ \\\\\n",
       "\t21 & 0.0909097 & 0.181384 & [\"AAPL\", \"MRK\", \"GOOGL\"] & [0.165075, 0.614969, 0.219956] & $\\dots$ \\\\\n",
       "\t22 & 0.0954547 & 0.181709 & [\"AAPL\", \"MRK\", \"GOOGL\"] & [0.203317, 0.610889, 0.185794] & $\\dots$ \\\\\n",
       "\t23 & 0.1 & 0.182481 & [\"AAPL\", \"MRK\", \"GOOGL\"] & [0.241562, 0.606809, 0.151629] & $\\dots$ \\\\\n",
       "\t24 & 0.104546 & 0.183693 & [\"AAPL\", \"MRK\", \"GOOGL\"] & [0.279808, 0.602729, 0.117463] & $\\dots$ \\\\\n",
       "\t$\\dots$ & $\\dots$ & $\\dots$ & $\\dots$ & $\\dots$ &  \\\\\n",
       "\\end{tabular}\n"
      ],
      "text/plain": [
       "\u001b[1m38×5 DataFrame\u001b[0m\n",
       "\u001b[1m Row \u001b[0m│\u001b[1m expected_excess_return \u001b[0m\u001b[1m risk     \u001b[0m\u001b[1m tickers                  \u001b[0m\u001b[1m w          \u001b[0m ⋯\n",
       "     │\u001b[90m Float64                \u001b[0m\u001b[90m Float64  \u001b[0m\u001b[90m Array…                   \u001b[0m\u001b[90m Array…     \u001b[0m ⋯\n",
       "─────┼──────────────────────────────────────────────────────────────────────────\n",
       "   1 │              0.0898901  0.181373  [\"AAPL\", \"MRK\", \"GOOGL\"]  [0.156496,  ⋯\n",
       "   2 │              0.0898901  0.181373  [\"AAPL\", \"MRK\", \"GOOGL\"]  [0.156496,\n",
       "   3 │              0.0898901  0.181373  [\"AAPL\", \"MRK\", \"GOOGL\"]  [0.156496,\n",
       "   4 │              0.0898901  0.181373  [\"AAPL\", \"MRK\", \"GOOGL\"]  [0.156496,\n",
       "   5 │              0.0898901  0.181373  [\"AAPL\", \"MRK\", \"GOOGL\"]  [0.156496,  ⋯\n",
       "   6 │              0.0898901  0.181373  [\"AAPL\", \"MRK\", \"GOOGL\"]  [0.156496,\n",
       "   7 │              0.0898901  0.181373  [\"AAPL\", \"MRK\", \"GOOGL\"]  [0.156496,\n",
       "   8 │              0.0898901  0.181373  [\"AAPL\", \"MRK\", \"GOOGL\"]  [0.156496,\n",
       "  ⋮  │           ⋮                ⋮                 ⋮                          ⋱\n",
       "  32 │              0.140909   0.215753  [\"AAPL\", \"MRK\", \"GOOGL\"]  [0.66314, 0 ⋯\n",
       "  33 │              0.145455   0.223848  [\"AAPL\", \"MRK\", \"GOOGL\"]  [0.718345,\n",
       "  34 │              0.15       0.232714  [\"AAPL\", \"MRK\", \"GOOGL\"]  [0.77355, 0\n",
       "  35 │              0.154545   0.242264  [\"AAPL\", \"MRK\", \"GOOGL\"]  [0.828755,\n",
       "  36 │              0.159091   0.252422  [\"AAPL\", \"MRK\", \"GOOGL\"]  [0.88396, 0 ⋯\n",
       "  37 │              0.163636   0.263116  [\"AAPL\", \"MRK\", \"GOOGL\"]  [0.939165,\n",
       "  38 │              0.168182   0.274285  [\"AAPL\", \"MRK\", \"GOOGL\"]  [0.994369,\n",
       "\u001b[36m                                                   2 columns and 23 rows omitted\u001b[0m"
      ]
     },
     "metadata": {},
     "output_type": "display_data"
    }
   ],
   "source": [
    "efficient_frontier = load(joinpath(_PATH_TO_DATA,\n",
    "        \"EfficientFrontier-af626_project-PD1-CHEME-5660-Fall-2023.jld2\")) |> x->x[\"dataset\"]"
   ]
  },
  {
   "cell_type": "markdown",
   "id": "339f136f-90c7-4f87-9647-1a0e835375f2",
   "metadata": {},
   "source": [
    "Specifying which initial portfolio you wish to select, by setting the value of the `portfolio_index` variable:"
   ]
  },
  {
   "cell_type": "code",
   "execution_count": 15,
   "id": "407f53bb-4505-4d83-bdac-835cbff222b4",
   "metadata": {
    "tags": []
   },
   "outputs": [],
   "source": [
    "portfolio_index = 28;"
   ]
  },
  {
   "cell_type": "code",
   "execution_count": 16,
   "id": "f083c25d-b7e5-433e-84a7-b65ee37f530a",
   "metadata": {
    "tags": []
   },
   "outputs": [
    {
     "name": "stdout",
     "output_type": "stream",
     "text": [
      "The expected excess return for portfolio 28 equals 0.123 with risk = 0.192872\n"
     ]
    }
   ],
   "source": [
    "my_list_of_tickers = efficient_frontier[portfolio_index,:tickers];\n",
    "w = efficient_frontier[portfolio_index,:w] .|> x-> round(x,digits=6) .|> abs;\n",
    "risk = efficient_frontier[portfolio_index,:risk] .|> x-> round(x,digits=6) .|> abs;\n",
    "expected_excess_return = efficient_frontier[portfolio_index,:expected_excess_return] |> x-> round(x,digits=3)\n",
    "println(\"The expected excess return for portfolio $(portfolio_index) equals $(expected_excess_return) with risk = $(risk)\")"
   ]
  },
  {
   "cell_type": "markdown",
   "id": "b71ab0c3-a83f-403d-933d-14b629e6027a",
   "metadata": {},
   "source": [
    "#### What is in this portfolio?"
   ]
  },
  {
   "cell_type": "code",
   "execution_count": 17,
   "id": "f1dde4a0-c8d1-487b-bb8b-ed70abd44349",
   "metadata": {
    "tags": []
   },
   "outputs": [
    {
     "data": {
      "text/html": [
       "<div><div style = \"float: left;\"><span>3×2 DataFrame</span></div><div style = \"clear: both;\"></div></div><div class = \"data-frame\" style = \"overflow-x: scroll;\"><table class = \"data-frame\" style = \"margin-bottom: 6px;\"><thead><tr class = \"header\"><th class = \"rowNumber\" style = \"font-weight: bold; text-align: right;\">Row</th><th style = \"text-align: left;\">ticker</th><th style = \"text-align: left;\">allocation</th></tr><tr class = \"subheader headerLastRow\"><th class = \"rowNumber\" style = \"font-weight: bold; text-align: right;\"></th><th title = \"String\" style = \"text-align: left;\">String</th><th title = \"Float64\" style = \"text-align: left;\">Float64</th></tr></thead><tbody><tr><td class = \"rowNumber\" style = \"font-weight: bold; text-align: right;\">1</td><td style = \"text-align: left;\">AAPL</td><td style = \"text-align: right;\">0.442321</td></tr><tr><td class = \"rowNumber\" style = \"font-weight: bold; text-align: right;\">2</td><td style = \"text-align: left;\">MRK</td><td style = \"text-align: right;\">0.557679</td></tr><tr><td class = \"rowNumber\" style = \"font-weight: bold; text-align: right;\">3</td><td style = \"text-align: left;\">GOOGL</td><td style = \"text-align: right;\">0.0</td></tr></tbody></table></div>"
      ],
      "text/latex": [
       "\\begin{tabular}{r|cc}\n",
       "\t& ticker & allocation\\\\\n",
       "\t\\hline\n",
       "\t& String & Float64\\\\\n",
       "\t\\hline\n",
       "\t1 & AAPL & 0.442321 \\\\\n",
       "\t2 & MRK & 0.557679 \\\\\n",
       "\t3 & GOOGL & 0.0 \\\\\n",
       "\\end{tabular}\n"
      ],
      "text/plain": [
       "\u001b[1m3×2 DataFrame\u001b[0m\n",
       "\u001b[1m Row \u001b[0m│\u001b[1m ticker \u001b[0m\u001b[1m allocation \u001b[0m\n",
       "     │\u001b[90m String \u001b[0m\u001b[90m Float64    \u001b[0m\n",
       "─────┼────────────────────\n",
       "   1 │ AAPL      0.442321\n",
       "   2 │ MRK       0.557679\n",
       "   3 │ GOOGL     0.0"
      ]
     },
     "metadata": {},
     "output_type": "display_data"
    }
   ],
   "source": [
    "tmp_df = DataFrame();\n",
    "for i ∈ eachindex(w)\n",
    "    wᵢ = w[i];\n",
    "    row_df = (\n",
    "        ticker = my_list_of_tickers[i],\n",
    "        allocation = wᵢ\n",
    "    );\n",
    "    push!(tmp_df, row_df);\n",
    "end\n",
    "tmp_df"
   ]
  },
  {
   "cell_type": "markdown",
   "id": "998f6e63-cc2e-4af0-877e-3b4c3dcb401a",
   "metadata": {},
   "source": [
    "### Compute the number of shares of each asset in your initial portfolio"
   ]
  },
  {
   "cell_type": "markdown",
   "id": "fd58d6a3-275e-418d-a09a-74388f57c722",
   "metadata": {},
   "source": [
    "Get the `close` share price for each asset in the portfolio for the `startdate`. We'll store these values in the `Sₒ::Array{Float64,1}` variable:"
   ]
  },
  {
   "cell_type": "code",
   "execution_count": 18,
   "id": "0b50e1c9-2a84-4540-b784-a0e145220f32",
   "metadata": {
    "tags": []
   },
   "outputs": [],
   "source": [
    "Sₒ = Array{Float64,1}() # these are close prices at the end of Jan 3, 2023\n",
    "for ticker ∈ my_list_of_tickers\n",
    "    price_df = dataset[ticker];\n",
    "    startprice = filter(:timestamp => x-> x >= startdate, price_df) |> x-> x[1,:close] \n",
    "    push!(Sₒ,startprice)\n",
    "end"
   ]
  },
  {
   "cell_type": "markdown",
   "id": "5508b048-55bf-4c7a-8cdf-c8176c7a7c6b",
   "metadata": {},
   "source": [
    "Now that we have the `total_budget`, and the share price array `Sₒ`, we compute the number of shares of each asset that corresponds to the optimal allocation (the point in the efficient frontier) and store these values in the `Nₒ::Array{Float64,1}` variable (in this case, we allow for fractional shares):"
   ]
  },
  {
   "cell_type": "code",
   "execution_count": 19,
   "id": "fafe2da0-403c-41ee-961e-136b62badb74",
   "metadata": {
    "tags": []
   },
   "outputs": [
    {
     "data": {
      "text/plain": [
       "3-element Vector{Float64}:\n",
       " 147071.98158185842\n",
       " 208669.7201147829\n",
       "      0.0"
      ]
     },
     "metadata": {},
     "output_type": "display_data"
    }
   ],
   "source": [
    "Nₒ = Array{Float64,1}()\n",
    "for i ∈ eachindex(w)\n",
    "    \n",
    "    wᵢ = w[i]\n",
    "    nᵢ = (wᵢ*total_initial_budget)/Sₒ[i];\n",
    "    push!(Nₒ,nᵢ)\n",
    "end\n",
    "Nₒ"
   ]
  },
  {
   "cell_type": "markdown",
   "id": "edfea004-7889-460a-b612-e70fb6d46c97",
   "metadata": {},
   "source": [
    "## Reallocate your portfolio after the close every day\n",
    "In `task 2` we'll solve the Minimum Variance allocation problem to estimate the dollar fractions $\\omega_{i}$ for each portfolio component. We'll keep the covariance matrix $\\hat{\\Sigma}$ the same but update the `expected return` using current market data. In particular, suppose we update the expected return after each trading data using the update rule (incremental average):\n",
    "\n",
    "$$\n",
    "\\hat{\\mu}_{i,k} = \\hat{\\mu}_{i,k-1} + \\alpha\\cdot\\left(\\mu_{i,k}-\\hat{\\mu}_{i,k-1}\\right)\\qquad{i\\in\\mathcal{P}}\n",
    "$$\n",
    "\n",
    "where $\\hat{\\mu}_{i,k}$ denotes the estimated average return for asset $i$ at time $k$, $\\mu_{i,k}$ denotes the observed return for asset $i$ at time $k$ asset $i$ at time $k$, and $\\alpha\\geq{0}$ denotes the `learning rate` hyperparameter (you specify a value for this parameter). We'll initialize $\\hat{\\mu}_{i,k}$ using the historical expected value computed from the `2018` to `2022` data."
   ]
  },
  {
   "cell_type": "code",
   "execution_count": 20,
   "id": "554ab89b-b890-4e88-bcbe-4930c67e9b4e",
   "metadata": {
    "tags": []
   },
   "outputs": [],
   "source": [
    "number_of_trading_days = 230;"
   ]
  },
  {
   "cell_type": "code",
   "execution_count": 21,
   "id": "38fdd78d-62de-4543-8af8-af15713dfe44",
   "metadata": {
    "jupyter": {
     "source_hidden": true
    },
    "tags": []
   },
   "outputs": [],
   "source": [
    "# --- DO NOT CHANGE THIS BLOCK ----------------------------------------- #\n",
    "my_list_of_firm_ids = Array{Int64,1}();\n",
    "for ticker ∈ my_list_of_tickers\n",
    "    firm_index = findfirst(x->x==ticker, all_tickers);    \n",
    "    push!(my_list_of_firm_ids, firm_index)\n",
    "end\n",
    "# ---------------------------------------------------------------------- #\n",
    "\n",
    "# --- DO NOT CHANGE THIS BLOCK ----------------------------------------- #\n",
    "μ̂ = Array{Float64,1}();\n",
    "for firm_index ∈ my_list_of_firm_ids\n",
    "    push!(μ̂, μ[firm_index])\n",
    "end\n",
    "# ---------------------------------------------------------------------- #\n",
    "\n",
    "# --- DO NOT CHANGE THIS BLOCK FOR SIM  -------------------------------- #\n",
    "my_number_of_selected_firms = length(my_list_of_firm_ids)\n",
    "Σ̂ = Array{Float64,2}(undef, my_number_of_selected_firms, my_number_of_selected_firms);\n",
    "for i ∈ eachindex(my_list_of_firm_ids)\n",
    "    row_firm_index = my_list_of_firm_ids[i]\n",
    "    for j ∈ eachindex(my_list_of_firm_ids)\n",
    "        col_firm_index = my_list_of_firm_ids[j]\n",
    "        Σ̂[i,j] = Σ_sim[row_firm_index, col_firm_index]\n",
    "    end\n",
    "end\n",
    "# ---------------------------------------------------------------------- #"
   ]
  },
  {
   "cell_type": "markdown",
   "id": "ce8bdff6-3124-40e6-a93e-2f87452a0c15",
   "metadata": {},
   "source": [
    "Specifying the learning rate parameter $\\alpha\\geq{0}$."
   ]
  },
  {
   "cell_type": "code",
   "execution_count": 22,
   "id": "92d5041a-4517-4593-ad29-3ca1d9b4cbdf",
   "metadata": {
    "tags": []
   },
   "outputs": [],
   "source": [
    "α = 0.01; # learning rate"
   ]
  },
  {
   "cell_type": "markdown",
   "id": "5f30cf00-ff71-41b5-9cd7-8a854cf67168",
   "metadata": {},
   "source": [
    "Build an instance of the `MyMarkowitzRiskyAssetOnlyPortfiolioChoiceProblem` type, using the `build(...)` method. Save the `sim` version of the problem in the `problem_risk_sim` variable:"
   ]
  },
  {
   "cell_type": "code",
   "execution_count": 23,
   "id": "68c561cc-cb33-431d-95a7-3c24ca0eab13",
   "metadata": {
    "tags": []
   },
   "outputs": [],
   "source": [
    "# setup the bounds\n",
    "number_of_firms = length(my_list_of_tickers);\n",
    "bounds = zeros(number_of_firms,2);\n",
    "bounds[:,2] .= 1.0;\n",
    "\n",
    "# build an inital problem instance (we'll update in the main simulation loop)\n",
    "problem_risk_sim = build(MyMarkowitzRiskyAssetOnlyPortfiolioChoiceProblem, (\n",
    "    Σ = Σ̂,\n",
    "    μ = μ̂,\n",
    "    bounds = bounds,\n",
    "    initial = w, # let start with the initial optimal allocation \n",
    "    R = 0.0\n",
    "));"
   ]
  },
  {
   "cell_type": "markdown",
   "id": "4a9b4e61-8d9e-4644-83e4-f10283f9c5c0",
   "metadata": {},
   "source": [
    "Next, construct a [Queue](https://en.wikipedia.org/wiki/Queue_(abstract_data_type)) data structure (exported by the [DataStructures.jl](https://juliacollections.github.io/DataStructures.jl/stable/stack_and_queue/) package, holding the `close` price of each asset in your portfolio, for each trading day we are considering. Store these values in the `next_market_day_close_queue` variable:"
   ]
  },
  {
   "cell_type": "code",
   "execution_count": 24,
   "id": "ba646adf-7d55-4688-9f92-f51658b43568",
   "metadata": {
    "tags": []
   },
   "outputs": [],
   "source": [
    "next_market_day_close_queue = Queue{Vector{Float64}}()\n",
    "for i ∈ 2:(number_of_trading_days + 1)\n",
    "    \n",
    "    price_array = Array{Float64,1}();\n",
    "    for ticker ∈ my_list_of_tickers\n",
    "        price_df = dataset[ticker];\n",
    "        startprice = filter(:timestamp => x-> x >= startdate, price_df) |> x-> x[i,:close] # get the close price starting *after* Jan 03, 2023\n",
    "        push!(price_array,startprice)\n",
    "    end\n",
    "    \n",
    "    # add the price array to the queue -\n",
    "    enqueue!(next_market_day_close_queue, price_array);\n",
    "end"
   ]
  },
  {
   "cell_type": "markdown",
   "id": "1adb1ca7-76d8-4b2b-875b-79a3f8fecfff",
   "metadata": {},
   "source": [
    "Specifying the minimum desired return in the `minimum_desired_return` variable (as a multiple of the historical expected return of `SPY`):"
   ]
  },
  {
   "cell_type": "code",
   "execution_count": 25,
   "id": "c6ab4ad9-ff3b-4dc4-b18e-e4e561d90c56",
   "metadata": {
    "tags": []
   },
   "outputs": [
    {
     "data": {
      "text/plain": [
       "0.3131573530960805"
      ]
     },
     "metadata": {},
     "output_type": "display_data"
    }
   ],
   "source": [
    "minimum_desired_return = 3.5*r_SPY # multiple of expected SPY return"
   ]
  },
  {
   "cell_type": "markdown",
   "id": "0d10842d-ad2b-4efd-a6e2-61f2e229d2c7",
   "metadata": {},
   "source": [
    "#### Main simulation loop\n",
    "In this block of code, let's simulate the reallocation of our portfolio after the close of the market each day using a `while` loop. In particular,\n",
    "* First, `dequeue!(..)` a close price array from the `next_market_day_close_queue`; this gives us a `close` price for each asset in our portfolio at the end of the market day\n",
    "* Next, we calculate the observed annualized return for each asset at the end of the day; this is the $\\mu_{i,k}$ value we'll use to update the expected returns\n",
    "* Then, we calculate an updated value for the expected annualized return using the above mentioned incremental update rule. Once completed, we update the `problem_risk_sim` object and solve the MinVar allocation problem with the updated expected return values.\n",
    "* We then use the new optimal values for the dollar fractions $\\omega_{i}$ to reallocate the entire portfolio (we liquidate the portfolio and take the proceeds to purchase the appropriate asset mix).\n",
    "* Finally, we capture data from the loop and store this in the `my_results_df::DataFrame` variable"
   ]
  },
  {
   "cell_type": "code",
   "execution_count": 26,
   "id": "d7d53190-3932-4407-ba8e-ad7f4f8d845d",
   "metadata": {
    "jupyter": {
     "source_hidden": true
    },
    "tags": []
   },
   "outputs": [
    {
     "data": {
      "text/html": [
       "<div><div style = \"float: left;\"><span>230×10 DataFrame</span></div><div style = \"float: right;\"><span style = \"font-style: italic;\">205 rows omitted</span></div><div style = \"clear: both;\"></div></div><div class = \"data-frame\" style = \"overflow-x: scroll;\"><table class = \"data-frame\" style = \"margin-bottom: 6px;\"><thead><tr class = \"header\"><th class = \"rowNumber\" style = \"font-weight: bold; text-align: right;\">Row</th><th style = \"text-align: left;\">N_new</th><th style = \"text-align: left;\">N_old</th><th style = \"text-align: left;\">w_old</th><th style = \"text-align: left;\">w_new</th><th style = \"text-align: left;\">μ_previous</th><th style = \"text-align: left;\">μ_new</th><th style = \"text-align: left;\">previous_close</th><th style = \"text-align: left;\">current_close</th><th style = \"text-align: left;\">liquidation_value_of_porfolio</th><th style = \"text-align: left;\">risk</th></tr><tr class = \"subheader headerLastRow\"><th class = \"rowNumber\" style = \"font-weight: bold; text-align: right;\"></th><th title = \"Vector{Float64}\" style = \"text-align: left;\">Array…</th><th title = \"Vector{Float64}\" style = \"text-align: left;\">Array…</th><th title = \"Vector{Float64}\" style = \"text-align: left;\">Array…</th><th title = \"Vector{Float64}\" style = \"text-align: left;\">Array…</th><th title = \"Vector{Float64}\" style = \"text-align: left;\">Array…</th><th title = \"Vector{Float64}\" style = \"text-align: left;\">Array…</th><th title = \"Vector{Float64}\" style = \"text-align: left;\">Array…</th><th title = \"Vector{Float64}\" style = \"text-align: left;\">Array…</th><th title = \"Float64\" style = \"text-align: left;\">Float64</th><th title = \"Float64\" style = \"text-align: left;\">Float64</th></tr></thead><tbody><tr><td class = \"rowNumber\" style = \"font-weight: bold; text-align: right;\">1</td><td style = \"text-align: left;\">[1.46921e5, 2.0884e5, 0.0]</td><td style = \"text-align: left;\">[147072.0, 2.0867e5, 0.0]</td><td style = \"text-align: left;\">[0.442321, 0.557679, 0.0]</td><td style = \"text-align: left;\">[0.442321, 0.557679, 0.0]</td><td style = \"text-align: left;\">[0.251306, 0.103371, 0.149501]</td><td style = \"text-align: left;\">[0.274651, 0.123561, 0.118426]</td><td style = \"text-align: left;\">[125.07, 111.14, 89.12]</td><td style = \"text-align: left;\">[126.36, 112.08, 88.08]</td><td style = \"text-align: right;\">4.19717e7</td><td style = \"text-align: right;\">0.192872</td></tr><tr><td class = \"rowNumber\" style = \"font-weight: bold; text-align: right;\">2</td><td style = \"text-align: left;\">[1.48952e5, 2.06605e5, 0.0]</td><td style = \"text-align: left;\">[1.46921e5, 2.0884e5, 0.0]</td><td style = \"text-align: left;\">[0.442321, 0.557679, 0.0]</td><td style = \"text-align: left;\">[0.442321, 0.557679, 0.0]</td><td style = \"text-align: left;\">[0.274651, 0.123561, 0.118426]</td><td style = \"text-align: left;\">[0.245038, 0.157158, 0.0628716]</td><td style = \"text-align: left;\">[126.36, 112.08, 88.08]</td><td style = \"text-align: left;\">[125.02, 113.64, 86.2]</td><td style = \"text-align: right;\">4.21006e7</td><td style = \"text-align: right;\">0.192872</td></tr><tr><td class = \"rowNumber\" style = \"font-weight: bold; text-align: right;\">3</td><td style = \"text-align: left;\">[2.8713e5, 50644.2, 0.0347869]</td><td style = \"text-align: left;\">[1.48952e5, 2.06605e5, 0.0]</td><td style = \"text-align: left;\">[0.442321, 0.557679, 0.0]</td><td style = \"text-align: left;\">[0.864851, 0.135149, 7.06024e-8]</td><td style = \"text-align: left;\">[0.245038, 0.157158, 0.0628716]</td><td style = \"text-align: left;\">[0.333644, 0.182058, 0.0953515]</td><td style = \"text-align: left;\">[125.02, 113.64, 86.2]</td><td style = \"text-align: left;\">[129.62, 114.84, 87.34]</td><td style = \"text-align: right;\">4.30337e7</td><td style = \"text-align: right;\">0.242315</td></tr><tr><td class = \"rowNumber\" style = \"font-weight: bold; text-align: right;\">4</td><td style = \"text-align: left;\">[2.95276e5, 41038.4, 0.0576657]</td><td style = \"text-align: left;\">[2.8713e5, 50644.2, 0.0347869]</td><td style = \"text-align: left;\">[0.442321, 0.557679, 0.0]</td><td style = \"text-align: left;\">[0.894557, 0.105443, 1.1815e-7]</td><td style = \"text-align: left;\">[0.333644, 0.182058, 0.0953515]</td><td style = \"text-align: left;\">[0.340591, 0.0804177, 0.113942]</td><td style = \"text-align: left;\">[129.62, 114.84, 87.34]</td><td style = \"text-align: left;\">[130.15, 110.38, 88.02]</td><td style = \"text-align: right;\">4.296e7</td><td style = \"text-align: right;\">0.247818</td></tr><tr><td class = \"rowNumber\" style = \"font-weight: bold; text-align: right;\">5</td><td style = \"text-align: left;\">[2.85159e5, 52975.2, -0.00199165]</td><td style = \"text-align: left;\">[2.95276e5, 41038.4, 0.0576657]</td><td style = \"text-align: left;\">[0.442321, 0.557679, 0.0]</td><td style = \"text-align: left;\">[0.863955, 0.136045, -4.08126e-9]</td><td style = \"text-align: left;\">[0.340591, 0.0804177, 0.113942]</td><td style = \"text-align: left;\">[0.34839, 0.0894114, 0.124228]</td><td style = \"text-align: left;\">[130.15, 110.38, 88.02]</td><td style = \"text-align: left;\">[130.73, 110.81, 88.42]</td><td style = \"text-align: right;\">4.3149e7</td><td style = \"text-align: right;\">0.242151</td></tr><tr><td class = \"rowNumber\" style = \"font-weight: bold; text-align: right;\">6</td><td style = \"text-align: left;\">[2.25863e5, 87279.1, 44855.5]</td><td style = \"text-align: left;\">[2.85159e5, 52975.2, -0.00199165]</td><td style = \"text-align: left;\">[0.442321, 0.557679, 0.0]</td><td style = \"text-align: left;\">[0.686022, 0.220572, 0.093406]</td><td style = \"text-align: left;\">[0.34839, 0.0894114, 0.124228]</td><td style = \"text-align: left;\">[0.397555, 0.0944232, 0.209824]</td><td style = \"text-align: left;\">[130.73, 110.81, 88.42]</td><td style = \"text-align: left;\">[133.49, 111.07, 91.52]</td><td style = \"text-align: right;\">4.39498e7</td><td style = \"text-align: right;\">0.217332</td></tr><tr><td class = \"rowNumber\" style = \"font-weight: bold; text-align: right;\">7</td><td style = \"text-align: left;\">[2.33112e5, 97787.4, 21355.3]</td><td style = \"text-align: left;\">[2.25863e5, 87279.1, 44855.5]</td><td style = \"text-align: left;\">[0.442321, 0.557679, 0.0]</td><td style = \"text-align: left;\">[0.707204, 0.248542, 0.0442547]</td><td style = \"text-align: left;\">[0.397555, 0.0944232, 0.209824]</td><td style = \"text-align: left;\">[0.392069, 0.109311, 0.196964]</td><td style = \"text-align: left;\">[133.49, 111.07, 91.52]</td><td style = \"text-align: left;\">[133.41, 111.77, 91.13]</td><td style = \"text-align: right;\">4.39753e7</td><td style = \"text-align: right;\">0.217989</td></tr><tr><td class = \"rowNumber\" style = \"font-weight: bold; text-align: right;\">8</td><td style = \"text-align: left;\">[2.06171e5, 1.10598e5, 45156.5]</td><td style = \"text-align: left;\">[2.33112e5, 97787.4, 21355.3]</td><td style = \"text-align: left;\">[0.442321, 0.557679, 0.0]</td><td style = \"text-align: left;\">[0.626349, 0.279873, 0.0937782]</td><td style = \"text-align: left;\">[0.392069, 0.109311, 0.196964]</td><td style = \"text-align: left;\">[0.41352, 0.119017, 0.222223]</td><td style = \"text-align: left;\">[133.41, 111.77, 91.13]</td><td style = \"text-align: left;\">[134.76, 112.25, 92.12]</td><td style = \"text-align: right;\">4.43581e7</td><td style = \"text-align: right;\">0.208381</td></tr><tr><td class = \"rowNumber\" style = \"font-weight: bold; text-align: right;\">9</td><td style = \"text-align: left;\">[2.08166e5, 1.11689e5, 40866.0]</td><td style = \"text-align: left;\">[2.06171e5, 1.10598e5, 45156.5]</td><td style = \"text-align: left;\">[0.442321, 0.557679, 0.0]</td><td style = \"text-align: left;\">[0.63785, 0.278059, 0.0840904]</td><td style = \"text-align: left;\">[0.41352, 0.119017, 0.222223]</td><td style = \"text-align: left;\">[0.431355, 0.0770895, 0.197193]</td><td style = \"text-align: left;\">[134.76, 112.25, 92.12]</td><td style = \"text-align: left;\">[135.94, 110.45, 91.29]</td><td style = \"text-align: right;\">4.43648e7</td><td style = \"text-align: right;\">0.209548</td></tr><tr><td class = \"rowNumber\" style = \"font-weight: bold; text-align: right;\">10</td><td style = \"text-align: left;\">[2.24167e5, 81991.4, 52579.8]</td><td style = \"text-align: left;\">[2.08166e5, 1.11689e5, 40866.0]</td><td style = \"text-align: left;\">[0.442321, 0.557679, 0.0]</td><td style = \"text-align: left;\">[0.688533, 0.202629, 0.108837]</td><td style = \"text-align: left;\">[0.431355, 0.0770895, 0.197193]</td><td style = \"text-align: left;\">[0.413472, 0.0381569, 0.190524]</td><td style = \"text-align: left;\">[135.94, 110.45, 91.29]</td><td style = \"text-align: left;\">[135.21, 108.79, 91.12]</td><td style = \"text-align: right;\">4.40205e7</td><td style = \"text-align: right;\">0.218703</td></tr><tr><td class = \"rowNumber\" style = \"font-weight: bold; text-align: right;\">11</td><td style = \"text-align: left;\">[2.03044e5, 75126.3, 91394.5]</td><td style = \"text-align: left;\">[2.24167e5, 81991.4, 52579.8]</td><td style = \"text-align: left;\">[0.442321, 0.557679, 0.0]</td><td style = \"text-align: left;\">[0.621027, 0.186684, 0.192289]</td><td style = \"text-align: left;\">[0.413472, 0.0381569, 0.190524]</td><td style = \"text-align: left;\">[0.410456, 0.063357, 0.241437]</td><td style = \"text-align: left;\">[135.21, 108.79, 91.12]</td><td style = \"text-align: left;\">[135.27, 109.9, 93.05]</td><td style = \"text-align: right;\">4.42264e7</td><td style = \"text-align: right;\">0.21404</td></tr><tr><td class = \"rowNumber\" style = \"font-weight: bold; text-align: right;\">12</td><td style = \"text-align: left;\">[1.24069e5, 1.19196e5, 1.53048e5]</td><td style = \"text-align: left;\">[2.03044e5, 75126.3, 91394.5]</td><td style = \"text-align: left;\">[0.442321, 0.557679, 0.0]</td><td style = \"text-align: left;\">[0.378341, 0.289846, 0.331813]</td><td style = \"text-align: left;\">[0.410456, 0.063357, 0.241437]</td><td style = \"text-align: left;\">[0.454328, 0.0636405, 0.370149]</td><td style = \"text-align: left;\">[135.27, 109.9, 93.05]</td><td style = \"text-align: left;\">[137.87, 109.94, 98.02]</td><td style = \"text-align: right;\">4.52116e7</td><td style = \"text-align: right;\">0.193033</td></tr><tr><td class = \"rowNumber\" style = \"font-weight: bold; text-align: right;\">13</td><td style = \"text-align: left;\">[1.05002e5, 1.54691e5, 1.40926e5]</td><td style = \"text-align: left;\">[1.24069e5, 1.19196e5, 1.53048e5]</td><td style = \"text-align: left;\">[0.442321, 0.557679, 0.0]</td><td style = \"text-align: left;\">[0.322967, 0.370498, 0.306535]</td><td style = \"text-align: left;\">[0.454328, 0.0636405, 0.370149]</td><td style = \"text-align: left;\">[0.508321, 0.0616284, 0.411547]</td><td style = \"text-align: left;\">[137.87, 109.94, 98.02]</td><td style = \"text-align: left;\">[141.11, 109.88, 99.79]</td><td style = \"text-align: right;\">4.58773e7</td><td style = \"text-align: right;\">0.185837</td></tr><tr><td style = \"text-align: right;\">&vellip;</td><td style = \"text-align: right;\">&vellip;</td><td style = \"text-align: right;\">&vellip;</td><td style = \"text-align: right;\">&vellip;</td><td style = \"text-align: right;\">&vellip;</td><td style = \"text-align: right;\">&vellip;</td><td style = \"text-align: right;\">&vellip;</td><td style = \"text-align: right;\">&vellip;</td><td style = \"text-align: right;\">&vellip;</td><td style = \"text-align: right;\">&vellip;</td><td style = \"text-align: right;\">&vellip;</td></tr><tr><td class = \"rowNumber\" style = \"font-weight: bold; text-align: right;\">219</td><td style = \"text-align: left;\">[85045.5, -0.00499381, 2.71509e5]</td><td style = \"text-align: left;\">[1.24373e5, 2.87682e5, 0.0]</td><td style = \"text-align: left;\">[0.442321, 0.557679, 0.0]</td><td style = \"text-align: left;\">[0.304329, -9.63311e-9, 0.695671]</td><td style = \"text-align: left;\">[0.294114, -0.123851, 0.303675]</td><td style = \"text-align: left;\">[0.298825, -0.142919, 0.319427]</td><td style = \"text-align: left;\">[187.44, 102.17, 133.62]</td><td style = \"text-align: left;\">[188.01, 101.35, 134.62]</td><td style = \"text-align: right;\">5.25399e7</td><td style = \"text-align: right;\">0.231697</td></tr><tr><td class = \"rowNumber\" style = \"font-weight: bold; text-align: right;\">220</td><td style = \"text-align: left;\">[100820.0, 33848.3, 2.24443e5]</td><td style = \"text-align: left;\">[85045.5, -0.00499381, 2.71509e5]</td><td style = \"text-align: left;\">[0.442321, 0.557679, 0.0]</td><td style = \"text-align: left;\">[0.358769, 0.0647549, 0.576476]</td><td style = \"text-align: left;\">[0.298825, -0.142919, 0.319427]</td><td style = \"text-align: left;\">[0.31852, -0.125627, 0.359108]</td><td style = \"text-align: left;\">[188.01, 101.35, 134.62]</td><td style = \"text-align: left;\">[189.71, 101.99, 136.93]</td><td style = \"text-align: right;\">5.33117e7</td><td style = \"text-align: right;\">0.220001</td></tr><tr><td class = \"rowNumber\" style = \"font-weight: bold; text-align: right;\">221</td><td style = \"text-align: left;\">[1.15095e5, 9194.58, 2.2297e5]</td><td style = \"text-align: left;\">[100820.0, 33848.3, 2.24443e5]</td><td style = \"text-align: left;\">[0.442321, 0.557679, 0.0]</td><td style = \"text-align: left;\">[0.412414, 0.0176726, 0.569914]</td><td style = \"text-align: left;\">[0.31852, -0.125627, 0.359108]</td><td style = \"text-align: left;\">[0.315069, -0.130308, 0.325525]</td><td style = \"text-align: left;\">[189.71, 101.99, 136.93]</td><td style = \"text-align: left;\">[189.69, 101.75, 135.31]</td><td style = \"text-align: right;\">5.29379e7</td><td style = \"text-align: right;\">0.226783</td></tr><tr><td class = \"rowNumber\" style = \"font-weight: bold; text-align: right;\">222</td><td style = \"text-align: left;\">[112420.0, 28832.3, 2.11929e5]</td><td style = \"text-align: left;\">[1.15095e5, 9194.58, 2.2297e5]</td><td style = \"text-align: left;\">[0.442321, 0.557679, 0.0]</td><td style = \"text-align: left;\">[0.403361, 0.055483, 0.541156]</td><td style = \"text-align: left;\">[0.315069, -0.130308, 0.325525]</td><td style = \"text-align: left;\">[0.335192, -0.106076, 0.339716]</td><td style = \"text-align: left;\">[189.69, 101.75, 135.31]</td><td style = \"text-align: left;\">[191.45, 102.68, 136.25]</td><td style = \"text-align: right;\">5.33586e7</td><td style = \"text-align: right;\">0.221072</td></tr><tr><td class = \"rowNumber\" style = \"font-weight: bold; text-align: right;\">223</td><td style = \"text-align: left;\">[1.05115e5, 28884.7, 222057.0]</td><td style = \"text-align: left;\">[112420.0, 28832.3, 2.11929e5]</td><td style = \"text-align: left;\">[0.442321, 0.557679, 0.0]</td><td style = \"text-align: left;\">[0.375219, 0.0552797, 0.569501]</td><td style = \"text-align: left;\">[0.335192, -0.106076, 0.339716]</td><td style = \"text-align: left;\">[0.321156, -0.116577, 0.3496]</td><td style = \"text-align: left;\">[191.45, 102.68, 136.25]</td><td style = \"text-align: left;\">[190.64, 102.21, 136.97]</td><td style = \"text-align: right;\">5.34066e7</td><td style = \"text-align: right;\">0.221254</td></tr><tr><td class = \"rowNumber\" style = \"font-weight: bold; text-align: right;\">224</td><td style = \"text-align: left;\">[96927.1, 46877.2, 220158.0]</td><td style = \"text-align: left;\">[1.05115e5, 28884.7, 222057.0]</td><td style = \"text-align: left;\">[0.442321, 0.557679, 0.0]</td><td style = \"text-align: left;\">[0.344672, 0.0885973, 0.56673]</td><td style = \"text-align: left;\">[0.321156, -0.116577, 0.3496]</td><td style = \"text-align: left;\">[0.326785, -0.128512, 0.373916]</td><td style = \"text-align: left;\">[190.64, 102.21, 136.97]</td><td style = \"text-align: left;\">[191.31, 101.68, 138.49]</td><td style = \"text-align: right;\">5.37993e7</td><td style = \"text-align: right;\">0.21663</td></tr><tr><td class = \"rowNumber\" style = \"font-weight: bold; text-align: right;\">225</td><td style = \"text-align: left;\">[1.07145e5, 13714.4, 2.30673e5]</td><td style = \"text-align: left;\">[96927.1, 46877.2, 220158.0]</td><td style = \"text-align: left;\">[0.442321, 0.557679, 0.0]</td><td style = \"text-align: left;\">[0.38201, 0.0262206, 0.591769]</td><td style = \"text-align: left;\">[0.326785, -0.128512, 0.373916]</td><td style = \"text-align: left;\">[0.305804, -0.122523, 0.337209]</td><td style = \"text-align: left;\">[191.31, 101.68, 138.49]</td><td style = \"text-align: left;\">[189.97, 101.87, 136.69]</td><td style = \"text-align: right;\">5.3282e7</td><td style = \"text-align: right;\">0.225665</td></tr><tr><td class = \"rowNumber\" style = \"font-weight: bold; text-align: right;\">226</td><td style = \"text-align: left;\">[1.10018e5, 5004.47, 2.33151e5]</td><td style = \"text-align: left;\">[1.07145e5, 13714.4, 2.30673e5]</td><td style = \"text-align: left;\">[0.442321, 0.557679, 0.0]</td><td style = \"text-align: left;\">[0.392547, 0.00954283, 0.597911]</td><td style = \"text-align: left;\">[0.305804, -0.122523, 0.337209]</td><td style = \"text-align: left;\">[0.300357, -0.132205, 0.328669]</td><td style = \"text-align: left;\">[189.97, 101.87, 136.69]</td><td style = \"text-align: left;\">[189.79, 101.43, 136.41]</td><td style = \"text-align: right;\">5.31921e7</td><td style = \"text-align: right;\">0.228194</td></tr><tr><td class = \"rowNumber\" style = \"font-weight: bold; text-align: right;\">227</td><td style = \"text-align: left;\">[1.07051e5, 14470.3, 2.30357e5]</td><td style = \"text-align: left;\">[1.10018e5, 5004.47, 2.33151e5]</td><td style = \"text-align: left;\">[0.442321, 0.557679, 0.0]</td><td style = \"text-align: left;\">[0.381431, 0.0271279, 0.591441]</td><td style = \"text-align: left;\">[0.300357, -0.132205, 0.328669]</td><td style = \"text-align: left;\">[0.30544, -0.162132, 0.339935]</td><td style = \"text-align: left;\">[189.79, 101.43, 136.41]</td><td style = \"text-align: left;\">[190.4, 100.18, 137.2]</td><td style = \"text-align: right;\">5.34371e7</td><td style = \"text-align: right;\">0.225529</td></tr><tr><td class = \"rowNumber\" style = \"font-weight: bold; text-align: right;\">228</td><td style = \"text-align: left;\">[1.23401e5, 2.91338e5, 0.0]</td><td style = \"text-align: left;\">[1.07051e5, 14470.3, 2.30357e5]</td><td style = \"text-align: left;\">[0.442321, 0.557679, 0.0]</td><td style = \"text-align: left;\">[0.442321, 0.557679, 0.0]</td><td style = \"text-align: left;\">[0.30544, -0.162132, 0.339935]</td><td style = \"text-align: left;\">[0.288717, -0.136726, 0.295613]</td><td style = \"text-align: left;\">[190.4, 100.18, 137.2]</td><td style = \"text-align: left;\">[189.37, 101.13, 134.99]</td><td style = \"text-align: right;\">5.28315e7</td><td style = \"text-align: right;\">0.192872</td></tr><tr><td class = \"rowNumber\" style = \"font-weight: bold; text-align: right;\">229</td><td style = \"text-align: left;\">[124107.0, 2.9003e5, 0.0]</td><td style = \"text-align: left;\">[1.23401e5, 2.91338e5, 0.0]</td><td style = \"text-align: left;\">[0.442321, 0.557679, 0.0]</td><td style = \"text-align: left;\">[0.442321, 0.557679, 0.0]</td><td style = \"text-align: left;\">[0.288717, -0.136726, 0.295613]</td><td style = \"text-align: left;\">[0.293536, -0.101942, 0.24631]</td><td style = \"text-align: left;\">[189.37, 101.13, 134.99]</td><td style = \"text-align: left;\">[189.95, 102.48, 132.53]</td><td style = \"text-align: right;\">5.32964e7</td><td style = \"text-align: right;\">0.192872</td></tr><tr><td class = \"rowNumber\" style = \"font-weight: bold; text-align: right;\">230</td><td style = \"text-align: left;\">[1.24298e5, 289678.0, 0.0]</td><td style = \"text-align: left;\">[124107.0, 2.9003e5, 0.0]</td><td style = \"text-align: left;\">[0.442321, 0.557679, 0.0]</td><td style = \"text-align: left;\">[0.442321, 0.557679, 0.0]</td><td style = \"text-align: left;\">[0.293536, -0.101942, 0.24631]</td><td style = \"text-align: left;\">[0.307657, -0.0769386, 0.231075]</td><td style = \"text-align: left;\">[189.95, 102.48, 132.53]</td><td style = \"text-align: left;\">[191.24, 103.46, 131.86]</td><td style = \"text-align: right;\">5.37407e7</td><td style = \"text-align: right;\">0.192872</td></tr></tbody></table></div>"
      ],
      "text/latex": [
       "\\begin{tabular}{r|cccc}\n",
       "\t& N\\_new & N\\_old & w\\_old & \\\\\n",
       "\t\\hline\n",
       "\t& Array… & Array… & Array… & \\\\\n",
       "\t\\hline\n",
       "\t1 & [1.46921e5, 2.0884e5, 0.0] & [147072.0, 2.0867e5, 0.0] & [0.442321, 0.557679, 0.0] & $\\dots$ \\\\\n",
       "\t2 & [1.48952e5, 2.06605e5, 0.0] & [1.46921e5, 2.0884e5, 0.0] & [0.442321, 0.557679, 0.0] & $\\dots$ \\\\\n",
       "\t3 & [2.8713e5, 50644.2, 0.0347869] & [1.48952e5, 2.06605e5, 0.0] & [0.442321, 0.557679, 0.0] & $\\dots$ \\\\\n",
       "\t4 & [2.95276e5, 41038.4, 0.0576657] & [2.8713e5, 50644.2, 0.0347869] & [0.442321, 0.557679, 0.0] & $\\dots$ \\\\\n",
       "\t5 & [2.85159e5, 52975.2, -0.00199165] & [2.95276e5, 41038.4, 0.0576657] & [0.442321, 0.557679, 0.0] & $\\dots$ \\\\\n",
       "\t6 & [2.25863e5, 87279.1, 44855.5] & [2.85159e5, 52975.2, -0.00199165] & [0.442321, 0.557679, 0.0] & $\\dots$ \\\\\n",
       "\t7 & [2.33112e5, 97787.4, 21355.3] & [2.25863e5, 87279.1, 44855.5] & [0.442321, 0.557679, 0.0] & $\\dots$ \\\\\n",
       "\t8 & [2.06171e5, 1.10598e5, 45156.5] & [2.33112e5, 97787.4, 21355.3] & [0.442321, 0.557679, 0.0] & $\\dots$ \\\\\n",
       "\t9 & [2.08166e5, 1.11689e5, 40866.0] & [2.06171e5, 1.10598e5, 45156.5] & [0.442321, 0.557679, 0.0] & $\\dots$ \\\\\n",
       "\t10 & [2.24167e5, 81991.4, 52579.8] & [2.08166e5, 1.11689e5, 40866.0] & [0.442321, 0.557679, 0.0] & $\\dots$ \\\\\n",
       "\t11 & [2.03044e5, 75126.3, 91394.5] & [2.24167e5, 81991.4, 52579.8] & [0.442321, 0.557679, 0.0] & $\\dots$ \\\\\n",
       "\t12 & [1.24069e5, 1.19196e5, 1.53048e5] & [2.03044e5, 75126.3, 91394.5] & [0.442321, 0.557679, 0.0] & $\\dots$ \\\\\n",
       "\t13 & [1.05002e5, 1.54691e5, 1.40926e5] & [1.24069e5, 1.19196e5, 1.53048e5] & [0.442321, 0.557679, 0.0] & $\\dots$ \\\\\n",
       "\t14 & [1.25704e5, 1.41651e5, 125210.0] & [1.05002e5, 1.54691e5, 1.40926e5] & [0.442321, 0.557679, 0.0] & $\\dots$ \\\\\n",
       "\t15 & [1.50597e5, 1.29457e5, 1.0203e5] & [1.25704e5, 1.41651e5, 125210.0] & [0.442321, 0.557679, 0.0] & $\\dots$ \\\\\n",
       "\t16 & [1.30884e5, 1.36144e5, 1.23802e5] & [1.50597e5, 1.29457e5, 1.0203e5] & [0.442321, 0.557679, 0.0] & $\\dots$ \\\\\n",
       "\t17 & [1.18635e5, 1.44613e5, 1.32809e5] & [1.30884e5, 1.36144e5, 1.23802e5] & [0.442321, 0.557679, 0.0] & $\\dots$ \\\\\n",
       "\t18 & [1.43182e5, 1.17043e5, 1.26771e5] & [1.18635e5, 1.44613e5, 1.32809e5] & [0.442321, 0.557679, 0.0] & $\\dots$ \\\\\n",
       "\t19 & [1.23665e5, 1.38804e5, 1.31614e5] & [1.43182e5, 1.17043e5, 1.26771e5] & [0.442321, 0.557679, 0.0] & $\\dots$ \\\\\n",
       "\t20 & [1.12518e5, 1.484e5, 1.37536e5] & [1.23665e5, 1.38804e5, 1.31614e5] & [0.442321, 0.557679, 0.0] & $\\dots$ \\\\\n",
       "\t21 & [81877.0, 1.89986e5, 1.40494e5] & [1.12518e5, 1.484e5, 1.37536e5] & [0.442321, 0.557679, 0.0] & $\\dots$ \\\\\n",
       "\t22 & [92394.0, 1.84691e5, 1.30188e5] & [81877.0, 1.89986e5, 1.40494e5] & [0.442321, 0.557679, 0.0] & $\\dots$ \\\\\n",
       "\t23 & [1.01763e5, 1.69193e5, 1.32041e5] & [92394.0, 1.84691e5, 1.30188e5] & [0.442321, 0.557679, 0.0] & $\\dots$ \\\\\n",
       "\t24 & [77385.2, 2.0995e5, 1.27051e5] & [1.01763e5, 1.69193e5, 1.32041e5] & [0.442321, 0.557679, 0.0] & $\\dots$ \\\\\n",
       "\t$\\dots$ & $\\dots$ & $\\dots$ & $\\dots$ &  \\\\\n",
       "\\end{tabular}\n"
      ],
      "text/plain": [
       "\u001b[1m230×10 DataFrame\u001b[0m\n",
       "\u001b[1m Row \u001b[0m│\u001b[1m N_new                             \u001b[0m\u001b[1m N_old                             \u001b[0m\u001b[1m w\u001b[0m ⋯\n",
       "     │\u001b[90m Array…                            \u001b[0m\u001b[90m Array…                            \u001b[0m\u001b[90m A\u001b[0m ⋯\n",
       "─────┼──────────────────────────────────────────────────────────────────────────\n",
       "   1 │ [1.46921e5, 2.0884e5, 0.0]         [147072.0, 2.0867e5, 0.0]          [ ⋯\n",
       "   2 │ [1.48952e5, 2.06605e5, 0.0]        [1.46921e5, 2.0884e5, 0.0]         [\n",
       "   3 │ [2.8713e5, 50644.2, 0.0347869]     [1.48952e5, 2.06605e5, 0.0]        [\n",
       "   4 │ [2.95276e5, 41038.4, 0.0576657]    [2.8713e5, 50644.2, 0.0347869]     [\n",
       "   5 │ [2.85159e5, 52975.2, -0.00199165]  [2.95276e5, 41038.4, 0.0576657]    [ ⋯\n",
       "   6 │ [2.25863e5, 87279.1, 44855.5]      [2.85159e5, 52975.2, -0.00199165]  [\n",
       "   7 │ [2.33112e5, 97787.4, 21355.3]      [2.25863e5, 87279.1, 44855.5]      [\n",
       "   8 │ [2.06171e5, 1.10598e5, 45156.5]    [2.33112e5, 97787.4, 21355.3]      [\n",
       "  ⋮  │                 ⋮                                  ⋮                    ⋱\n",
       " 224 │ [96927.1, 46877.2, 220158.0]       [1.05115e5, 28884.7, 222057.0]     [ ⋯\n",
       " 225 │ [1.07145e5, 13714.4, 2.30673e5]    [96927.1, 46877.2, 220158.0]       [\n",
       " 226 │ [1.10018e5, 5004.47, 2.33151e5]    [1.07145e5, 13714.4, 2.30673e5]    [\n",
       " 227 │ [1.07051e5, 14470.3, 2.30357e5]    [1.10018e5, 5004.47, 2.33151e5]    [\n",
       " 228 │ [1.23401e5, 2.91338e5, 0.0]        [1.07051e5, 14470.3, 2.30357e5]    [ ⋯\n",
       " 229 │ [124107.0, 2.9003e5, 0.0]          [1.23401e5, 2.91338e5, 0.0]        [\n",
       " 230 │ [1.24298e5, 289678.0, 0.0]         [124107.0, 2.9003e5, 0.0]          [\n",
       "\u001b[36m                                                  8 columns and 215 rows omitted\u001b[0m"
      ]
     },
     "metadata": {},
     "output_type": "display_data"
    }
   ],
   "source": [
    "previous_price_array = Sₒ\n",
    "μ̂_previous = μ̂\n",
    "N_previous = Nₒ\n",
    "Δt = (1/252);\n",
    "my_results_df = DataFrame();\n",
    "while (isempty(next_market_day_close_queue) == false)\n",
    "    \n",
    "    # what was the market vwap\n",
    "    current_price_array = dequeue!(next_market_day_close_queue); # holds the close price at the end of the trading day\n",
    "    \n",
    "    # compute the return -\n",
    "    asset_return_array = Array{Float64,1}();\n",
    "    for j ∈ eachindex(my_list_of_tickers)\n",
    "        tmp = (1/Δt)*log(current_price_array[j]/previous_price_array[j]);\n",
    "        push!(asset_return_array,tmp);\n",
    "    end\n",
    "    \n",
    "    # update the average return for each asset -\n",
    "    μ̂_new = μ̂_previous .+ α*(asset_return_array .- μ̂_previous);\n",
    "    \n",
    "    # compute new allocation -\n",
    "    problem_risk_sim.μ = μ̂_new;\n",
    "    problem_risk_sim.R = minimum_desired_return;\n",
    "    \n",
    "    # compute -\n",
    "    solution_sim = solve(problem_risk_sim)\n",
    "\n",
    "    # check: did this converge?\n",
    "    w_new = w; # initialize to orginal portfolio -\n",
    "    risk_new = risk; # initialize to orginal portfolio -\n",
    "    status_flag = solution_sim[\"status\"];    \n",
    "    if (status_flag == MathOptInterface.LOCALLY_SOLVED)\n",
    "        w_new = solution_sim[\"argmax\"];\n",
    "        risk_new = sqrt(solution_sim[\"objective_value\"]);\n",
    "    end\n",
    "    \n",
    "    # liqudation value of the portfolio at the close of trading day i\n",
    "    liquidation_value_of_porfolio = dot(N_previous, current_price_array);\n",
    "    \n",
    "    # compute the number of shares for the new allocation -\n",
    "    N_new = Array{Float64,1}()\n",
    "    for i ∈ eachindex(w_new)\n",
    "        wᵢ = w_new[i]\n",
    "        nᵢ = (wᵢ*liquidation_value_of_porfolio)/current_price_array[i];\n",
    "        push!(N_new,nᵢ)\n",
    "    end\n",
    "    \n",
    "    # store data -\n",
    "    results_tuple = (\n",
    "        N_new = N_new,\n",
    "        N_old = N_previous,\n",
    "        w_old = w,\n",
    "        w_new = w_new,\n",
    "        μ_previous = μ̂_previous,\n",
    "        μ_new = μ̂_new,\n",
    "        previous_close = previous_price_array,\n",
    "        current_close = current_price_array,\n",
    "        liquidation_value_of_porfolio = liquidation_value_of_porfolio,\n",
    "        risk = risk_new\n",
    "    );\n",
    "    push!(my_results_df,results_tuple)\n",
    "    \n",
    "    # update values -\n",
    "    μ̂_previous = μ̂_new;\n",
    "    previous_price_array = current_price_array;\n",
    "    N_previous = N_new;\n",
    "end\n",
    "my_results_df"
   ]
  },
  {
   "cell_type": "markdown",
   "id": "9dd8a1bf-315a-44e2-8f22-ae60f66738bd",
   "metadata": {},
   "source": [
    "## Visualize and analyze the original and reallocated portfolios"
   ]
  },
  {
   "cell_type": "markdown",
   "id": "18476553-71eb-43bd-9dc5-e7a4cd88e238",
   "metadata": {
    "tags": []
   },
   "source": [
    "#### Original case"
   ]
  },
  {
   "cell_type": "code",
   "execution_count": 27,
   "id": "b6701dee-f673-46eb-a3df-14326d0fe1b5",
   "metadata": {
    "jupyter": {
     "source_hidden": true
    },
    "tags": []
   },
   "outputs": [],
   "source": [
    "portfolio_performance_array_original = Array{Float64,2}(undef, number_of_trading_days, length(w)+2)\n",
    "for i ∈ eachindex(my_list_of_tickers)\n",
    "    \n",
    "    ticker = my_list_of_tickers[i];\n",
    "    price_df = dataset[ticker];\n",
    "    ticker_data = filter(:timestamp => x-> x >= startdate, price_df)\n",
    "    nᵢ = Nₒ[i]\n",
    "    \n",
    "    for j ∈ 1:number_of_trading_days\n",
    "        portfolio_performance_array_original[j,i] = nᵢ*ticker_data[j+1,:close];\n",
    "    end\n",
    "end\n",
    "\n",
    "# total -\n",
    "for i ∈ 1:number_of_trading_days\n",
    "    portfolio_performance_array_original[i,end] = sum(portfolio_performance_array_original[i,1:end-2])\n",
    "end\n",
    "\n",
    "# compute the risk -\n",
    "for i ∈ 1:number_of_trading_days\n",
    "    data = portfolio_performance_array_original[i,1:end-2];\n",
    "    total = portfolio_performance_array_original[i,end];\n",
    "    w = (1/total)*data;\n",
    "    portfolio_performance_array_original[i,end-1] = transpose(w)*Σ̂*w |> sqrt\n",
    "end"
   ]
  },
  {
   "cell_type": "code",
   "execution_count": 28,
   "id": "15c8dba0-14dd-46fb-9041-4c943e31e8ad",
   "metadata": {
    "tags": []
   },
   "outputs": [
    {
     "name": "stdout",
     "output_type": "stream",
     "text": [
      "┌───────┬───────────┬───────────┬───────┬─────────────┬───────────┐\n",
      "│\u001b[1m index \u001b[0m│\u001b[1m      AAPL \u001b[0m│\u001b[1m       MRK \u001b[0m│\u001b[1m GOOGL \u001b[0m│\u001b[1m risk (sqrt) \u001b[0m│\u001b[1m total USD \u001b[0m│\n",
      "├───────┼───────────┼───────────┼───────┼─────────────┼───────────┤\n",
      "│   1.0 │  1.8584e7 │ 2.33877e7 │   0.0 │    0.188278 │ 4.19717e7 │\n",
      "│   2.0 │ 1.83869e7 │ 2.37132e7 │   0.0 │    0.187936 │ 4.21002e7 │\n",
      "│   3.0 │ 1.90635e7 │ 2.39636e7 │   0.0 │    0.188294 │ 4.30271e7 │\n",
      "│   4.0 │ 1.91414e7 │  2.3033e7 │   0.0 │    0.188944 │ 4.21744e7 │\n",
      "│   5.0 │ 1.92267e7 │ 2.31227e7 │   0.0 │    0.188953 │ 4.23494e7 │\n",
      "│   6.0 │ 1.96326e7 │ 2.31769e7 │   0.0 │    0.189244 │ 4.28096e7 │\n",
      "│   7.0 │ 1.96209e7 │  2.3323e7 │   0.0 │    0.189135 │ 4.29439e7 │\n",
      "│   8.0 │ 1.98194e7 │ 2.34232e7 │   0.0 │    0.189227 │ 4.32426e7 │\n",
      "│   9.0 │  1.9993e7 │ 2.30476e7 │   0.0 │    0.189631 │ 4.30405e7 │\n",
      "│  10.0 │ 1.98856e7 │ 2.27012e7 │   0.0 │    0.189793 │ 4.25868e7 │\n",
      "│  11.0 │ 1.98944e7 │ 2.29328e7 │   0.0 │    0.189631 │ 4.28272e7 │\n",
      "│  12.0 │ 2.02768e7 │ 2.29411e7 │   0.0 │    0.189945 │  4.3218e7 │\n",
      "│  13.0 │ 2.07533e7 │ 2.29286e7 │   0.0 │    0.190357 │  4.3682e7 │\n",
      "│  14.0 │ 2.09622e7 │ 2.26448e7 │   0.0 │    0.190759 │  4.3607e7 │\n",
      "│  15.0 │ 2.08636e7 │ 2.26594e7 │   0.0 │    0.190662 │ 4.35231e7 │\n",
      "│  16.0 │ 2.11725e7 │ 2.23005e7 │   0.0 │    0.191227 │  4.3473e7 │\n",
      "│  17.0 │ 2.14622e7 │ 2.19896e7 │   0.0 │    0.191756 │ 4.34518e7 │\n",
      "│  18.0 │ 2.10313e7 │ 2.21378e7 │   0.0 │    0.191239 │ 4.31691e7 │\n",
      "│  19.0 │  2.1221e7 │ 2.24132e7 │   0.0 │    0.191175 │ 4.36342e7 │\n",
      "│  20.0 │ 2.13887e7 │ 2.23235e7 │   0.0 │      0.1914 │ 4.37122e7 │\n",
      "│  21.0 │ 2.21814e7 │  2.1589e7 │   0.0 │    0.192787 │ 4.37704e7 │\n",
      "│  22.0 │ 2.27226e7 │ 2.14805e7 │   0.0 │      0.1934 │ 4.42031e7 │\n",
      "│  23.0 │ 2.23152e7 │ 2.17079e7 │   0.0 │    0.192798 │ 4.40231e7 │\n",
      "│  24.0 │ 2.27447e7 │ 2.20522e7 │   0.0 │    0.192867 │ 4.47969e7 │\n",
      "│  25.0 │ 2.23432e7 │ 2.22525e7 │   0.0 │    0.192317 │ 4.45957e7 │\n",
      "│  26.0 │ 2.21887e7 │ 2.22692e7 │   0.0 │    0.192163 │  4.4458e7 │\n",
      "│  27.0 │ 2.22093e7 │ 2.26553e7 │   0.0 │    0.191842 │ 4.48646e7 │\n",
      "│  28.0 │  2.2627e7 │ 2.28598e7 │   0.0 │    0.192032 │ 4.54868e7 │\n",
      "│  29.0 │ 2.25314e7 │ 2.26907e7 │   0.0 │    0.192095 │ 4.52222e7 │\n",
      "│  30.0 │ 2.28447e7 │ 2.24696e7 │   0.0 │    0.192571 │ 4.53142e7 │\n",
      "│  31.0 │ 2.26064e7 │ 2.22254e7 │   0.0 │     0.19258 │ 4.48318e7 │\n",
      "│  32.0 │ 2.24358e7 │ 2.28535e7 │   0.0 │     0.19187 │ 4.52893e7 │\n",
      "│  33.0 │ 2.18372e7 │ 2.27596e7 │   0.0 │    0.191427 │ 4.45969e7 │\n",
      "│  34.0 │ 2.19005e7 │ 2.27784e7 │   0.0 │    0.191466 │ 4.46789e7 │\n",
      "│  35.0 │ 2.19726e7 │ 2.30768e7 │   0.0 │    0.191281 │ 4.50493e7 │\n",
      "│  36.0 │ 2.15769e7 │ 2.29307e7 │   0.0 │     0.19106 │ 4.45076e7 │\n",
      "│  37.0 │ 2.17549e7 │ 2.28201e7 │   0.0 │    0.191304 │  4.4575e7 │\n",
      "│  38.0 │ 2.16799e7 │ 2.21691e7 │   0.0 │    0.191794 │  4.3849e7 │\n",
      "│  39.0 │  2.1371e7 │ 2.22546e7 │   0.0 │    0.191443 │ 4.36257e7 │\n",
      "│  40.0 │ 2.14593e7 │ 2.23297e7 │   0.0 │    0.191457 │  4.3789e7 │\n",
      "│  41.0 │ 2.22123e7 │ 2.23026e7 │   0.0 │    0.192154 │ 4.45149e7 │\n",
      "│  42.0 │ 2.26241e7 │ 2.31832e7 │   0.0 │    0.191753 │ 4.58073e7 │\n",
      "│  43.0 │ 2.22961e7 │ 2.32187e7 │   0.0 │    0.191442 │ 4.55148e7 │\n",
      "│  44.0 │ 2.24829e7 │ 2.25948e7 │   0.0 │    0.192136 │ 4.50777e7 │\n",
      "│  45.0 │ 2.21476e7 │ 2.24529e7 │   0.0 │    0.191963 │ 4.46004e7 │\n",
      "│  46.0 │ 2.18402e7 │ 2.24716e7 │   0.0 │    0.191674 │ 4.43118e7 │\n",
      "│  47.0 │ 2.21299e7 │ 2.20626e7 │   0.0 │    0.192297 │ 4.41926e7 │\n",
      "│  48.0 │ 2.24417e7 │ 2.23214e7 │   0.0 │    0.192344 │ 4.47631e7 │\n",
      "│  49.0 │ 2.25005e7 │ 2.24591e7 │   0.0 │    0.192273 │ 4.49597e7 │\n",
      "│  50.0 │ 2.29212e7 │ 2.23986e7 │   0.0 │    0.192704 │ 4.53198e7 │\n",
      "│  51.0 │ 2.27962e7 │ 2.17225e7 │   0.0 │     0.19323 │ 4.45187e7 │\n",
      "│  52.0 │ 2.31491e7 │ 2.20877e7 │   0.0 │    0.193202 │ 4.52368e7 │\n",
      "│  53.0 │ 2.34256e7 │  2.2023e7 │   0.0 │    0.193518 │ 4.54486e7 │\n",
      "│  54.0 │ 2.32124e7 │ 2.17851e7 │   0.0 │    0.193555 │ 4.49975e7 │\n",
      "│  55.0 │ 2.33742e7 │ 2.17496e7 │   0.0 │     0.19374 │ 4.51238e7 │\n",
      "│  56.0 │ 2.35683e7 │ 2.18686e7 │   0.0 │    0.193801 │ 4.54369e7 │\n",
      "│  57.0 │ 2.32786e7 │ 2.23131e7 │   0.0 │    0.193106 │ 4.55916e7 │\n",
      "│  58.0 │ 2.31859e7 │ 2.20209e7 │   0.0 │      0.1933 │ 4.52068e7 │\n",
      "│  59.0 │ 2.36448e7 │ 2.18936e7 │   0.0 │    0.193847 │ 4.55384e7 │\n",
      "│  60.0 │ 2.38786e7 │ 2.21023e7 │   0.0 │    0.193855 │ 4.59809e7 │\n",
      "│  61.0 │ 2.42522e7 │ 2.22004e7 │   0.0 │    0.194098 │ 4.64525e7 │\n",
      "│  62.0 │  2.4439e7 │ 2.27179e7 │   0.0 │    0.193762 │ 4.71568e7 │\n",
      "│  63.0 │ 2.43595e7 │ 2.27095e7 │   0.0 │    0.193699 │ 4.70691e7 │\n",
      "│  64.0 │ 2.40845e7 │ 2.33522e7 │   0.0 │    0.192866 │ 4.74367e7 │\n",
      "│  65.0 │ 2.42169e7 │ 2.34399e7 │   0.0 │    0.192902 │ 4.76567e7 │\n",
      "│  66.0 │ 2.38301e7 │ 2.34983e7 │   0.0 │    0.192519 │ 4.73284e7 │\n",
      "│  67.0 │ 2.36492e7 │ 2.34733e7 │   0.0 │    0.192386 │ 4.71224e7 │\n",
      "│  68.0 │ 2.35462e7 │ 2.37362e7 │   0.0 │    0.192075 │ 4.72824e7 │\n",
      "│  69.0 │ 2.43492e7 │  2.4118e7 │   0.0 │    0.192428 │ 4.84673e7 │\n",
      "│  70.0 │ 2.42978e7 │ 2.40617e7 │   0.0 │    0.192433 │ 4.83595e7 │\n",
      "│  71.0 │ 2.43007e7 │ 2.39991e7 │   0.0 │    0.192488 │ 4.82998e7 │\n",
      "│  72.0 │ 2.44831e7 │ 2.39615e7 │   0.0 │    0.192673 │ 4.84446e7 │\n",
      "│  73.0 │ 2.46537e7 │ 2.38155e7 │   0.0 │    0.192943 │ 4.84692e7 │\n",
      "│  74.0 │ 2.45095e7 │ 2.38238e7 │   0.0 │    0.192814 │ 4.83334e7 │\n",
      "│  75.0 │ 2.42698e7 │ 2.40742e7 │   0.0 │    0.192399 │  4.8344e7 │\n",
      "│  76.0 │ 2.43154e7 │ 2.41932e7 │   0.0 │    0.192337 │ 4.85086e7 │\n",
      "│  77.0 │  2.4086e7 │ 2.43163e7 │   0.0 │    0.192046 │ 4.84023e7 │\n",
      "│  78.0 │ 2.40845e7 │ 2.36694e7 │   0.0 │    0.192588 │ 4.77539e7 │\n",
      "│  79.0 │ 2.47684e7 │ 2.40304e7 │   0.0 │    0.192853 │ 4.87988e7 │\n",
      "│  80.0 │ 2.49552e7 │ 2.40951e7 │   0.0 │    0.192953 │ 4.90503e7 │\n",
      "│  81.0 │ 2.49419e7 │ 2.42766e7 │   0.0 │    0.192786 │ 4.92186e7 │\n",
      "│  82.0 │ 2.47875e7 │ 2.46001e7 │   0.0 │    0.192389 │ 4.93876e7 │\n",
      "│  83.0 │ 2.46272e7 │ 2.46689e7 │   0.0 │    0.192202 │ 4.92961e7 │\n",
      "│  84.0 │ 2.43831e7 │ 2.44916e7 │   0.0 │    0.192147 │ 4.88746e7 │\n",
      "│  85.0 │ 2.55273e7 │ 2.45563e7 │   0.0 │    0.193031 │ 5.00835e7 │\n",
      "│  86.0 │  2.5517e7 │ 2.47023e7 │   0.0 │    0.192899 │ 5.02193e7 │\n",
      "│  87.0 │ 2.52626e7 │ 2.45041e7 │   0.0 │    0.192858 │ 4.97666e7 │\n",
      "│  88.0 │ 2.55251e7 │ 2.46022e7 │   0.0 │     0.19299 │ 5.01272e7 │\n",
      "│  89.0 │ 2.55538e7 │ 2.45291e7 │   0.0 │    0.193076 │ 5.00829e7 │\n",
      "│  90.0 │ 2.53802e7 │ 2.44436e7 │   0.0 │    0.193006 │ 4.98238e7 │\n",
      "│  91.0 │ 2.53067e7 │ 2.42829e7 │   0.0 │    0.193084 │ 4.95896e7 │\n",
      "│  92.0 │ 2.53067e7 │ 2.42224e7 │   0.0 │    0.193136 │ 4.95291e7 │\n",
      "│  93.0 │ 2.53979e7 │ 2.39469e7 │   0.0 │    0.193455 │ 4.93448e7 │\n",
      "│  94.0 │  2.5745e7 │ 2.37883e7 │   0.0 │    0.193893 │ 4.95333e7 │\n",
      "│  95.0 │ 2.57611e7 │ 2.40993e7 │   0.0 │    0.193624 │ 4.98604e7 │\n",
      "│  96.0 │ 2.56199e7 │ 2.38906e7 │   0.0 │    0.193694 │ 4.95105e7 │\n",
      "│  97.0 │ 2.52317e7 │  2.3636e7 │   0.0 │    0.193595 │ 4.88677e7 │\n",
      "│  98.0 │ 2.52728e7 │ 2.37049e7 │   0.0 │    0.193568 │ 4.89777e7 │\n",
      "│  99.0 │  2.5442e7 │ 2.34336e7 │   0.0 │    0.193962 │ 4.88756e7 │\n",
      "│ 100.0 │ 2.58008e7 │ 2.31769e7 │   0.0 │    0.194518 │ 4.89778e7 │\n",
      "│ 101.0 │ 2.60759e7 │ 2.29724e7 │   0.0 │    0.194959 │ 4.90483e7 │\n",
      "│ 102.0 │ 2.60685e7 │ 2.30392e7 │   0.0 │    0.194887 │ 4.91077e7 │\n",
      "│ 103.0 │ 2.64862e7 │ 2.31477e7 │   0.0 │    0.195143 │ 4.96339e7 │\n",
      "│ 104.0 │ 2.66127e7 │ 2.34795e7 │   0.0 │    0.194926 │ 5.00922e7 │\n",
      "│ 105.0 │ 2.64112e7 │ 2.36026e7 │   0.0 │    0.194635 │ 5.00138e7 │\n",
      "│ 106.0 │ 2.63568e7 │ 2.29558e7 │   0.0 │    0.195222 │ 4.93125e7 │\n",
      "│ 107.0 │ 2.61523e7 │ 2.26636e7 │   0.0 │    0.195339 │  4.8816e7 │\n",
      "│ 108.0 │ 2.65568e7 │ 2.30204e7 │   0.0 │    0.195332 │ 4.95772e7 │\n",
      "│ 109.0 │ 2.66141e7 │ 2.31018e7 │   0.0 │    0.195301 │  4.9716e7 │\n",
      "│ 110.0 │ 2.70304e7 │ 2.29245e7 │   0.0 │    0.195845 │ 4.99548e7 │\n",
      "│ 111.0 │ 2.69598e7 │ 2.29516e7 │   0.0 │    0.195755 │ 4.99113e7 │\n",
      "│ 112.0 │ 2.70539e7 │ 2.26741e7 │   0.0 │    0.196127 │ 4.97279e7 │\n",
      "│ 113.0 │ 2.73569e7 │ 2.28285e7 │   0.0 │    0.196231 │ 5.01853e7 │\n",
      "│ 114.0 │ 2.71966e7 │ 2.28118e7 │   0.0 │    0.196108 │ 5.00083e7 │\n",
      "│ 115.0 │ 2.72098e7 │ 2.30017e7 │   0.0 │    0.195922 │ 5.02115e7 │\n",
      "│ 116.0 │ 2.70554e7 │ 2.31957e7 │   0.0 │    0.195589 │ 5.02511e7 │\n",
      "│ 117.0 │ 2.75025e7 │ 2.37299e7 │   0.0 │     0.19544 │ 5.12324e7 │\n",
      "│ 118.0 │ 2.74554e7 │ 2.39135e7 │   0.0 │    0.195222 │ 5.13689e7 │\n",
      "│ 119.0 │  2.7248e7 │ 2.35964e7 │   0.0 │    0.195355 │ 5.08444e7 │\n",
      "│ 120.0 │ 2.76584e7 │ 2.36465e7 │   0.0 │    0.195655 │ 5.13048e7 │\n",
      "│ 121.0 │ 2.78334e7 │ 2.34628e7 │   0.0 │    0.195989 │ 5.12962e7 │\n",
      "│ 122.0 │ 2.78834e7 │ 2.36924e7 │   0.0 │      0.1958 │ 5.15757e7 │\n",
      "│ 123.0 │ 2.85276e7 │ 2.40784e7 │   0.0 │    0.195959 │  5.2606e7 │\n",
      "│ 124.0 │ 2.83055e7 │ 2.38572e7 │   0.0 │    0.195992 │ 5.21627e7 │\n",
      "│ 125.0 │ 2.81393e7 │ 2.37257e7 │   0.0 │    0.195983 │  5.1865e7 │\n",
      "│ 126.0 │ 2.82099e7 │ 2.33188e7 │   0.0 │    0.196458 │ 5.15287e7 │\n",
      "│ 127.0 │ 2.80437e7 │  2.2745e7 │   0.0 │    0.196921 │ 5.07887e7 │\n",
      "│ 128.0 │ 2.77392e7 │ 2.29453e7 │   0.0 │    0.196442 │ 5.06846e7 │\n",
      "│ 129.0 │ 2.76613e7 │ 2.26824e7 │   0.0 │    0.196653 │ 5.03437e7 │\n",
      "│ 130.0 │ 2.79098e7 │ 2.24257e7 │   0.0 │    0.197151 │ 5.03356e7 │\n",
      "│ 131.0 │ 2.80231e7 │ 2.21858e7 │   0.0 │    0.197519 │ 5.02089e7 │\n",
      "│ 132.0 │ 2.80452e7 │ 2.23986e7 │   0.0 │    0.197301 │ 5.04438e7 │\n",
      "│ 133.0 │ 2.85305e7 │ 2.20293e7 │   0.0 │     0.19815 │ 5.05598e7 │\n",
      "│ 134.0 │ 2.84923e7 │ 2.21086e7 │   0.0 │    0.198025 │ 5.06008e7 │\n",
      "│ 135.0 │ 2.86937e7 │ 2.21086e7 │   0.0 │    0.198204 │ 5.08023e7 │\n",
      "│ 136.0 │  2.8404e7 │ 2.26323e7 │   0.0 │    0.197359 │ 5.10363e7 │\n",
      "│ 137.0 │  2.8229e7 │ 2.30351e7 │   0.0 │    0.196772 │  5.1264e7 │\n",
      "│ 138.0 │ 2.83481e7 │ 2.27012e7 │   0.0 │    0.197235 │ 5.10493e7 │\n",
      "│ 139.0 │ 2.84761e7 │ 2.24383e7 │   0.0 │    0.197637 │ 5.09143e7 │\n",
      "│ 140.0 │ 2.86055e7 │ 2.23569e7 │   0.0 │    0.197843 │ 5.09624e7 │\n",
      "│ 141.0 │ 2.84172e7 │ 2.19667e7 │   0.0 │    0.198121 │ 5.03839e7 │\n",
      "│ 142.0 │ 2.88011e7 │ 2.21899e7 │   0.0 │    0.198205 │  5.0991e7 │\n",
      "│ 143.0 │ 2.88923e7 │ 2.22546e7 │   0.0 │    0.198212 │ 5.11469e7 │\n",
      "│ 144.0 │  2.8768e7 │ 2.19687e7 │   0.0 │    0.198432 │ 5.07368e7 │\n",
      "│ 145.0 │ 2.83231e7 │ 2.20564e7 │   0.0 │    0.197934 │ 5.03795e7 │\n",
      "│ 146.0 │ 2.81158e7 │ 2.20626e7 │   0.0 │    0.197742 │ 5.01784e7 │\n",
      "│ 147.0 │ 2.67656e7 │ 2.19103e7 │   0.0 │    0.196695 │  4.8676e7 │\n",
      "│ 148.0 │ 2.63038e7 │ 2.21378e7 │   0.0 │    0.196027 │ 4.84416e7 │\n",
      "│ 149.0 │ 2.64435e7 │ 2.22045e7 │   0.0 │    0.196081 │ 4.86481e7 │\n",
      "│ 150.0 │ 2.62068e7 │ 2.21399e7 │   0.0 │    0.195937 │ 4.83466e7 │\n",
      "│ 151.0 │ 2.61744e7 │ 2.20293e7 │   0.0 │    0.196026 │ 4.82037e7 │\n",
      "│ 152.0 │ 2.61479e7 │ 2.24195e7 │   0.0 │    0.195588 │ 4.85674e7 │\n",
      "│ 153.0 │ 2.63935e7 │ 2.27262e7 │   0.0 │    0.195488 │ 4.91198e7 │\n",
      "│ 154.0 │ 2.60979e7 │ 2.26741e7 │   0.0 │     0.19528 │  4.8772e7 │\n",
      "│ 155.0 │ 2.59685e7 │ 2.26887e7 │   0.0 │     0.19515 │ 4.86572e7 │\n",
      "│ 156.0 │ 2.55905e7 │ 2.27283e7 │   0.0 │    0.194775 │ 4.83188e7 │\n",
      "│ 157.0 │ 2.56626e7 │ 2.27867e7 │   0.0 │     0.19478 │ 4.84493e7 │\n",
      "│ 158.0 │ 2.58611e7 │ 2.28785e7 │   0.0 │    0.194864 │ 4.87397e7 │\n",
      "│ 159.0 │ 2.60656e7 │ 2.23757e7 │   0.0 │     0.19556 │ 4.84412e7 │\n",
      "│ 160.0 │ 2.66377e7 │ 2.32249e7 │   0.0 │    0.195198 │ 4.98626e7 │\n",
      "│ 161.0 │ 2.59406e7 │ 2.28389e7 │   0.0 │    0.194974 │ 4.87795e7 │\n",
      "│ 162.0 │ 2.62685e7 │ 2.29975e7 │   0.0 │    0.195103 │  4.9266e7 │\n",
      "│ 163.0 │ 2.65009e7 │ 2.27304e7 │   0.0 │    0.195579 │ 4.92313e7 │\n",
      "│ 164.0 │ 2.70789e7 │ 2.29516e7 │   0.0 │    0.195859 │ 5.00305e7 │\n",
      "│ 165.0 │ 2.75981e7 │ 2.29975e7 │   0.0 │    0.196264 │ 5.05955e7 │\n",
      "│ 166.0 │ 2.76304e7 │ 2.27408e7 │   0.0 │    0.196564 │ 5.03712e7 │\n",
      "│ 167.0 │ 2.78643e7 │ 2.29203e7 │   0.0 │    0.196577 │ 5.07845e7 │\n",
      "│ 168.0 │ 2.78996e7 │ 2.24341e7 │   0.0 │    0.197133 │ 5.03336e7 │\n",
      "│ 169.0 │ 2.69009e7 │ 2.22212e7 │   0.0 │    0.196475 │ 4.91222e7 │\n",
      "│ 170.0 │ 2.61141e7 │ 2.25238e7 │   0.0 │    0.195449 │ 4.86379e7 │\n",
      "│ 171.0 │ 2.62053e7 │ 2.27554e7 │   0.0 │    0.195292 │ 4.89607e7 │\n",
      "│ 172.0 │ 2.63788e7 │ 2.26615e7 │   0.0 │    0.195542 │ 4.90404e7 │\n",
      "│ 173.0 │ 2.59288e7 │ 2.27492e7 │   0.0 │    0.195054 │  4.8678e7 │\n",
      "│ 174.0 │ 2.56214e7 │ 2.24967e7 │   0.0 │    0.195036 │ 4.81181e7 │\n",
      "│ 175.0 │ 2.58464e7 │ 2.25864e7 │   0.0 │    0.195146 │ 4.84328e7 │\n",
      "│ 176.0 │ 2.57391e7 │ 2.24362e7 │   0.0 │    0.195204 │ 4.81752e7 │\n",
      "│ 177.0 │ 2.61744e7 │ 2.24988e7 │   0.0 │    0.195529 │ 4.86732e7 │\n",
      "│ 178.0 │ 2.63362e7 │ 2.24028e7 │   0.0 │    0.195774 │  4.8739e7 │\n",
      "│ 179.0 │ 2.58097e7 │ 2.23923e7 │   0.0 │    0.195312 │  4.8202e7 │\n",
      "│ 180.0 │ 2.55802e7 │ 2.22713e7 │   0.0 │    0.195231 │ 4.78515e7 │\n",
      "│ 181.0 │ 2.57067e7 │ 2.21899e7 │   0.0 │     0.19543 │ 4.78966e7 │\n",
      "│ 182.0 │ 2.58964e7 │ 2.20856e7 │   0.0 │    0.195713 │  4.7982e7 │\n",
      "│ 183.0 │ 2.52905e7 │ 2.19917e7 │   0.0 │     0.19526 │ 4.72822e7 │\n",
      "│ 184.0 │ 2.50655e7 │ 2.16891e7 │   0.0 │    0.195374 │ 4.67546e7 │\n",
      "│ 185.0 │ 2.51037e7 │ 2.17643e7 │   0.0 │    0.195329 │  4.6868e7 │\n",
      "│ 186.0 │ 2.51802e7 │ 2.14825e7 │   0.0 │    0.195705 │ 4.66627e7 │\n",
      "│ 187.0 │ 2.55538e7 │ 2.13991e7 │   0.0 │    0.196146 │ 4.69528e7 │\n",
      "│ 188.0 │ 2.53552e7 │ 2.12363e7 │   0.0 │    0.196142 │ 4.65915e7 │\n",
      "│ 189.0 │ 2.55405e7 │ 2.13198e7 │   0.0 │    0.196223 │ 4.68603e7 │\n",
      "│ 190.0 │ 2.57244e7 │ 2.16182e7 │   0.0 │    0.196062 │ 4.73425e7 │\n",
      "│ 191.0 │ 2.61038e7 │ 2.16766e7 │   0.0 │    0.196348 │ 4.77804e7 │\n",
      "│ 192.0 │ 2.63244e7 │  2.1806e7 │   0.0 │    0.196408 │ 4.81304e7 │\n",
      "│ 193.0 │ 2.62362e7 │ 2.16203e7 │   0.0 │    0.196533 │ 4.78564e7 │\n",
      "│ 194.0 │ 2.64435e7 │  2.1589e7 │   0.0 │     0.19676 │ 4.80325e7 │\n",
      "│ 195.0 │ 2.65774e7 │ 2.16161e7 │   0.0 │    0.196853 │ 4.81935e7 │\n",
      "│ 196.0 │ 2.63038e7 │ 2.17037e7 │   0.0 │    0.196502 │ 4.80076e7 │\n",
      "│ 197.0 │ 2.62847e7 │ 2.17309e7 │   0.0 │    0.196455 │ 4.80156e7 │\n",
      "│ 198.0 │ 2.60538e7 │ 2.17371e7 │   0.0 │    0.196235 │ 4.77909e7 │\n",
      "│ 199.0 │ 2.58611e7 │ 2.12822e7 │   0.0 │    0.196566 │ 4.71434e7 │\n",
      "│ 200.0 │ 2.58052e7 │ 2.09567e7 │   0.0 │    0.196889 │ 4.67619e7 │\n",
      "│ 201.0 │ 2.54258e7 │ 2.14241e7 │   0.0 │    0.195999 │ 4.68499e7 │\n",
      "│ 202.0 │ 2.54435e7 │  2.1566e7 │   0.0 │    0.195859 │ 4.70095e7 │\n",
      "│ 203.0 │ 2.55082e7 │ 2.14992e7 │   0.0 │    0.195992 │ 4.70074e7 │\n",
      "│ 204.0 │  2.5164e7 │ 2.16244e7 │   0.0 │    0.195535 │ 4.67885e7 │\n",
      "│ 205.0 │ 2.45448e7 │ 2.20251e7 │   0.0 │    0.194542 │ 4.65699e7 │\n",
      "│ 206.0 │ 2.47404e7 │ 2.14554e7 │   0.0 │    0.195322 │ 4.61959e7 │\n",
      "│ 207.0 │ 2.50449e7 │ 2.14262e7 │   0.0 │     0.19564 │ 4.64711e7 │\n",
      "│ 208.0 │ 2.51155e7 │ 2.14304e7 │   0.0 │    0.195701 │ 4.65459e7 │\n",
      "│ 209.0 │ 2.55861e7 │ 2.14617e7 │   0.0 │    0.196107 │ 4.70478e7 │\n",
      "│ 210.0 │ 2.61156e7 │ 2.14617e7 │   0.0 │      0.1966 │ 4.75773e7 │\n",
      "│ 211.0 │ 2.59803e7 │ 2.15723e7 │   0.0 │     0.19635 │ 4.75525e7 │\n",
      "│ 212.0 │ 2.63597e7 │ 2.17726e7 │   0.0 │    0.196477 │ 4.81323e7 │\n",
      "│ 213.0 │ 2.67406e7 │ 2.17017e7 │   0.0 │    0.196906 │ 4.84423e7 │\n",
      "│ 214.0 │  2.6898e7 │ 2.17851e7 │   0.0 │    0.196956 │ 4.86831e7 │\n",
      "│ 215.0 │ 2.68274e7 │ 2.13636e7 │   0.0 │    0.197374 │  4.8191e7 │\n",
      "│ 216.0 │ 2.74142e7 │  2.1157e7 │   0.0 │    0.198163 │ 4.85712e7 │\n",
      "│ 217.0 │ 2.71789e7 │ 2.13824e7 │   0.0 │    0.197677 │ 4.85613e7 │\n",
      "│ 218.0 │ 2.75672e7 │ 2.13198e7 │   0.0 │    0.198109 │  4.8887e7 │\n",
      "│ 219.0 │  2.7651e7 │ 2.11487e7 │   0.0 │    0.198392 │ 4.87997e7 │\n",
      "│ 220.0 │  2.7901e7 │ 2.12822e7 │   0.0 │    0.198461 │ 4.91833e7 │\n",
      "│ 221.0 │ 2.78981e7 │ 2.12321e7 │   0.0 │    0.198519 │ 4.91302e7 │\n",
      "│ 222.0 │ 2.81569e7 │ 2.14262e7 │   0.0 │    0.198523 │ 4.95831e7 │\n",
      "│ 223.0 │ 2.80378e7 │ 2.13281e7 │   0.0 │    0.198532 │ 4.93659e7 │\n",
      "│ 224.0 │ 2.81363e7 │ 2.12175e7 │   0.0 │    0.198756 │ 4.93539e7 │\n",
      "│ 225.0 │ 2.79393e7 │ 2.12572e7 │   0.0 │    0.198527 │ 4.91964e7 │\n",
      "│ 226.0 │ 2.79128e7 │ 2.11654e7 │   0.0 │    0.198614 │ 4.90782e7 │\n",
      "│ 227.0 │ 2.80025e7 │ 2.09045e7 │   0.0 │    0.199018 │  4.8907e7 │\n",
      "│ 228.0 │  2.7851e7 │ 2.11028e7 │   0.0 │    0.198633 │ 4.89538e7 │\n",
      "│ 229.0 │ 2.79363e7 │ 2.13845e7 │   0.0 │    0.198371 │ 4.93208e7 │\n",
      "│ 230.0 │  2.8126e7 │  2.1589e7 │   0.0 │    0.198301 │  4.9715e7 │\n",
      "└───────┴───────────┴───────────┴───────┴─────────────┴───────────┘\n"
     ]
    }
   ],
   "source": [
    "orignal_table_data = Array{Float64,2}(undef, number_of_trading_days, length(w)+3)\n",
    "for i ∈ 1:number_of_trading_days\n",
    "    orignal_table_data[i,1] = i\n",
    "    for j ∈ eachindex(my_list_of_tickers)\n",
    "        orignal_table_data[i,1+j] = portfolio_performance_array_original[i,j];\n",
    "    end\n",
    "    orignal_table_data[i,end-1] = portfolio_performance_array_original[i,end-1]\n",
    "    orignal_table_data[i,end] = portfolio_performance_array_original[i,end]\n",
    "end\n",
    "\n",
    "pretty_table(orignal_table_data, header=[\"index\",my_list_of_tickers...,\"risk (sqrt)\",\"total USD\"])"
   ]
  },
  {
   "cell_type": "markdown",
   "id": "b28aca28-65f8-4356-9f7b-536a8807633a",
   "metadata": {},
   "source": [
    "#### Reallocated case"
   ]
  },
  {
   "cell_type": "code",
   "execution_count": 29,
   "id": "8fc39ad5-9ed6-4632-990a-a8834d8fdf73",
   "metadata": {
    "jupyter": {
     "source_hidden": true
    },
    "tags": []
   },
   "outputs": [],
   "source": [
    "portfolio_performance_array_reallocate = Array{Float64,2}(undef, number_of_trading_days, length(w)+2)\n",
    "\n",
    "# values for each asset -\n",
    "for i ∈ 1:(number_of_trading_days)\n",
    "    \n",
    "    risk_new = my_results_df[i,:risk]\n",
    "    N_new = my_results_df[i,:N_new]\n",
    "    new_price = my_results_df[i,:current_close]\n",
    "    \n",
    "    for j ∈ eachindex(my_list_of_tickers)\n",
    "        portfolio_performance_array_reallocate[i,j] = N_new[j]*new_price[j] |> x-> round(x, digits=3) |> abs\n",
    "    end\n",
    "    \n",
    "    # compute the risk -\n",
    "    portfolio_performance_array_reallocate[i,end-1] = risk_new\n",
    "end\n",
    "\n",
    "# total -\n",
    "for i ∈ 1:number_of_trading_days\n",
    "    portfolio_performance_array_reallocate[i,end] = sum(portfolio_performance_array_reallocate[i,1:end-2])\n",
    "end\n",
    "\n",
    "# compute the initial risk -\n",
    "total = portfolio_performance_array_reallocate[1,end];\n",
    "data = portfolio_performance_array_reallocate[1,1:end-2];\n",
    "w = (1/total)*data\n",
    "portfolio_performance_array_reallocate[1,end-1] = transpose(w)*Σ̂*w |> sqrt;"
   ]
  },
  {
   "cell_type": "code",
   "execution_count": 30,
   "id": "72fd0eb7-ecbc-4ce4-9b1a-0601ea7b6ce4",
   "metadata": {
    "tags": []
   },
   "outputs": [
    {
     "name": "stdout",
     "output_type": "stream",
     "text": [
      "┌───────┬───────────┬───────────┬───────────┬─────────────┬───────────┐\n",
      "│\u001b[1m   day \u001b[0m│\u001b[1m      AAPL \u001b[0m│\u001b[1m       MRK \u001b[0m│\u001b[1m     GOOGL \u001b[0m│\u001b[1m risk (sqrt) \u001b[0m│\u001b[1m total USD \u001b[0m│\n",
      "├───────┼───────────┼───────────┼───────────┼─────────────┼───────────┤\n",
      "│   1.0 │  1.8565e7 │ 2.34067e7 │       0.0 │    0.188252 │ 4.19717e7 │\n",
      "│   2.0 │  1.8622e7 │ 2.34786e7 │       0.0 │    0.192872 │ 4.21006e7 │\n",
      "│   3.0 │ 3.72178e7 │ 5.81598e6 │     3.038 │    0.242315 │ 4.30337e7 │\n",
      "│   4.0 │ 3.84302e7 │ 4.52982e6 │     5.076 │    0.247818 │   4.296e7 │\n",
      "│   5.0 │ 3.72788e7 │ 5.87018e6 │     0.176 │    0.242151 │  4.3149e7 │\n",
      "│   6.0 │ 3.01505e7 │ 9.69409e6 │ 4.10517e6 │    0.217332 │ 4.39498e7 │\n",
      "│   7.0 │ 3.10995e7 │ 1.09297e7 │ 1.94611e6 │    0.217989 │ 4.39753e7 │\n",
      "│   8.0 │ 2.77836e7 │ 1.24146e7 │ 4.15982e6 │    0.208381 │ 4.43581e7 │\n",
      "│   9.0 │ 2.82981e7 │  1.2336e7 │ 3.73065e6 │    0.209548 │ 4.43648e7 │\n",
      "│  10.0 │ 3.03096e7 │ 8.91984e6 │ 4.79107e6 │    0.218703 │ 4.40205e7 │\n",
      "│  11.0 │ 2.74658e7 │ 8.25638e6 │ 8.50426e6 │     0.21404 │ 4.42264e7 │\n",
      "│  12.0 │ 1.71054e7 │ 1.31044e7 │ 1.50018e7 │    0.193033 │ 4.52116e7 │\n",
      "│  13.0 │ 1.48168e7 │ 1.69975e7 │  1.4063e7 │    0.185837 │ 4.58773e7 │\n",
      "│  14.0 │ 1.79165e7 │ 1.53719e7 │  1.2233e7 │     0.18987 │ 4.55215e7 │\n",
      "│  15.0 │ 2.13637e7 │ 1.40577e7 │ 9.71527e6 │    0.195193 │ 4.51367e7 │\n",
      "│  16.0 │  1.8842e7 │ 1.45497e7 │ 1.20732e7 │    0.191837 │ 4.54649e7 │\n",
      "│  17.0 │ 1.73123e7 │ 1.52393e7 │ 1.31973e7 │    0.189685 │ 4.57489e7 │\n",
      "│  18.0 │ 2.04751e7 │ 1.24171e7 │ 1.22892e7 │    0.196781 │ 4.51813e7 │\n",
      "│  19.0 │ 1.78437e7 │  1.4909e7 │ 1.30087e7 │    0.190557 │ 4.57614e7 │\n",
      "│  20.0 │ 1.63634e7 │ 1.58758e7 │ 1.38127e7 │    0.188249 │ 4.60519e7 │\n",
      "│  21.0 │ 1.23487e7 │ 1.96559e7 │ 1.51368e7 │    0.182316 │ 4.71414e7 │\n",
      "│  22.0 │ 1.42749e7 │ 1.90121e7 │ 1.36411e7 │    0.183438 │ 4.69281e7 │\n",
      "│  23.0 │ 1.54406e7 │ 1.76011e7 │  1.3587e7 │     0.18556 │ 4.66287e7 │\n",
      "│  24.0 │ 1.19676e7 │ 2.21875e7 │ 1.36757e7 │    0.179966 │ 4.78309e7 │\n",
      "│  25.0 │ 1.75541e7 │ 1.81991e7 │ 1.10172e7 │    0.186225 │ 4.67705e7 │\n",
      "│  26.0 │ 2.13748e7 │ 1.73118e7 │ 7.49277e6 │    0.191265 │ 4.61794e7 │\n",
      "│  27.0 │ 2.07767e7 │ 1.90036e7 │ 6.68433e6 │    0.189042 │ 4.64646e7 │\n",
      "│  28.0 │ 1.87802e7 │ 2.13175e7 │ 6.93208e6 │    0.185051 │ 4.70297e7 │\n",
      "│  29.0 │ 1.99675e7 │ 2.00341e7 │ 6.79636e6 │    0.187231 │ 4.67979e7 │\n",
      "│  30.0 │ 1.86016e7 │ 1.97992e7 │  8.6416e6 │    0.185755 │ 4.70425e7 │\n",
      "│  31.0 │ 2.11089e7 │  1.7772e7 │  7.6249e6 │    0.190417 │ 4.65058e7 │\n",
      "│  32.0 │ 2.08122e7 │ 1.99426e7 │ 6.00134e6 │    0.188422 │ 4.67562e7 │\n",
      "│  33.0 │ 2.56567e7 │ 1.80006e7 │ 2.29882e6 │     0.19812 │ 4.59561e7 │\n",
      "│  34.0 │ 2.55822e7 │ 1.83261e7 │ 2.13349e6 │     0.19775 │ 4.60418e7 │\n",
      "│  35.0 │ 2.43914e7 │ 2.06344e7 │  1.3226e6 │    0.194482 │ 4.63483e7 │\n",
      "│  36.0 │ 2.80343e7 │ 1.77187e7 │    16.561 │    0.203554 │  4.5753e7 │\n",
      "│  37.0 │ 2.76193e7 │ 1.82793e7 │    54.674 │    0.202261 │ 4.58987e7 │\n",
      "│  38.0 │ 3.06003e7 │  1.4498e7 │ 1.83708e5 │    0.211808 │  4.5282e7 │\n",
      "│  39.0 │ 3.28281e7 │ 1.20744e7 │    91.381 │    0.219768 │ 4.49026e7 │\n",
      "│  40.0 │ 3.16542e7 │ 1.14048e7 │ 2.01989e6 │    0.217242 │ 4.50789e7 │\n",
      "│  41.0 │  2.6274e7 │ 1.48653e7 │ 5.07274e6 │    0.201309 │  4.6212e7 │\n",
      "│  42.0 │ 2.08554e7 │  2.0535e7 │ 5.97583e6 │    0.187943 │ 4.73662e7 │\n",
      "│  43.0 │ 2.35134e7 │ 1.96579e7 │ 3.84433e6 │    0.192594 │ 4.70156e7 │\n",
      "│  44.0 │   2.479e7 │  1.6764e7 │ 5.14632e6 │    0.196713 │ 4.67003e7 │\n",
      "│  45.0 │  2.8447e7 │ 1.52695e7 │ 2.40334e6 │    0.205328 │ 4.61199e7 │\n",
      "│  46.0 │ 3.13117e7 │ 1.43821e7 │       1.6 │    0.213018 │ 4.56938e7 │\n",
      "│  47.0 │ 3.05975e7 │ 1.37978e7 │ 1.45214e6 │    0.211533 │ 4.58475e7 │\n",
      "│  48.0 │ 2.69792e7 │ 1.45325e7 │  4.9743e6 │    0.202719 │  4.6486e7 │\n",
      "│  49.0 │ 2.49721e7 │  1.4267e7 │ 7.52056e6 │    0.199445 │ 4.67596e7 │\n",
      "│  50.0 │ 1.97139e7 │ 1.60087e7 │ 1.17949e7 │    0.190743 │ 4.75175e7 │\n",
      "│  51.0 │ 1.96067e7 │ 1.30202e7 │ 1.44526e7 │    0.195228 │ 4.70796e7 │\n",
      "│  52.0 │ 1.94204e7 │ 1.56032e7 │ 1.25215e7 │    0.191051 │ 4.75451e7 │\n",
      "│  53.0 │ 1.61208e7 │ 1.77126e7 │ 1.43557e7 │    0.186252 │ 4.81891e7 │\n",
      "│  54.0 │ 1.81448e7 │ 1.50232e7 │  1.4471e7 │    0.191049 │  4.7639e7 │\n",
      "│  55.0 │ 1.63255e7 │ 1.63749e7 │ 1.53528e7 │    0.188194 │ 4.80531e7 │\n",
      "│  56.0 │ 1.64285e7 │ 1.71799e7 │ 1.46466e7 │    0.187137 │  4.8255e7 │\n",
      "│  57.0 │ 1.89204e7 │ 1.61541e7 │ 1.29138e7 │    0.189964 │ 4.79883e7 │\n",
      "│  58.0 │ 2.12756e7 │ 1.38691e7 │ 1.23766e7 │    0.195243 │ 4.75212e7 │\n",
      "│  59.0 │  2.0553e7 │ 1.55271e7 │ 1.18262e7 │    0.192171 │ 4.79062e7 │\n",
      "│  60.0 │ 2.04009e7 │ 1.71136e7 │ 1.06846e7 │    0.190048 │ 4.81992e7 │\n",
      "│  61.0 │ 1.74766e7 │ 1.93292e7 │ 1.20892e7 │    0.185284 │  4.8895e7 │\n",
      "│  62.0 │ 1.55176e7 │ 2.22962e7 │ 1.17398e7 │      0.1816 │ 4.95536e7 │\n",
      "│  63.0 │ 1.56752e7 │ 2.18307e7 │ 1.20297e7 │    0.182035 │ 4.95355e7 │\n",
      "│  64.0 │ 1.42661e7 │ 2.39634e7 │ 1.17181e7 │    0.179959 │ 4.99476e7 │\n",
      "│  65.0 │ 1.09634e7 │ 2.68316e7 │  1.2764e7 │    0.177748 │  5.0559e7 │\n",
      "│  66.0 │ 1.30744e7 │ 2.42467e7 │ 1.28966e7 │    0.179403 │ 5.02177e7 │\n",
      "│  67.0 │ 1.49312e7 │  2.2188e7 │ 1.28414e7 │    0.181479 │ 4.99605e7 │\n",
      "│  68.0 │ 1.51239e7 │ 2.27097e7 │ 1.22239e7 │    0.181186 │ 5.00575e7 │\n",
      "│  69.0 │ 8.64681e6 │ 3.04328e7 │  1.2185e7 │    0.176987 │ 5.12646e7 │\n",
      "│  70.0 │ 8.62716e6 │ 3.05097e7 │ 1.22017e7 │    0.176987 │ 5.13385e7 │\n",
      "│  71.0 │ 1.14923e7 │ 2.75246e7 │ 1.19183e7 │    0.177675 │ 5.09352e7 │\n",
      "│  72.0 │ 1.28675e7 │ 2.67749e7 │ 1.11706e7 │    0.178279 │  5.0813e7 │\n",
      "│  73.0 │ 1.39167e7 │ 2.59684e7 │ 1.08201e7 │    0.178963 │ 5.07053e7 │\n",
      "│  74.0 │ 1.37674e7 │ 2.55849e7 │  1.1396e7 │    0.179044 │ 5.07483e7 │\n",
      "│  75.0 │ 1.32135e7 │ 2.61451e7 │  1.1537e7 │    0.178619 │ 5.08955e7 │\n",
      "│  76.0 │ 1.21362e7 │ 2.71851e7 │ 1.17895e7 │    0.177946 │ 5.11108e7 │\n",
      "│  77.0 │ 1.47134e7 │  2.5828e7 │ 1.03574e7 │    0.179418 │ 5.08988e7 │\n",
      "│  78.0 │ 1.93482e7 │ 2.06073e7 │ 1.02413e7 │    0.185677 │ 5.01968e7 │\n",
      "│  79.0 │ 1.17819e7 │ 2.74785e7 │ 1.21833e7 │    0.177803 │ 5.14437e7 │\n",
      "│  80.0 │ 1.15092e7 │ 2.80557e7 │ 1.20132e7 │    0.177602 │ 5.15782e7 │\n",
      "│  81.0 │ 1.07914e7 │  2.8943e7 │ 1.20334e7 │    0.177304 │ 5.17678e7 │\n",
      "│  82.0 │ 1.06611e7 │ 2.95141e7 │ 1.17003e7 │    0.177214 │ 5.18756e7 │\n",
      "│  83.0 │ 1.10122e7 │ 2.92683e7 │ 1.16188e7 │    0.177305 │ 5.18992e7 │\n",
      "│  84.0 │ 1.50144e7 │ 2.61533e7 │ 1.03325e7 │    0.179481 │ 5.15003e7 │\n",
      "│  85.0 │ 1.01101e7 │ 3.02872e7 │ 1.19635e7 │    0.177086 │ 5.23608e7 │\n",
      "│  86.0 │ 8.86706e6 │ 3.13742e7 │ 1.25449e7 │    0.176987 │ 5.27862e7 │\n",
      "│  87.0 │ 1.07415e7 │ 2.96008e7 │ 1.20548e7 │    0.177232 │ 5.23971e7 │\n",
      "│  88.0 │ 8.92331e6 │ 3.15734e7 │ 1.26246e7 │    0.176987 │ 5.31213e7 │\n",
      "│  89.0 │ 9.00069e6 │ 3.18473e7 │ 1.27341e7 │    0.176987 │ 5.35821e7 │\n",
      "│  90.0 │ 8.98901e6 │  3.1806e7 │ 1.27176e7 │    0.176987 │ 5.35126e7 │\n",
      "│  91.0 │ 8.93136e6 │ 3.16019e7 │  1.2636e7 │    0.176987 │ 5.31692e7 │\n",
      "│  92.0 │ 8.97277e6 │ 3.17485e7 │ 1.26946e7 │    0.176987 │ 5.34158e7 │\n",
      "│  93.0 │ 8.94131e6 │  3.1637e7 │ 1.26501e7 │    0.176987 │ 5.32284e7 │\n",
      "│  94.0 │  8.9616e6 │  3.1709e7 │ 1.26788e7 │    0.176987 │ 5.33494e7 │\n",
      "│  95.0 │ 9.03096e6 │ 3.19544e7 │  1.2777e7 │    0.176987 │ 5.37623e7 │\n",
      "│  96.0 │  9.0162e6 │ 3.19021e7 │ 1.27561e7 │    0.176987 │ 5.36744e7 │\n",
      "│  97.0 │ 9.35736e6 │ 2.93399e7 │ 1.42466e7 │    0.177277 │ 5.29438e7 │\n",
      "│  98.0 │ 9.73077e6 │ 2.84417e7 │ 1.46792e7 │    0.177539 │ 5.28516e7 │\n",
      "│  99.0 │ 9.61036e6 │ 2.84167e7 │ 1.48775e7 │    0.177569 │ 5.29045e7 │\n",
      "│ 100.0 │ 9.85947e6 │ 2.79219e7 │ 1.50836e7 │    0.177754 │  5.2865e7 │\n",
      "│ 101.0 │ 1.11811e7 │ 2.54407e7 │ 1.57909e7 │    0.179004 │ 5.24126e7 │\n",
      "│ 102.0 │ 1.08528e7 │ 2.60253e7 │ 1.57127e7 │    0.178675 │ 5.25908e7 │\n",
      "│ 103.0 │ 1.05318e7 │ 2.76701e7 │ 1.47941e7 │    0.177876 │  5.2996e7 │\n",
      "│ 104.0 │ 9.68036e6 │ 3.01721e7 │  1.3704e7 │    0.177151 │ 5.35565e7 │\n",
      "│ 105.0 │ 9.33458e6 │ 3.10596e7 │ 1.33945e7 │    0.177036 │ 5.37887e7 │\n",
      "│ 106.0 │ 1.00988e7 │ 2.75111e7 │ 1.54465e7 │    0.177989 │ 5.30564e7 │\n",
      "│ 107.0 │ 1.22904e7 │ 2.24285e7 │ 1.73254e7 │    0.181492 │ 5.20444e7 │\n",
      "│ 108.0 │ 1.21279e7 │  2.4589e7 │ 1.58198e7 │    0.179697 │ 5.25366e7 │\n",
      "│ 109.0 │ 1.20649e7 │ 2.49213e7 │ 1.56752e7 │    0.179482 │ 5.26614e7 │\n",
      "│ 110.0 │ 1.19411e7 │ 2.54719e7 │ 1.54266e7 │    0.179137 │ 5.28396e7 │\n",
      "│ 111.0 │ 1.19383e7 │ 2.52932e7 │ 1.56308e7 │    0.179271 │ 5.28623e7 │\n",
      "│ 112.0 │ 1.27093e7 │ 2.37361e7 │ 1.61325e7 │    0.180456 │ 5.25779e7 │\n",
      "│ 113.0 │  1.1926e7 │  2.5677e7 │ 1.54642e7 │    0.179068 │ 5.30671e7 │\n",
      "│ 114.0 │ 1.28303e7 │ 2.40939e7 │ 1.58614e7 │    0.180235 │ 5.27856e7 │\n",
      "│ 115.0 │  1.2804e7 │ 2.45604e7 │ 1.55728e7 │    0.179908 │ 5.29372e7 │\n",
      "│ 116.0 │ 1.41178e7 │  2.3352e7 │ 1.52793e7 │    0.181041 │ 5.27491e7 │\n",
      "│ 117.0 │ 1.09174e7 │ 2.90607e7 │ 1.38717e7 │    0.177515 │ 5.38498e7 │\n",
      "│ 118.0 │ 1.08725e7 │ 2.93993e7 │ 1.36929e7 │    0.177428 │ 5.39647e7 │\n",
      "│ 119.0 │ 1.52423e7 │ 2.39859e7 │ 1.38168e7 │    0.180927 │  5.3045e7 │\n",
      "│ 120.0 │ 1.47662e7 │ 2.53591e7 │ 1.31989e7 │    0.179906 │ 5.33243e7 │\n",
      "│ 121.0 │ 1.42161e7 │ 2.53649e7 │ 1.38461e7 │    0.179749 │ 5.34271e7 │\n",
      "│ 122.0 │ 1.42882e7 │ 2.60514e7 │ 1.32368e7 │    0.179401 │ 5.35764e7 │\n",
      "│ 123.0 │ 1.14003e7 │ 3.01308e7 │ 1.28665e7 │    0.177361 │ 5.43976e7 │\n",
      "│ 124.0 │ 1.30289e7 │ 2.79734e7 │ 1.30513e7 │    0.178247 │ 5.40536e7 │\n",
      "│ 125.0 │  1.2951e7 │ 2.72838e7 │ 1.37895e7 │    0.178516 │ 5.40243e7 │\n",
      "│ 126.0 │  1.5653e7 │ 2.40294e7 │ 1.37207e7 │    0.181127 │ 5.34031e7 │\n",
      "│ 127.0 │ 1.80279e7 │ 2.01526e7 │ 1.44671e7 │    0.185516 │ 5.26476e7 │\n",
      "│ 128.0 │ 2.07714e7 │ 1.86456e7 │ 1.28456e7 │    0.188829 │ 5.22625e7 │\n",
      "│ 129.0 │  2.1022e7 │ 1.70476e7 │  1.3997e7 │    0.190925 │ 5.20666e7 │\n",
      "│ 130.0 │ 1.98189e7 │  1.7363e7 │ 1.50946e7 │    0.189774 │ 5.22765e7 │\n",
      "│ 131.0 │ 1.59645e7 │  1.9252e7 │ 1.76666e7 │    0.185978 │ 5.28831e7 │\n",
      "│ 132.0 │  1.5209e7 │ 2.03924e7 │ 1.76039e7 │    0.184527 │ 5.32052e7 │\n",
      "│ 133.0 │ 1.65532e7 │ 1.95534e7 │ 1.69175e7 │    0.185779 │ 5.30241e7 │\n",
      "│ 134.0 │ 1.71919e7 │ 1.90687e7 │  1.6691e7 │    0.186558 │ 5.29515e7 │\n",
      "│ 135.0 │ 1.85575e7 │ 1.86763e7 │ 1.56059e7 │    0.187556 │ 5.28398e7 │\n",
      "│ 136.0 │ 2.03265e7 │ 1.84941e7 │ 1.39122e7 │    0.188749 │ 5.27329e7 │\n",
      "│ 137.0 │ 1.92111e7 │ 1.95597e7 │ 1.42616e7 │    0.186889 │ 5.30325e7 │\n",
      "│ 138.0 │ 1.86971e7 │ 1.88204e7 │  1.5492e7 │    0.187488 │ 5.30095e7 │\n",
      "│ 139.0 │ 1.87367e7 │ 1.82112e7 │ 1.60146e7 │    0.188273 │ 5.29626e7 │\n",
      "│ 140.0 │ 1.40767e7 │ 2.18451e7 │  1.7985e7 │    0.183003 │ 5.39068e7 │\n",
      "│ 141.0 │ 1.45571e7 │ 1.96694e7 │ 1.92244e7 │     0.18553 │  5.3451e7 │\n",
      "│ 142.0 │ 1.30292e7 │ 2.29973e7 │ 1.82934e7 │    0.181913 │   5.432e7 │\n",
      "│ 143.0 │ 1.30363e7 │ 2.32759e7 │ 1.81354e7 │     0.18168 │ 5.44476e7 │\n",
      "│ 144.0 │ 1.40275e7 │ 2.09022e7 │  1.9003e7 │    0.184143 │ 5.39327e7 │\n",
      "│ 145.0 │ 1.55736e7 │ 1.79698e7 │ 1.97978e7 │    0.187976 │ 5.33412e7 │\n",
      "│ 146.0 │ 1.54078e7 │ 1.72401e7 │ 2.05952e7 │    0.189071 │ 5.32431e7 │\n",
      "│ 147.0 │  1.2997e7 │ 1.32401e7 │ 2.60925e7 │    0.196674 │ 5.23296e7 │\n",
      "│ 148.0 │ 9.27249e6 │ 1.69121e7 │ 2.67548e7 │    0.191578 │ 5.29394e7 │\n",
      "│ 149.0 │   9.694e6 │ 1.68305e7 │ 2.64887e7 │    0.191508 │ 5.30132e7 │\n",
      "│ 150.0 │ 9.82097e6 │ 1.42373e7 │ 2.84683e7 │    0.196458 │ 5.25266e7 │\n",
      "│ 151.0 │ 9.87112e6 │ 1.35922e7 │ 2.89866e7 │    0.197819 │   5.245e7 │\n",
      "│ 152.0 │ 9.18625e6 │ 1.45334e7 │  2.8932e7 │     0.19638 │ 5.26517e7 │\n",
      "│ 153.0 │  8.8465e6 │ 1.78085e7 │ 2.66771e7 │    0.190458 │ 5.33321e7 │\n",
      "│ 154.0 │ 8.39561e6 │ 1.52165e7 │ 2.92652e7 │    0.195705 │ 5.28773e7 │\n",
      "│ 155.0 │ 8.27629e6 │ 1.33712e7 │ 3.09544e7 │    0.199801 │ 5.26019e7 │\n",
      "│ 156.0 │ 5.67948e6 │ 1.54036e7 │ 3.17152e7 │    0.197936 │ 5.27982e7 │\n",
      "│ 157.0 │ 6.84815e6 │ 1.11539e7 │ 3.42513e7 │    0.206622 │ 5.22533e7 │\n",
      "│ 158.0 │ 7.35133e6 │ 1.26382e7 │ 3.26062e7 │    0.202502 │ 5.25958e7 │\n",
      "│ 159.0 │ 9.32381e6 │ 1.13799e7 │ 3.18527e7 │    0.203695 │ 5.25564e7 │\n",
      "│ 160.0 │ 8.62921e6 │ 1.96403e7 │ 2.57354e7 │    0.187859 │ 5.40049e7 │\n",
      "│ 161.0 │ 7.07784e6 │ 1.36985e7 │ 3.21727e7 │    0.200478 │  5.2949e7 │\n",
      "│ 162.0 │ 8.52636e6 │ 1.40314e7 │ 3.06007e7 │    0.198449 │ 5.31584e7 │\n",
      "│ 163.0 │ 9.61101e6 │ 1.42914e7 │ 2.94347e7 │    0.197093 │ 5.33371e7 │\n",
      "│ 164.0 │ 9.67766e6 │ 1.99449e7 │  2.4863e7 │     0.18706 │ 5.44856e7 │\n",
      "│ 165.0 │ 1.05192e7 │ 2.17886e7 │ 2.26453e7 │    0.184245 │ 5.49531e7 │\n",
      "│ 166.0 │ 1.08319e7 │ 2.04933e7 │ 2.34454e7 │    0.185848 │ 5.47706e7 │\n",
      "│ 167.0 │ 1.14626e7 │  2.0879e7 │ 2.25946e7 │    0.185158 │ 5.49362e7 │\n",
      "│ 168.0 │ 1.22249e7 │ 1.84562e7 │  2.3845e7 │    0.188376 │ 5.45261e7 │\n",
      "│ 169.0 │ 1.01815e7 │ 1.47778e7 │ 2.87241e7 │    0.195865 │ 5.36834e7 │\n",
      "│ 170.0 │ 6.07628e6 │ 1.68661e7 │ 3.08153e7 │    0.195076 │ 5.37577e7 │\n",
      "│ 171.0 │ 5.90038e6 │ 1.89326e7 │ 2.93745e7 │    0.191518 │ 5.42075e7 │\n",
      "│ 172.0 │ 6.56096e6 │  1.8679e7 │ 2.90448e7 │    0.191418 │ 5.42848e7 │\n",
      "│ 173.0 │ 4.64655e6 │ 1.74009e7 │ 3.18624e7 │    0.195661 │ 5.39099e7 │\n",
      "│ 174.0 │ 3.66674e6 │ 1.80437e7 │ 3.22738e7 │    0.195574 │ 5.39842e7 │\n",
      "│ 175.0 │  4.4135e6 │ 1.93929e7 │ 3.06102e7 │     0.19238 │ 5.44165e7 │\n",
      "│ 176.0 │ 4.07546e6 │ 1.78197e7 │ 3.22189e7 │    0.195632 │ 5.41141e7 │\n",
      "│ 177.0 │ 5.61611e6 │ 1.81899e7 │ 3.06167e7 │    0.193391 │ 5.44226e7 │\n",
      "│ 178.0 │ 6.36834e6 │ 1.71305e7 │ 3.08433e7 │     0.19468 │ 5.43421e7 │\n",
      "│ 179.0 │ 4.61915e6 │ 1.15869e7 │   3.704e7 │    0.208993 │  5.3246e7 │\n",
      "│ 180.0 │ 4.67176e6 │ 4.98896e6 │ 4.25677e7 │     0.22775 │ 5.22284e7 │\n",
      "│ 181.0 │ 6.32065e6 │ 3.55217e6 │ 4.22984e7 │    0.229961 │ 5.21712e7 │\n",
      "│ 182.0 │ 7.69987e6 │ 4.39011e6 │ 4.03905e7 │    0.225519 │ 5.24805e7 │\n",
      "│ 183.0 │ 3.14404e6 │     0.555 │ 4.83536e7 │    0.247153 │ 5.14976e7 │\n",
      "│ 184.0 │ 2.51619e6 │ 3.77843e6 │ 4.59178e7 │    0.235257 │ 5.22124e7 │\n",
      "│ 185.0 │ 1.87696e6 │ 7.10017e6 │ 4.38748e7 │    0.225919 │  5.2852e7 │\n",
      "│ 186.0 │ 4.26319e6 │ 2.70963e6 │ 4.53121e7 │    0.235942 │  5.2285e7 │\n",
      "│ 187.0 │ 5.68901e6 │ 7.22875e6 │ 4.05661e7 │     0.21996 │ 5.34838e7 │\n",
      "│ 188.0 │ 5.73715e6 │ 3.94036e6 │  4.3181e7 │    0.229809 │ 5.28585e7 │\n",
      "│ 189.0 │ 5.34151e6 │ 8.17804e6 │ 4.03127e7 │    0.217849 │ 5.38322e7 │\n",
      "│ 190.0 │ 5.57598e6 │ 8.24795e6 │ 4.01105e7 │    0.217386 │ 5.39344e7 │\n",
      "│ 191.0 │  6.6325e6 │ 1.13768e7 │ 3.67751e7 │    0.208055 │ 5.47844e7 │\n",
      "│ 192.0 │ 7.13377e6 │ 1.24842e7 │ 3.55149e7 │    0.204945 │ 5.51328e7 │\n",
      "│ 193.0 │ 7.23859e6 │ 1.11154e7 │ 3.65563e7 │    0.208119 │ 5.49102e7 │\n",
      "│ 194.0 │ 7.37525e6 │ 1.37987e7 │ 3.44367e7 │    0.201887 │ 5.56107e7 │\n",
      "│ 195.0 │ 8.60142e6 │ 1.14874e7 │ 3.51894e7 │    0.205988 │ 5.52782e7 │\n",
      "│ 196.0 │ 7.67439e6 │ 9.34244e6 │ 3.78118e7 │    0.212257 │ 5.48286e7 │\n",
      "│ 197.0 │ 6.65562e6 │ 1.17817e7 │  3.6875e7 │    0.207354 │ 5.53123e7 │\n",
      "│ 198.0 │ 5.13902e6 │ 1.27643e7 │ 3.75196e7 │    0.206798 │ 5.54229e7 │\n",
      "│ 199.0 │ 5.84421e6 │ 8.59729e6 │ 4.02037e7 │    0.216447 │ 5.46452e7 │\n",
      "│ 200.0 │ 6.56832e6 │  7.1126e6 │ 4.07589e7 │     0.21965 │ 5.44398e7 │\n",
      "│ 201.0 │ 3.04812e6 │ 5.66944e6 │ 4.51482e7 │    0.228868 │ 5.38657e7 │\n",
      "│ 202.0 │  2.2316e6 │ 7.52086e6 │ 4.44526e7 │    0.224692 │  5.4205e7 │\n",
      "│ 203.0 │ 2.48534e6 │  1.0555e7 │ 4.18994e7 │    0.215983 │ 5.49397e7 │\n",
      "│ 204.0 │  2.2551e7 │ 2.84323e7 │       0.0 │    0.192872 │ 5.09833e7 │\n",
      "│ 205.0 │ 2.25385e7 │ 2.84166e7 │       0.0 │    0.192872 │ 5.09552e7 │\n",
      "│ 206.0 │ 2.22929e7 │ 2.81069e7 │       0.0 │    0.192872 │ 5.03998e7 │\n",
      "│ 207.0 │ 2.23973e7 │ 2.82386e7 │       0.0 │    0.192872 │ 5.06359e7 │\n",
      "│ 208.0 │ 2.24277e7 │ 2.82768e7 │       0.0 │    0.192872 │ 5.07045e7 │\n",
      "│ 209.0 │ 2.26318e7 │ 2.85342e7 │       0.0 │    0.192872 │  5.1166e7 │\n",
      "│ 210.0 │  2.2839e7 │ 2.87954e7 │       0.0 │    0.192872 │ 5.16344e7 │\n",
      "│ 211.0 │ 2.28523e7 │ 2.88122e7 │       0.0 │    0.192872 │ 5.16644e7 │\n",
      "│ 212.0 │ 2.31182e7 │ 2.91475e7 │       0.0 │    0.192872 │ 5.22657e7 │\n",
      "│ 213.0 │  2.3224e7 │ 2.92808e7 │       0.0 │    0.192872 │ 5.25048e7 │\n",
      "│ 214.0 │ 2.33343e7 │ 2.94199e7 │       0.0 │    0.192872 │ 5.27541e7 │\n",
      "│ 215.0 │ 2.30554e7 │ 2.90683e7 │       0.0 │    0.192872 │ 5.21237e7 │\n",
      "│ 216.0 │ 2.31541e7 │ 2.91928e7 │       0.0 │    0.192872 │ 5.23469e7 │\n",
      "│ 217.0 │ 2.32038e7 │ 2.92553e7 │       0.0 │    0.192872 │ 5.24591e7 │\n",
      "│ 218.0 │ 2.33125e7 │ 2.93924e7 │       0.0 │    0.192872 │ 5.27049e7 │\n",
      "│ 219.0 │ 1.59894e7 │     0.506 │ 3.65505e7 │    0.231697 │ 5.25399e7 │\n",
      "│ 220.0 │ 1.91266e7 │ 3.45219e6 │ 3.07329e7 │    0.220001 │ 5.33117e7 │\n",
      "│ 221.0 │ 2.18323e7 │ 9.35549e5 │ 3.01701e7 │    0.226783 │ 5.29379e7 │\n",
      "│ 222.0 │ 2.15228e7 │  2.9605e6 │ 2.88753e7 │    0.221072 │ 5.33586e7 │\n",
      "│ 223.0 │ 2.00392e7 │  2.9523e6 │ 3.04151e7 │    0.221254 │ 5.34066e7 │\n",
      "│ 224.0 │ 1.85431e7 │ 4.76647e6 │ 3.04897e7 │     0.21663 │ 5.37993e7 │\n",
      "│ 225.0 │ 2.03543e7 │ 1.39709e6 │ 3.15307e7 │    0.225665 │  5.3282e7 │\n",
      "│ 226.0 │ 2.08804e7 │ 5.07603e5 │ 3.18041e7 │    0.228194 │ 5.31921e7 │\n",
      "│ 227.0 │ 2.03826e7 │ 1.44964e6 │ 3.16049e7 │    0.225529 │ 5.34371e7 │\n",
      "│ 228.0 │ 2.33685e7 │  2.9463e7 │       0.0 │    0.192872 │ 5.28315e7 │\n",
      "│ 229.0 │ 2.35741e7 │ 2.97223e7 │       0.0 │    0.192872 │ 5.32964e7 │\n",
      "│ 230.0 │ 2.37707e7 │ 2.99701e7 │       0.0 │    0.192872 │ 5.37407e7 │\n",
      "└───────┴───────────┴───────────┴───────────┴─────────────┴───────────┘\n"
     ]
    }
   ],
   "source": [
    "reallocate_table_data = Array{Float64,2}(undef, number_of_trading_days, length(w)+3)\n",
    "for i ∈ 1:number_of_trading_days\n",
    "    reallocate_table_data[i,1] = i\n",
    "    for j ∈ eachindex(my_list_of_tickers)\n",
    "        reallocate_table_data[i,1+j] = portfolio_performance_array_reallocate[i,j];\n",
    "    end\n",
    "    reallocate_table_data[i,end-1] = portfolio_performance_array_reallocate[i,end-1]\n",
    "    reallocate_table_data[i,end] = portfolio_performance_array_reallocate[i,end]\n",
    "end\n",
    "\n",
    "pretty_table(reallocate_table_data, header=[\"day\",my_list_of_tickers...,\"risk (sqrt)\",\"total USD\"])"
   ]
  },
  {
   "cell_type": "code",
   "execution_count": 31,
   "id": "7472cec5-281a-40be-9dfa-26663592fca0",
   "metadata": {
    "tags": []
   },
   "outputs": [
    {
     "data": {
      "image/png": "[encoded data removed]",
      "image/svg+xml": [
       "<?xml version=\"1.0\" encoding=\"utf-8\"?>\n",
       "<svg xmlns=\"http://www.w3.org/2000/svg\" xmlns:xlink=\"http://www.w3.org/1999/xlink\" width=\"600\" height=\"400\" viewBox=\"0 0 2400 1600\">\n",
       "<defs>\n",
       "  <clipPath id=\"clip020\">\n",
       "    <rect x=\"0\" y=\"0\" width=\"2400\" height=\"1600\"/>\n",
       "  </clipPath>\n",
       "</defs>\n",
       "<path clip-path=\"url(#clip020)\" d=\"M0 1600 L2400 1600 L2400 0 L0 0  Z\" fill=\"#ffffff\" fill-rule=\"evenodd\" fill-opacity=\"1\"/>\n",
       "<defs>\n",
       "  <clipPath id=\"clip021\">\n",
       "    <rect x=\"480\" y=\"0\" width=\"1681\" height=\"1600\"/>\n",
       "  </clipPath>\n",
       "</defs>\n",
       "<path clip-path=\"url(#clip020)\" d=\"M217.297 1423.18 L2352.76 1423.18 L2352.76 47.2441 L217.297 47.2441  Z\" fill=\"#ffffff\" fill-rule=\"evenodd\" fill-opacity=\"1\"/>\n",
       "<defs>\n",
       "  <clipPath id=\"clip022\">\n",
       "    <rect x=\"217\" y=\"47\" width=\"2136\" height=\"1377\"/>\n",
       "  </clipPath>\n",
       "</defs>\n",
       "<polyline clip-path=\"url(#clip022)\" style=\"stroke:#000000; stroke-linecap:round; stroke-linejoin:round; stroke-width:2; stroke-opacity:0.1; fill:none\" points=\"268.937,1423.18 268.937,47.2441 \"/>\n",
       "<polyline clip-path=\"url(#clip022)\" style=\"stroke:#000000; stroke-linecap:round; stroke-linejoin:round; stroke-width:2; stroke-opacity:0.1; fill:none\" points=\"708.803,1423.18 708.803,47.2441 \"/>\n",
       "<polyline clip-path=\"url(#clip022)\" style=\"stroke:#000000; stroke-linecap:round; stroke-linejoin:round; stroke-width:2; stroke-opacity:0.1; fill:none\" points=\"1148.67,1423.18 1148.67,47.2441 \"/>\n",
       "<polyline clip-path=\"url(#clip022)\" style=\"stroke:#000000; stroke-linecap:round; stroke-linejoin:round; stroke-width:2; stroke-opacity:0.1; fill:none\" points=\"1588.53,1423.18 1588.53,47.2441 \"/>\n",
       "<polyline clip-path=\"url(#clip022)\" style=\"stroke:#000000; stroke-linecap:round; stroke-linejoin:round; stroke-width:2; stroke-opacity:0.1; fill:none\" points=\"2028.4,1423.18 2028.4,47.2441 \"/>\n",
       "<polyline clip-path=\"url(#clip020)\" style=\"stroke:#000000; stroke-linecap:round; stroke-linejoin:round; stroke-width:4; stroke-opacity:1; fill:none\" points=\"217.297,1423.18 2352.76,1423.18 \"/>\n",
       "<polyline clip-path=\"url(#clip020)\" style=\"stroke:#000000; stroke-linecap:round; stroke-linejoin:round; stroke-width:4; stroke-opacity:1; fill:none\" points=\"268.937,1423.18 268.937,1404.28 \"/>\n",
       "<polyline clip-path=\"url(#clip020)\" style=\"stroke:#000000; stroke-linecap:round; stroke-linejoin:round; stroke-width:4; stroke-opacity:1; fill:none\" points=\"708.803,1423.18 708.803,1404.28 \"/>\n",
       "<polyline clip-path=\"url(#clip020)\" style=\"stroke:#000000; stroke-linecap:round; stroke-linejoin:round; stroke-width:4; stroke-opacity:1; fill:none\" points=\"1148.67,1423.18 1148.67,1404.28 \"/>\n",
       "<polyline clip-path=\"url(#clip020)\" style=\"stroke:#000000; stroke-linecap:round; stroke-linejoin:round; stroke-width:4; stroke-opacity:1; fill:none\" points=\"1588.53,1423.18 1588.53,1404.28 \"/>\n",
       "<polyline clip-path=\"url(#clip020)\" style=\"stroke:#000000; stroke-linecap:round; stroke-linejoin:round; stroke-width:4; stroke-opacity:1; fill:none\" points=\"2028.4,1423.18 2028.4,1404.28 \"/>\n",
       "<path clip-path=\"url(#clip020)\" d=\"M268.937 1454.1 Q265.326 1454.1 263.497 1457.66 Q261.692 1461.2 261.692 1468.33 Q261.692 1475.44 263.497 1479.01 Q265.326 1482.55 268.937 1482.55 Q272.571 1482.55 274.377 1479.01 Q276.206 1475.44 276.206 1468.33 Q276.206 1461.2 274.377 1457.66 Q272.571 1454.1 268.937 1454.1 M268.937 1450.39 Q274.747 1450.39 277.803 1455 Q280.881 1459.58 280.881 1468.33 Q280.881 1477.06 277.803 1481.67 Q274.747 1486.25 268.937 1486.25 Q263.127 1486.25 260.048 1481.67 Q256.993 1477.06 256.993 1468.33 Q256.993 1459.58 260.048 1455 Q263.127 1450.39 268.937 1450.39 Z\" fill=\"#000000\" fill-rule=\"nonzero\" fill-opacity=\"1\" /><path clip-path=\"url(#clip020)\" d=\"M683.502 1451.02 L701.858 1451.02 L701.858 1454.96 L687.784 1454.96 L687.784 1463.43 Q688.803 1463.08 689.821 1462.92 Q690.84 1462.73 691.858 1462.73 Q697.645 1462.73 701.025 1465.9 Q704.404 1469.08 704.404 1474.49 Q704.404 1480.07 700.932 1483.17 Q697.46 1486.25 691.141 1486.25 Q688.965 1486.25 686.696 1485.88 Q684.451 1485.51 682.043 1484.77 L682.043 1480.07 Q684.127 1481.2 686.349 1481.76 Q688.571 1482.32 691.048 1482.32 Q695.053 1482.32 697.391 1480.21 Q699.729 1478.1 699.729 1474.49 Q699.729 1470.88 697.391 1468.77 Q695.053 1466.67 691.048 1466.67 Q689.173 1466.67 687.298 1467.08 Q685.446 1467.5 683.502 1468.38 L683.502 1451.02 Z\" fill=\"#000000\" fill-rule=\"nonzero\" fill-opacity=\"1\" /><path clip-path=\"url(#clip020)\" d=\"M723.617 1454.1 Q720.006 1454.1 718.178 1457.66 Q716.372 1461.2 716.372 1468.33 Q716.372 1475.44 718.178 1479.01 Q720.006 1482.55 723.617 1482.55 Q727.252 1482.55 729.057 1479.01 Q730.886 1475.44 730.886 1468.33 Q730.886 1461.2 729.057 1457.66 Q727.252 1454.1 723.617 1454.1 M723.617 1450.39 Q729.427 1450.39 732.483 1455 Q735.562 1459.58 735.562 1468.33 Q735.562 1477.06 732.483 1481.67 Q729.427 1486.25 723.617 1486.25 Q717.807 1486.25 714.728 1481.67 Q711.673 1477.06 711.673 1468.33 Q711.673 1459.58 714.728 1455 Q717.807 1450.39 723.617 1450.39 Z\" fill=\"#000000\" fill-rule=\"nonzero\" fill-opacity=\"1\" /><path clip-path=\"url(#clip020)\" d=\"M1108.27 1481.64 L1115.91 1481.64 L1115.91 1455.28 L1107.6 1456.95 L1107.6 1452.69 L1115.87 1451.02 L1120.54 1451.02 L1120.54 1481.64 L1128.18 1481.64 L1128.18 1485.58 L1108.27 1485.58 L1108.27 1481.64 Z\" fill=\"#000000\" fill-rule=\"nonzero\" fill-opacity=\"1\" /><path clip-path=\"url(#clip020)\" d=\"M1147.63 1454.1 Q1144.02 1454.1 1142.19 1457.66 Q1140.38 1461.2 1140.38 1468.33 Q1140.38 1475.44 1142.19 1479.01 Q1144.02 1482.55 1147.63 1482.55 Q1151.26 1482.55 1153.07 1479.01 Q1154.89 1475.44 1154.89 1468.33 Q1154.89 1461.2 1153.07 1457.66 Q1151.26 1454.1 1147.63 1454.1 M1147.63 1450.39 Q1153.44 1450.39 1156.49 1455 Q1159.57 1459.58 1159.57 1468.33 Q1159.57 1477.06 1156.49 1481.67 Q1153.44 1486.25 1147.63 1486.25 Q1141.82 1486.25 1138.74 1481.67 Q1135.68 1477.06 1135.68 1468.33 Q1135.68 1459.58 1138.74 1455 Q1141.82 1450.39 1147.63 1450.39 Z\" fill=\"#000000\" fill-rule=\"nonzero\" fill-opacity=\"1\" /><path clip-path=\"url(#clip020)\" d=\"M1177.79 1454.1 Q1174.18 1454.1 1172.35 1457.66 Q1170.54 1461.2 1170.54 1468.33 Q1170.54 1475.44 1172.35 1479.01 Q1174.18 1482.55 1177.79 1482.55 Q1181.42 1482.55 1183.23 1479.01 Q1185.06 1475.44 1185.06 1468.33 Q1185.06 1461.2 1183.23 1457.66 Q1181.42 1454.1 1177.79 1454.1 M1177.79 1450.39 Q1183.6 1450.39 1186.65 1455 Q1189.73 1459.58 1189.73 1468.33 Q1189.73 1477.06 1186.65 1481.67 Q1183.6 1486.25 1177.79 1486.25 Q1171.98 1486.25 1168.9 1481.67 Q1165.84 1477.06 1165.84 1468.33 Q1165.84 1459.58 1168.9 1455 Q1171.98 1450.39 1177.79 1450.39 Z\" fill=\"#000000\" fill-rule=\"nonzero\" fill-opacity=\"1\" /><path clip-path=\"url(#clip020)\" d=\"M1548.14 1481.64 L1555.78 1481.64 L1555.78 1455.28 L1547.47 1456.95 L1547.47 1452.69 L1555.73 1451.02 L1560.41 1451.02 L1560.41 1481.64 L1568.05 1481.64 L1568.05 1485.58 L1548.14 1485.58 L1548.14 1481.64 Z\" fill=\"#000000\" fill-rule=\"nonzero\" fill-opacity=\"1\" /><path clip-path=\"url(#clip020)\" d=\"M1577.54 1451.02 L1595.89 1451.02 L1595.89 1454.96 L1581.82 1454.96 L1581.82 1463.43 Q1582.84 1463.08 1583.86 1462.92 Q1584.88 1462.73 1585.89 1462.73 Q1591.68 1462.73 1595.06 1465.9 Q1598.44 1469.08 1598.44 1474.49 Q1598.44 1480.07 1594.97 1483.17 Q1591.5 1486.25 1585.18 1486.25 Q1583 1486.25 1580.73 1485.88 Q1578.49 1485.51 1576.08 1484.77 L1576.08 1480.07 Q1578.16 1481.2 1580.39 1481.76 Q1582.61 1482.32 1585.08 1482.32 Q1589.09 1482.32 1591.43 1480.21 Q1593.77 1478.1 1593.77 1474.49 Q1593.77 1470.88 1591.43 1468.77 Q1589.09 1466.67 1585.08 1466.67 Q1583.21 1466.67 1581.33 1467.08 Q1579.48 1467.5 1577.54 1468.38 L1577.54 1451.02 Z\" fill=\"#000000\" fill-rule=\"nonzero\" fill-opacity=\"1\" /><path clip-path=\"url(#clip020)\" d=\"M1617.65 1454.1 Q1614.04 1454.1 1612.21 1457.66 Q1610.41 1461.2 1610.41 1468.33 Q1610.41 1475.44 1612.21 1479.01 Q1614.04 1482.55 1617.65 1482.55 Q1621.29 1482.55 1623.09 1479.01 Q1624.92 1475.44 1624.92 1468.33 Q1624.92 1461.2 1623.09 1457.66 Q1621.29 1454.1 1617.65 1454.1 M1617.65 1450.39 Q1623.46 1450.39 1626.52 1455 Q1629.6 1459.58 1629.6 1468.33 Q1629.6 1477.06 1626.52 1481.67 Q1623.46 1486.25 1617.65 1486.25 Q1611.84 1486.25 1608.76 1481.67 Q1605.71 1477.06 1605.71 1468.33 Q1605.71 1459.58 1608.76 1455 Q1611.84 1450.39 1617.65 1450.39 Z\" fill=\"#000000\" fill-rule=\"nonzero\" fill-opacity=\"1\" /><path clip-path=\"url(#clip020)\" d=\"M1992.09 1481.64 L2008.41 1481.64 L2008.41 1485.58 L1986.47 1485.58 L1986.47 1481.64 Q1989.13 1478.89 1993.71 1474.26 Q1998.32 1469.61 1999.5 1468.27 Q2001.74 1465.74 2002.62 1464.01 Q2003.53 1462.25 2003.53 1460.56 Q2003.53 1457.8 2001.58 1456.07 Q1999.66 1454.33 1996.56 1454.33 Q1994.36 1454.33 1991.91 1455.09 Q1989.48 1455.86 1986.7 1457.41 L1986.7 1452.69 Q1989.52 1451.55 1991.98 1450.97 Q1994.43 1450.39 1996.47 1450.39 Q2001.84 1450.39 2005.03 1453.08 Q2008.23 1455.77 2008.23 1460.26 Q2008.23 1462.39 2007.42 1464.31 Q2006.63 1466.2 2004.52 1468.8 Q2003.94 1469.47 2000.84 1472.69 Q1997.74 1475.88 1992.09 1481.64 Z\" fill=\"#000000\" fill-rule=\"nonzero\" fill-opacity=\"1\" /><path clip-path=\"url(#clip020)\" d=\"M2028.23 1454.1 Q2024.61 1454.1 2022.79 1457.66 Q2020.98 1461.2 2020.98 1468.33 Q2020.98 1475.44 2022.79 1479.01 Q2024.61 1482.55 2028.23 1482.55 Q2031.86 1482.55 2033.67 1479.01 Q2035.49 1475.44 2035.49 1468.33 Q2035.49 1461.2 2033.67 1457.66 Q2031.86 1454.1 2028.23 1454.1 M2028.23 1450.39 Q2034.04 1450.39 2037.09 1455 Q2040.17 1459.58 2040.17 1468.33 Q2040.17 1477.06 2037.09 1481.67 Q2034.04 1486.25 2028.23 1486.25 Q2022.42 1486.25 2019.34 1481.67 Q2016.28 1477.06 2016.28 1468.33 Q2016.28 1459.58 2019.34 1455 Q2022.42 1450.39 2028.23 1450.39 Z\" fill=\"#000000\" fill-rule=\"nonzero\" fill-opacity=\"1\" /><path clip-path=\"url(#clip020)\" d=\"M2058.39 1454.1 Q2054.78 1454.1 2052.95 1457.66 Q2051.14 1461.2 2051.14 1468.33 Q2051.14 1475.44 2052.95 1479.01 Q2054.78 1482.55 2058.39 1482.55 Q2062.02 1482.55 2063.83 1479.01 Q2065.66 1475.44 2065.66 1468.33 Q2065.66 1461.2 2063.83 1457.66 Q2062.02 1454.1 2058.39 1454.1 M2058.39 1450.39 Q2064.2 1450.39 2067.25 1455 Q2070.33 1459.58 2070.33 1468.33 Q2070.33 1477.06 2067.25 1481.67 Q2064.2 1486.25 2058.39 1486.25 Q2052.58 1486.25 2049.5 1481.67 Q2046.44 1477.06 2046.44 1468.33 Q2046.44 1459.58 2049.5 1455 Q2052.58 1450.39 2058.39 1450.39 Z\" fill=\"#000000\" fill-rule=\"nonzero\" fill-opacity=\"1\" /><path clip-path=\"url(#clip020)\" d=\"M874.613 1520.52 L914.813 1520.52 L914.813 1525.93 L897.944 1525.93 L897.944 1568.04 L891.482 1568.04 L891.482 1525.93 L874.613 1525.93 L874.613 1520.52 Z\" fill=\"#000000\" fill-rule=\"nonzero\" fill-opacity=\"1\" /><path clip-path=\"url(#clip020)\" d=\"M931.841 1537.87 Q930.854 1537.3 929.677 1537.04 Q928.531 1536.76 927.13 1536.76 Q922.165 1536.76 919.492 1540 Q916.85 1543.22 916.85 1549.27 L916.85 1568.04 L910.962 1568.04 L910.962 1532.4 L916.85 1532.4 L916.85 1537.93 Q918.696 1534.69 921.656 1533.13 Q924.616 1531.54 928.849 1531.54 Q929.454 1531.54 930.186 1531.63 Q930.918 1531.7 931.809 1531.85 L931.841 1537.87 Z\" fill=\"#000000\" fill-rule=\"nonzero\" fill-opacity=\"1\" /><path clip-path=\"url(#clip020)\" d=\"M954.185 1550.12 Q947.087 1550.12 944.35 1551.75 Q941.612 1553.37 941.612 1557.29 Q941.612 1560.4 943.649 1562.25 Q945.718 1564.07 949.251 1564.07 Q954.121 1564.07 957.049 1560.63 Q960.009 1557.16 960.009 1551.43 L960.009 1550.12 L954.185 1550.12 M965.866 1547.71 L965.866 1568.04 L960.009 1568.04 L960.009 1562.63 Q958.004 1565.88 955.012 1567.44 Q952.02 1568.97 947.692 1568.97 Q942.217 1568.97 938.971 1565.91 Q935.756 1562.82 935.756 1557.67 Q935.756 1551.65 939.766 1548.6 Q943.809 1545.54 951.798 1545.54 L960.009 1545.54 L960.009 1544.97 Q960.009 1540.93 957.336 1538.73 Q954.694 1536.5 949.888 1536.5 Q946.832 1536.5 943.936 1537.23 Q941.039 1537.97 938.366 1539.43 L938.366 1534.02 Q941.581 1532.78 944.604 1532.17 Q947.628 1531.54 950.493 1531.54 Q958.227 1531.54 962.046 1535.55 Q965.866 1539.56 965.866 1547.71 Z\" fill=\"#000000\" fill-rule=\"nonzero\" fill-opacity=\"1\" /><path clip-path=\"url(#clip020)\" d=\"M1001.39 1537.81 L1001.39 1518.52 L1007.24 1518.52 L1007.24 1568.04 L1001.39 1568.04 L1001.39 1562.7 Q999.54 1565.88 996.708 1567.44 Q993.907 1568.97 989.96 1568.97 Q983.499 1568.97 979.425 1563.81 Q975.382 1558.65 975.382 1550.25 Q975.382 1541.85 979.425 1536.69 Q983.499 1531.54 989.96 1531.54 Q993.907 1531.54 996.708 1533.1 Q999.54 1534.62 1001.39 1537.81 M981.43 1550.25 Q981.43 1556.71 984.072 1560.4 Q986.745 1564.07 991.392 1564.07 Q996.039 1564.07 998.713 1560.4 Q1001.39 1556.71 1001.39 1550.25 Q1001.39 1543.79 998.713 1540.13 Q996.039 1536.44 991.392 1536.44 Q986.745 1536.44 984.072 1540.13 Q981.43 1543.79 981.43 1550.25 Z\" fill=\"#000000\" fill-rule=\"nonzero\" fill-opacity=\"1\" /><path clip-path=\"url(#clip020)\" d=\"M1019.31 1532.4 L1025.16 1532.4 L1025.16 1568.04 L1019.31 1568.04 L1019.31 1532.4 M1019.31 1518.52 L1025.16 1518.52 L1025.16 1525.93 L1019.31 1525.93 L1019.31 1518.52 Z\" fill=\"#000000\" fill-rule=\"nonzero\" fill-opacity=\"1\" /><path clip-path=\"url(#clip020)\" d=\"M1067.05 1546.53 L1067.05 1568.04 L1061.19 1568.04 L1061.19 1546.72 Q1061.19 1541.66 1059.22 1539.14 Q1057.25 1536.63 1053.3 1536.63 Q1048.56 1536.63 1045.82 1539.65 Q1043.08 1542.68 1043.08 1547.9 L1043.08 1568.04 L1037.19 1568.04 L1037.19 1532.4 L1043.08 1532.4 L1043.08 1537.93 Q1045.18 1534.72 1048.02 1533.13 Q1050.88 1531.54 1054.6 1531.54 Q1060.75 1531.54 1063.9 1535.36 Q1067.05 1539.14 1067.05 1546.53 Z\" fill=\"#000000\" fill-rule=\"nonzero\" fill-opacity=\"1\" /><path clip-path=\"url(#clip020)\" d=\"M1102.19 1549.81 Q1102.19 1543.44 1099.55 1539.94 Q1096.94 1536.44 1092.19 1536.44 Q1087.48 1536.44 1084.84 1539.94 Q1082.23 1543.44 1082.23 1549.81 Q1082.23 1556.14 1084.84 1559.64 Q1087.48 1563.14 1092.19 1563.14 Q1096.94 1563.14 1099.55 1559.64 Q1102.19 1556.14 1102.19 1549.81 M1108.04 1563.62 Q1108.04 1572.72 1104 1577.15 Q1099.96 1581.6 1091.62 1581.6 Q1088.53 1581.6 1085.8 1581.13 Q1083.06 1580.68 1080.48 1579.72 L1080.48 1574.03 Q1083.06 1575.43 1085.57 1576.1 Q1088.09 1576.76 1090.7 1576.76 Q1096.46 1576.76 1099.32 1573.74 Q1102.19 1570.75 1102.19 1564.67 L1102.19 1561.77 Q1100.37 1564.92 1097.54 1566.48 Q1094.71 1568.04 1090.76 1568.04 Q1084.2 1568.04 1080.19 1563.05 Q1076.18 1558.05 1076.18 1549.81 Q1076.18 1541.53 1080.19 1536.53 Q1084.2 1531.54 1090.76 1531.54 Q1094.71 1531.54 1097.54 1533.1 Q1100.37 1534.66 1102.19 1537.81 L1102.19 1532.4 L1108.04 1532.4 L1108.04 1563.62 Z\" fill=\"#000000\" fill-rule=\"nonzero\" fill-opacity=\"1\" /><path clip-path=\"url(#clip020)\" d=\"M1147.51 1525.81 L1147.51 1562.76 L1155.28 1562.76 Q1165.11 1562.76 1169.66 1558.3 Q1174.25 1553.85 1174.25 1544.24 Q1174.25 1534.69 1169.66 1530.26 Q1165.11 1525.81 1155.28 1525.81 L1147.51 1525.81 M1141.08 1520.52 L1154.29 1520.52 Q1168.1 1520.52 1174.57 1526.28 Q1181.03 1532.01 1181.03 1544.24 Q1181.03 1556.52 1174.53 1562.28 Q1168.04 1568.04 1154.29 1568.04 L1141.08 1568.04 L1141.08 1520.52 Z\" fill=\"#000000\" fill-rule=\"nonzero\" fill-opacity=\"1\" /><path clip-path=\"url(#clip020)\" d=\"M1207.22 1550.12 Q1200.12 1550.12 1197.39 1551.75 Q1194.65 1553.37 1194.65 1557.29 Q1194.65 1560.4 1196.69 1562.25 Q1198.76 1564.07 1202.29 1564.07 Q1207.16 1564.07 1210.09 1560.63 Q1213.05 1557.16 1213.05 1551.43 L1213.05 1550.12 L1207.22 1550.12 M1218.9 1547.71 L1218.9 1568.04 L1213.05 1568.04 L1213.05 1562.63 Q1211.04 1565.88 1208.05 1567.44 Q1205.06 1568.97 1200.73 1568.97 Q1195.25 1568.97 1192.01 1565.91 Q1188.79 1562.82 1188.79 1557.67 Q1188.79 1551.65 1192.8 1548.6 Q1196.85 1545.54 1204.83 1545.54 L1213.05 1545.54 L1213.05 1544.97 Q1213.05 1540.93 1210.37 1538.73 Q1207.73 1536.5 1202.92 1536.5 Q1199.87 1536.5 1196.97 1537.23 Q1194.08 1537.97 1191.4 1539.43 L1191.4 1534.02 Q1194.62 1532.78 1197.64 1532.17 Q1200.66 1531.54 1203.53 1531.54 Q1211.26 1531.54 1215.08 1535.55 Q1218.9 1539.56 1218.9 1547.71 Z\" fill=\"#000000\" fill-rule=\"nonzero\" fill-opacity=\"1\" /><path clip-path=\"url(#clip020)\" d=\"M1245.8 1571.35 Q1243.32 1577.72 1240.96 1579.66 Q1238.6 1581.6 1234.66 1581.6 L1229.98 1581.6 L1229.98 1576.7 L1233.42 1576.7 Q1235.84 1576.7 1237.17 1575.56 Q1238.51 1574.41 1240.13 1570.14 L1241.18 1567.47 L1226.76 1532.4 L1232.97 1532.4 L1244.11 1560.28 L1255.25 1532.4 L1261.46 1532.4 L1245.8 1571.35 Z\" fill=\"#000000\" fill-rule=\"nonzero\" fill-opacity=\"1\" /><path clip-path=\"url(#clip020)\" d=\"M1290.52 1520.52 L1296.95 1520.52 L1296.95 1568.04 L1290.52 1568.04 L1290.52 1520.52 Z\" fill=\"#000000\" fill-rule=\"nonzero\" fill-opacity=\"1\" /><path clip-path=\"url(#clip020)\" d=\"M1339.12 1546.53 L1339.12 1568.04 L1333.26 1568.04 L1333.26 1546.72 Q1333.26 1541.66 1331.29 1539.14 Q1329.32 1536.63 1325.37 1536.63 Q1320.63 1536.63 1317.89 1539.65 Q1315.15 1542.68 1315.15 1547.9 L1315.15 1568.04 L1309.26 1568.04 L1309.26 1532.4 L1315.15 1532.4 L1315.15 1537.93 Q1317.25 1534.72 1320.09 1533.13 Q1322.95 1531.54 1326.67 1531.54 Q1332.82 1531.54 1335.97 1535.36 Q1339.12 1539.14 1339.12 1546.53 Z\" fill=\"#000000\" fill-rule=\"nonzero\" fill-opacity=\"1\" /><path clip-path=\"url(#clip020)\" d=\"M1374.26 1537.81 L1374.26 1518.52 L1380.11 1518.52 L1380.11 1568.04 L1374.26 1568.04 L1374.26 1562.7 Q1372.41 1565.88 1369.58 1567.44 Q1366.78 1568.97 1362.83 1568.97 Q1356.37 1568.97 1352.3 1563.81 Q1348.25 1558.65 1348.25 1550.25 Q1348.25 1541.85 1352.3 1536.69 Q1356.37 1531.54 1362.83 1531.54 Q1366.78 1531.54 1369.58 1533.1 Q1372.41 1534.62 1374.26 1537.81 M1354.3 1550.25 Q1354.3 1556.71 1356.94 1560.4 Q1359.62 1564.07 1364.26 1564.07 Q1368.91 1564.07 1371.58 1560.4 Q1374.26 1556.71 1374.26 1550.25 Q1374.26 1543.79 1371.58 1540.13 Q1368.91 1536.44 1364.26 1536.44 Q1359.62 1536.44 1356.94 1540.13 Q1354.3 1543.79 1354.3 1550.25 Z\" fill=\"#000000\" fill-rule=\"nonzero\" fill-opacity=\"1\" /><path clip-path=\"url(#clip020)\" d=\"M1422.67 1548.76 L1422.67 1551.62 L1395.74 1551.62 Q1396.12 1557.67 1399.37 1560.85 Q1402.65 1564 1408.47 1564 Q1411.85 1564 1415 1563.17 Q1418.18 1562.35 1421.3 1560.69 L1421.3 1566.23 Q1418.15 1567.57 1414.84 1568.27 Q1411.53 1568.97 1408.12 1568.97 Q1399.59 1568.97 1394.6 1564 Q1389.63 1559.04 1389.63 1550.57 Q1389.63 1541.82 1394.34 1536.69 Q1399.08 1531.54 1407.1 1531.54 Q1414.3 1531.54 1418.47 1536.18 Q1422.67 1540.8 1422.67 1548.76 M1416.81 1547.04 Q1416.75 1542.23 1414.11 1539.37 Q1411.5 1536.5 1407.17 1536.5 Q1402.27 1536.5 1399.31 1539.27 Q1396.38 1542.04 1395.93 1547.07 L1416.81 1547.04 Z\" fill=\"#000000\" fill-rule=\"nonzero\" fill-opacity=\"1\" /><path clip-path=\"url(#clip020)\" d=\"M1460.77 1532.4 L1447.88 1549.74 L1461.44 1568.04 L1454.53 1568.04 L1444.15 1554.04 L1433.78 1568.04 L1426.87 1568.04 L1440.72 1549.39 L1428.05 1532.4 L1434.95 1532.4 L1444.41 1545.1 L1453.86 1532.4 L1460.77 1532.4 Z\" fill=\"#000000\" fill-rule=\"nonzero\" fill-opacity=\"1\" /><path clip-path=\"url(#clip020)\" d=\"M1504.5 1518.58 Q1500.23 1525.9 1498.17 1533.06 Q1496.1 1540.23 1496.1 1547.58 Q1496.1 1554.93 1498.17 1562.16 Q1500.27 1569.35 1504.5 1576.64 L1499.41 1576.64 Q1494.63 1569.16 1492.25 1561.93 Q1489.89 1554.71 1489.89 1547.58 Q1489.89 1540.48 1492.25 1533.29 Q1494.6 1526.09 1499.41 1518.58 L1504.5 1518.58 Z\" fill=\"#000000\" fill-rule=\"nonzero\" fill-opacity=\"1\" /><path clip-path=\"url(#clip020)\" d=\"M1522.23 1562.63 L1544.67 1562.63 L1544.67 1568.04 L1514.49 1568.04 L1514.49 1562.63 Q1518.15 1558.85 1524.46 1552.48 Q1530.79 1546.08 1532.41 1544.24 Q1535.5 1540.77 1536.71 1538.38 Q1537.95 1535.96 1537.95 1533.64 Q1537.95 1529.85 1535.28 1527.46 Q1532.64 1525.08 1528.37 1525.08 Q1525.35 1525.08 1521.97 1526.13 Q1518.63 1527.18 1514.81 1529.31 L1514.81 1522.82 Q1518.7 1521.26 1522.07 1520.46 Q1525.44 1519.66 1528.24 1519.66 Q1535.63 1519.66 1540.02 1523.36 Q1544.41 1527.05 1544.41 1533.22 Q1544.41 1536.15 1543.3 1538.79 Q1542.22 1541.4 1539.32 1544.97 Q1538.52 1545.89 1534.26 1550.32 Q1529.99 1554.71 1522.23 1562.63 Z\" fill=\"#000000\" fill-rule=\"nonzero\" fill-opacity=\"1\" /><path clip-path=\"url(#clip020)\" d=\"M1571.91 1524.76 Q1566.95 1524.76 1564.43 1529.66 Q1561.95 1534.53 1561.95 1544.33 Q1561.95 1554.1 1564.43 1559 Q1566.95 1563.87 1571.91 1563.87 Q1576.91 1563.87 1579.39 1559 Q1581.91 1554.1 1581.91 1544.33 Q1581.91 1534.53 1579.39 1529.66 Q1576.91 1524.76 1571.91 1524.76 M1571.91 1519.66 Q1579.9 1519.66 1584.1 1526 Q1588.34 1532.3 1588.34 1544.33 Q1588.34 1556.33 1584.1 1562.66 Q1579.9 1568.97 1571.91 1568.97 Q1563.92 1568.97 1559.69 1562.66 Q1555.49 1556.33 1555.49 1544.33 Q1555.49 1532.3 1559.69 1526 Q1563.92 1519.66 1571.91 1519.66 Z\" fill=\"#000000\" fill-rule=\"nonzero\" fill-opacity=\"1\" /><path clip-path=\"url(#clip020)\" d=\"M1605.17 1562.63 L1627.61 1562.63 L1627.61 1568.04 L1597.44 1568.04 L1597.44 1562.63 Q1601.1 1558.85 1607.4 1552.48 Q1613.74 1546.08 1615.36 1544.24 Q1618.45 1540.77 1619.66 1538.38 Q1620.9 1535.96 1620.9 1533.64 Q1620.9 1529.85 1618.22 1527.46 Q1615.58 1525.08 1611.32 1525.08 Q1608.29 1525.08 1604.92 1526.13 Q1601.58 1527.18 1597.76 1529.31 L1597.76 1522.82 Q1601.64 1521.26 1605.01 1520.46 Q1608.39 1519.66 1611.19 1519.66 Q1618.57 1519.66 1622.97 1523.36 Q1627.36 1527.05 1627.36 1533.22 Q1627.36 1536.15 1626.24 1538.79 Q1625.16 1541.4 1622.27 1544.97 Q1621.47 1545.89 1617.2 1550.32 Q1612.94 1554.71 1605.17 1562.63 Z\" fill=\"#000000\" fill-rule=\"nonzero\" fill-opacity=\"1\" /><path clip-path=\"url(#clip020)\" d=\"M1660.59 1542.42 Q1665.2 1543.41 1667.78 1546.53 Q1670.39 1549.65 1670.39 1554.23 Q1670.39 1561.26 1665.55 1565.12 Q1660.71 1568.97 1651.8 1568.97 Q1648.81 1568.97 1645.63 1568.36 Q1642.48 1567.79 1639.1 1566.61 L1639.1 1560.4 Q1641.78 1561.96 1644.96 1562.76 Q1648.14 1563.56 1651.61 1563.56 Q1657.66 1563.56 1660.81 1561.17 Q1663.99 1558.78 1663.99 1554.23 Q1663.99 1550.03 1661.03 1547.67 Q1658.1 1545.29 1652.85 1545.29 L1647.31 1545.29 L1647.31 1540 L1653.11 1540 Q1657.85 1540 1660.36 1538.13 Q1662.88 1536.22 1662.88 1532.65 Q1662.88 1528.99 1660.27 1527.05 Q1657.69 1525.08 1652.85 1525.08 Q1650.21 1525.08 1647.19 1525.65 Q1644.16 1526.22 1640.54 1527.43 L1640.54 1521.7 Q1644.2 1520.68 1647.38 1520.17 Q1650.59 1519.66 1653.43 1519.66 Q1660.75 1519.66 1665.01 1523.01 Q1669.28 1526.32 1669.28 1531.98 Q1669.28 1535.93 1667.02 1538.67 Q1664.76 1541.37 1660.59 1542.42 Z\" fill=\"#000000\" fill-rule=\"nonzero\" fill-opacity=\"1\" /><path clip-path=\"url(#clip020)\" d=\"M1680.83 1518.58 L1685.92 1518.58 Q1690.7 1526.09 1693.05 1533.29 Q1695.44 1540.48 1695.44 1547.58 Q1695.44 1554.71 1693.05 1561.93 Q1690.7 1569.16 1685.92 1576.64 L1680.83 1576.64 Q1685.06 1569.35 1687.13 1562.16 Q1689.23 1554.93 1689.23 1547.58 Q1689.23 1540.23 1687.13 1533.06 Q1685.06 1525.9 1680.83 1518.58 Z\" fill=\"#000000\" fill-rule=\"nonzero\" fill-opacity=\"1\" /><polyline clip-path=\"url(#clip022)\" style=\"stroke:#000000; stroke-linecap:round; stroke-linejoin:round; stroke-width:2; stroke-opacity:0.1; fill:none\" points=\"217.297,1376.99 2352.76,1376.99 \"/>\n",
       "<polyline clip-path=\"url(#clip022)\" style=\"stroke:#000000; stroke-linecap:round; stroke-linejoin:round; stroke-width:2; stroke-opacity:0.1; fill:none\" points=\"217.297,979.766 2352.76,979.766 \"/>\n",
       "<polyline clip-path=\"url(#clip022)\" style=\"stroke:#000000; stroke-linecap:round; stroke-linejoin:round; stroke-width:2; stroke-opacity:0.1; fill:none\" points=\"217.297,582.541 2352.76,582.541 \"/>\n",
       "<polyline clip-path=\"url(#clip022)\" style=\"stroke:#000000; stroke-linecap:round; stroke-linejoin:round; stroke-width:2; stroke-opacity:0.1; fill:none\" points=\"217.297,185.317 2352.76,185.317 \"/>\n",
       "<polyline clip-path=\"url(#clip020)\" style=\"stroke:#000000; stroke-linecap:round; stroke-linejoin:round; stroke-width:4; stroke-opacity:1; fill:none\" points=\"217.297,1423.18 217.297,47.2441 \"/>\n",
       "<polyline clip-path=\"url(#clip020)\" style=\"stroke:#000000; stroke-linecap:round; stroke-linejoin:round; stroke-width:4; stroke-opacity:1; fill:none\" points=\"217.297,1376.99 236.194,1376.99 \"/>\n",
       "<polyline clip-path=\"url(#clip020)\" style=\"stroke:#000000; stroke-linecap:round; stroke-linejoin:round; stroke-width:4; stroke-opacity:1; fill:none\" points=\"217.297,979.766 236.194,979.766 \"/>\n",
       "<polyline clip-path=\"url(#clip020)\" style=\"stroke:#000000; stroke-linecap:round; stroke-linejoin:round; stroke-width:4; stroke-opacity:1; fill:none\" points=\"217.297,582.541 236.194,582.541 \"/>\n",
       "<polyline clip-path=\"url(#clip020)\" style=\"stroke:#000000; stroke-linecap:round; stroke-linejoin:round; stroke-width:4; stroke-opacity:1; fill:none\" points=\"217.297,185.317 236.194,185.317 \"/>\n",
       "<path clip-path=\"url(#clip020)\" d=\"M114.931 1390.34 L122.57 1390.34 L122.57 1363.97 L114.26 1365.64 L114.26 1361.38 L122.524 1359.71 L127.2 1359.71 L127.2 1390.34 L134.839 1390.34 L134.839 1394.27 L114.931 1394.27 L114.931 1390.34 Z\" fill=\"#000000\" fill-rule=\"nonzero\" fill-opacity=\"1\" /><path clip-path=\"url(#clip020)\" d=\"M144.283 1388.39 L149.167 1388.39 L149.167 1394.27 L144.283 1394.27 L144.283 1388.39 Z\" fill=\"#000000\" fill-rule=\"nonzero\" fill-opacity=\"1\" /><path clip-path=\"url(#clip020)\" d=\"M169.352 1362.79 Q165.741 1362.79 163.913 1366.35 Q162.107 1369.9 162.107 1377.03 Q162.107 1384.13 163.913 1387.7 Q165.741 1391.24 169.352 1391.24 Q172.987 1391.24 174.792 1387.7 Q176.621 1384.13 176.621 1377.03 Q176.621 1369.9 174.792 1366.35 Q172.987 1362.79 169.352 1362.79 M169.352 1359.09 Q175.163 1359.09 178.218 1363.69 Q181.297 1368.28 181.297 1377.03 Q181.297 1385.75 178.218 1390.36 Q175.163 1394.94 169.352 1394.94 Q163.542 1394.94 160.464 1390.36 Q157.408 1385.75 157.408 1377.03 Q157.408 1368.28 160.464 1363.69 Q163.542 1359.09 169.352 1359.09 Z\" fill=\"#000000\" fill-rule=\"nonzero\" fill-opacity=\"1\" /><path clip-path=\"url(#clip020)\" d=\"M116.158 993.111 L123.797 993.111 L123.797 966.745 L115.487 968.412 L115.487 964.153 L123.751 962.486 L128.427 962.486 L128.427 993.111 L136.066 993.111 L136.066 997.046 L116.158 997.046 L116.158 993.111 Z\" fill=\"#000000\" fill-rule=\"nonzero\" fill-opacity=\"1\" /><path clip-path=\"url(#clip020)\" d=\"M145.51 991.166 L150.394 991.166 L150.394 997.046 L145.51 997.046 L145.51 991.166 Z\" fill=\"#000000\" fill-rule=\"nonzero\" fill-opacity=\"1\" /><path clip-path=\"url(#clip020)\" d=\"M161.39 993.111 L169.028 993.111 L169.028 966.745 L160.718 968.412 L160.718 964.153 L168.982 962.486 L173.658 962.486 L173.658 993.111 L181.297 993.111 L181.297 997.046 L161.39 997.046 L161.39 993.111 Z\" fill=\"#000000\" fill-rule=\"nonzero\" fill-opacity=\"1\" /><path clip-path=\"url(#clip020)\" d=\"M116.529 595.886 L124.168 595.886 L124.168 569.521 L115.857 571.187 L115.857 566.928 L124.121 565.261 L128.797 565.261 L128.797 595.886 L136.436 595.886 L136.436 599.821 L116.529 599.821 L116.529 595.886 Z\" fill=\"#000000\" fill-rule=\"nonzero\" fill-opacity=\"1\" /><path clip-path=\"url(#clip020)\" d=\"M145.88 593.942 L150.765 593.942 L150.765 599.821 L145.88 599.821 L145.88 593.942 Z\" fill=\"#000000\" fill-rule=\"nonzero\" fill-opacity=\"1\" /><path clip-path=\"url(#clip020)\" d=\"M164.977 595.886 L181.297 595.886 L181.297 599.821 L159.353 599.821 L159.353 595.886 Q162.015 593.132 166.598 588.502 Q171.204 583.849 172.385 582.507 Q174.63 579.984 175.51 578.247 Q176.413 576.488 176.413 574.798 Q176.413 572.044 174.468 570.308 Q172.547 568.572 169.445 568.572 Q167.246 568.572 164.792 569.335 Q162.362 570.099 159.584 571.65 L159.584 566.928 Q162.408 565.794 164.862 565.215 Q167.315 564.636 169.352 564.636 Q174.723 564.636 177.917 567.322 Q181.112 570.007 181.112 574.497 Q181.112 576.627 180.301 578.548 Q179.514 580.446 177.408 583.039 Q176.829 583.71 173.727 586.928 Q170.626 590.122 164.977 595.886 Z\" fill=\"#000000\" fill-rule=\"nonzero\" fill-opacity=\"1\" /><path clip-path=\"url(#clip020)\" d=\"M115.58 198.662 L123.218 198.662 L123.218 172.296 L114.908 173.963 L114.908 169.703 L123.172 168.037 L127.848 168.037 L127.848 198.662 L135.487 198.662 L135.487 202.597 L115.58 202.597 L115.58 198.662 Z\" fill=\"#000000\" fill-rule=\"nonzero\" fill-opacity=\"1\" /><path clip-path=\"url(#clip020)\" d=\"M144.931 196.717 L149.816 196.717 L149.816 202.597 L144.931 202.597 L144.931 196.717 Z\" fill=\"#000000\" fill-rule=\"nonzero\" fill-opacity=\"1\" /><path clip-path=\"url(#clip020)\" d=\"M174.167 183.963 Q177.524 184.68 179.399 186.949 Q181.297 189.217 181.297 192.551 Q181.297 197.666 177.778 200.467 Q174.26 203.268 167.778 203.268 Q165.602 203.268 163.288 202.828 Q160.996 202.412 158.542 201.555 L158.542 197.041 Q160.487 198.176 162.802 198.754 Q165.116 199.333 167.64 199.333 Q172.038 199.333 174.329 197.597 Q176.644 195.861 176.644 192.551 Q176.644 189.495 174.491 187.782 Q172.362 186.046 168.542 186.046 L164.515 186.046 L164.515 182.203 L168.727 182.203 Q172.177 182.203 174.005 180.838 Q175.834 179.449 175.834 176.856 Q175.834 174.194 173.936 172.782 Q172.061 171.347 168.542 171.347 Q166.621 171.347 164.422 171.764 Q162.223 172.18 159.584 173.06 L159.584 168.893 Q162.246 168.153 164.561 167.782 Q166.899 167.412 168.959 167.412 Q174.283 167.412 177.385 169.842 Q180.487 172.25 180.487 176.37 Q180.487 179.24 178.843 181.231 Q177.2 183.199 174.167 183.963 Z\" fill=\"#000000\" fill-rule=\"nonzero\" fill-opacity=\"1\" /><path clip-path=\"url(#clip020)\" d=\"M16.4842 949.593 L16.4842 943.1 L56.6518 933.106 L16.4842 923.144 L16.4842 915.918 L56.6518 905.924 L16.4842 895.962 L16.4842 889.437 L64.0042 901.373 L64.0042 909.457 L22.7544 919.483 L64.0042 929.605 L64.0042 937.689 L16.4842 949.593 Z\" fill=\"#000000\" fill-rule=\"nonzero\" fill-opacity=\"1\" /><path clip-path=\"url(#clip020)\" d=\"M44.7161 854.489 L47.5806 854.489 L47.5806 881.416 Q53.6281 881.034 56.8109 877.788 Q59.9619 874.51 59.9619 868.685 Q59.9619 865.311 59.1344 862.16 Q58.3069 858.977 56.6518 855.858 L62.1899 855.858 Q63.5267 859.009 64.227 862.319 Q64.9272 865.629 64.9272 869.035 Q64.9272 877.565 59.9619 882.562 Q54.9967 887.527 46.5303 887.527 Q37.7774 887.527 32.6531 882.817 Q27.4968 878.074 27.4968 870.054 Q27.4968 862.86 32.1438 858.691 Q36.7589 854.489 44.7161 854.489 M42.9973 860.346 Q38.1912 860.41 35.3266 863.051 Q32.4621 865.661 32.4621 869.99 Q32.4621 874.891 35.2312 877.852 Q38.0002 880.78 43.0292 881.225 L42.9973 860.346 Z\" fill=\"#000000\" fill-rule=\"nonzero\" fill-opacity=\"1\" /><path clip-path=\"url(#clip020)\" d=\"M46.0847 828.676 Q46.0847 835.774 47.7079 838.511 Q49.3312 841.249 53.2461 841.249 Q56.3653 841.249 58.2114 839.212 Q60.0256 837.143 60.0256 833.61 Q60.0256 828.74 56.5881 825.812 Q53.1188 822.852 47.3897 822.852 L46.0847 822.852 L46.0847 828.676 M43.6657 816.995 L64.0042 816.995 L64.0042 822.852 L58.5933 822.852 Q61.8398 824.857 63.3994 827.849 Q64.9272 830.841 64.9272 835.169 Q64.9272 840.644 61.8716 843.89 Q58.7843 847.105 53.6281 847.105 Q47.6125 847.105 44.5569 843.095 Q41.5014 839.053 41.5014 831.064 L41.5014 822.852 L40.9285 822.852 Q36.8862 822.852 34.6901 825.525 Q32.4621 828.167 32.4621 832.973 Q32.4621 836.029 33.1941 838.925 Q33.9262 841.822 35.3903 844.495 L29.9795 844.495 Q28.7381 841.281 28.1334 838.257 Q27.4968 835.233 27.4968 832.369 Q27.4968 824.634 31.5072 820.815 Q35.5176 816.995 43.6657 816.995 Z\" fill=\"#000000\" fill-rule=\"nonzero\" fill-opacity=\"1\" /><path clip-path=\"url(#clip020)\" d=\"M14.479 804.932 L14.479 799.076 L64.0042 799.076 L64.0042 804.932 L14.479 804.932 Z\" fill=\"#000000\" fill-rule=\"nonzero\" fill-opacity=\"1\" /><path clip-path=\"url(#clip020)\" d=\"M18.2347 781.029 L28.3562 781.029 L28.3562 768.966 L32.9077 768.966 L32.9077 781.029 L52.2594 781.029 Q56.6199 781.029 57.8613 779.851 Q59.1026 778.642 59.1026 774.982 L59.1026 768.966 L64.0042 768.966 L64.0042 774.982 Q64.0042 781.761 61.4897 784.339 Q58.9434 786.917 52.2594 786.917 L32.9077 786.917 L32.9077 791.214 L28.3562 791.214 L28.3562 786.917 L18.2347 786.917 L18.2347 781.029 Z\" fill=\"#000000\" fill-rule=\"nonzero\" fill-opacity=\"1\" /><path clip-path=\"url(#clip020)\" d=\"M42.4881 731.631 L64.0042 731.631 L64.0042 737.488 L42.679 737.488 Q37.6183 737.488 35.1038 739.461 Q32.5894 741.434 32.5894 745.381 Q32.5894 750.124 35.6131 752.861 Q38.6368 755.598 43.8567 755.598 L64.0042 755.598 L64.0042 761.486 L14.479 761.486 L14.479 755.598 L33.8944 755.598 Q30.6797 753.497 29.0883 750.665 Q27.4968 747.8 27.4968 744.076 Q27.4968 737.933 31.3163 734.782 Q35.1038 731.631 42.4881 731.631 Z\" fill=\"#000000\" fill-rule=\"nonzero\" fill-opacity=\"1\" /><path clip-path=\"url(#clip020)\" d=\"M14.5426 685.162 Q21.8632 689.427 29.0246 691.495 Q36.186 693.564 43.5384 693.564 Q50.8908 693.564 58.1159 691.495 Q65.3091 689.395 72.5979 685.162 L72.5979 690.254 Q65.1182 695.028 57.8931 697.416 Q50.668 699.771 43.5384 699.771 Q36.4406 699.771 29.2474 697.416 Q22.0542 695.06 14.5426 690.254 L14.5426 685.162 Z\" fill=\"#000000\" fill-rule=\"nonzero\" fill-opacity=\"1\" /><path clip-path=\"url(#clip020)\" d=\"M16.4842 674.276 L16.4842 667.815 L45.3526 667.815 Q52.9915 667.815 56.3653 665.046 Q59.7073 662.277 59.7073 656.07 Q59.7073 649.896 56.3653 647.127 Q52.9915 644.357 45.3526 644.357 L16.4842 644.357 L16.4842 637.896 L46.1484 637.896 Q55.4423 637.896 60.1847 642.511 Q64.9272 647.095 64.9272 656.07 Q64.9272 665.078 60.1847 669.693 Q55.4423 674.276 46.1484 674.276 L16.4842 674.276 Z\" fill=\"#000000\" fill-rule=\"nonzero\" fill-opacity=\"1\" /><path clip-path=\"url(#clip020)\" d=\"M18.0438 597.347 L24.314 597.347 Q22.5634 601.007 21.704 604.253 Q20.8447 607.5 20.8447 610.524 Q20.8447 615.775 22.8817 618.64 Q24.9187 621.473 28.6745 621.473 Q31.8255 621.473 33.4488 619.595 Q35.0402 617.685 36.0269 612.402 L36.8226 608.518 Q38.1912 601.325 41.6605 597.92 Q45.098 594.482 50.8908 594.482 Q57.7976 594.482 61.3624 599.129 Q64.9272 603.744 64.9272 612.688 Q64.9272 616.062 64.1633 619.881 Q63.3994 623.669 61.9035 627.743 L55.2831 627.743 Q57.4793 623.828 58.5933 620.072 Q59.7073 616.316 59.7073 612.688 Q59.7073 607.182 57.543 604.19 Q55.3786 601.198 51.3682 601.198 Q47.8671 601.198 45.8937 603.362 Q43.9204 605.495 42.9337 610.396 L42.1698 614.311 Q40.7375 621.505 37.682 624.719 Q34.6264 627.934 29.1837 627.934 Q22.8817 627.934 19.2532 623.51 Q15.6248 619.054 15.6248 611.256 Q15.6248 607.914 16.2295 604.444 Q16.8343 600.975 18.0438 597.347 Z\" fill=\"#000000\" fill-rule=\"nonzero\" fill-opacity=\"1\" /><path clip-path=\"url(#clip020)\" d=\"M21.7677 578.027 L58.7206 578.027 L58.7206 570.261 Q58.7206 560.426 54.2646 555.874 Q49.8086 551.291 40.1964 551.291 Q30.6479 551.291 26.2237 555.874 Q21.7677 560.426 21.7677 570.261 L21.7677 578.027 M16.4842 584.456 L16.4842 571.247 Q16.4842 557.434 22.2451 550.973 Q27.9743 544.511 40.1964 544.511 Q52.4822 544.511 58.2432 551.004 Q64.0042 557.497 64.0042 571.247 L64.0042 584.456 L16.4842 584.456 Z\" fill=\"#000000\" fill-rule=\"nonzero\" fill-opacity=\"1\" /><path clip-path=\"url(#clip020)\" d=\"M14.5426 535.44 L14.5426 530.348 Q22.0542 525.573 29.2474 523.218 Q36.4406 520.831 43.5384 520.831 Q50.668 520.831 57.8931 523.218 Q65.1182 525.573 72.5979 530.348 L72.5979 535.44 Q65.3091 531.207 58.1159 529.138 Q50.8908 527.037 43.5384 527.037 Q36.186 527.037 29.0246 529.138 Q21.8632 531.207 14.5426 535.44 Z\" fill=\"#000000\" fill-rule=\"nonzero\" fill-opacity=\"1\" /><polyline clip-path=\"url(#clip022)\" style=\"stroke:#ff0000; stroke-linecap:round; stroke-linejoin:round; stroke-width:12; stroke-opacity:1; fill:none\" points=\"277.734,1376.99 286.532,1364.83 295.329,1277.11 304.126,1357.81 312.924,1341.25 321.721,1297.69 330.518,1284.98 339.316,1256.71 348.113,1275.84 356.91,1318.78 365.707,1296.02 374.505,1259.04 383.302,1215.13 392.099,1222.22 400.897,1230.17 409.694,1234.91 418.491,1236.91 427.289,1263.67 436.086,1219.65 444.883,1212.27 453.681,1206.76 462.478,1165.81 471.275,1182.84 480.072,1109.61 488.87,1128.65 497.667,1141.69 506.464,1103.2 515.262,1044.32 524.059,1069.36 532.856,1060.65 541.654,1106.31 550.451,1063.01 559.248,1128.54 568.046,1120.78 576.843,1085.72 585.64,1136.99 594.438,1130.61 603.235,1199.33 612.032,1220.46 620.829,1205 629.627,1136.3 638.424,1013.99 647.221,1041.67 656.019,1083.04 664.816,1128.21 673.613,1155.52 682.411,1166.81 691.208,1112.81 700.005,1094.21 708.803,1060.13 717.6,1135.94 726.397,1067.98 735.194,1047.93 743.992,1090.63 752.789,1078.67 761.586,1049.04 770.384,1034.4 779.181,1070.82 787.978,1039.44 796.776,997.557 805.573,952.921 814.37,886.267 823.168,894.573 831.965,859.776 840.762,838.954 849.56,870.031 858.357,889.522 867.154,874.382 875.951,762.244 884.749,772.447 893.546,778.094 902.343,764.389 911.141,762.067 919.938,774.918 928.735,773.907 937.533,758.335 946.33,768.397 955.127,829.758 963.925,730.869 972.722,707.07 981.519,691.141 990.316,675.145 999.114,683.8 1007.91,723.692 1016.71,609.28 1025.51,596.43 1034.3,639.271 1043.1,605.144 1051.9,609.342 1060.69,633.863 1069.49,656.029 1078.29,661.756 1087.09,679.195 1095.88,661.355 1104.68,630.398 1113.48,663.509 1122.28,724.349 1131.07,713.934 1139.87,723.601 1148.67,713.929 1157.47,707.255 1166.26,701.631 1175.06,651.831 1183.86,608.461 1192.65,615.878 1201.45,682.249 1210.25,729.245 1219.05,657.197 1227.84,644.067 1236.64,621.462 1245.44,625.576 1254.24,642.934 1263.03,599.646 1271.83,616.398 1280.63,597.174 1289.43,593.423 1298.22,500.552 1307.02,487.627 1315.82,537.271 1324.61,493.697 1333.41,494.513 1342.21,468.056 1351.01,370.556 1359.8,412.507 1368.6,440.678 1377.4,472.506 1386.2,542.544 1394.99,552.397 1403.79,584.658 1412.59,585.426 1421.38,597.419 1430.18,575.188 1438.98,564.21 1447.78,560.324 1456.57,541.255 1465.37,519.107 1474.17,497.555 1482.97,517.879 1491.76,530.652 1500.56,526.106 1509.36,580.852 1518.16,523.392 1526.95,508.64 1535.75,547.458 1544.55,581.268 1553.34,600.302 1562.14,742.495 1570.94,764.675 1579.74,745.132 1588.53,773.664 1597.33,787.193 1606.13,752.768 1614.93,700.493 1623.72,733.407 1632.52,744.274 1641.32,776.293 1650.11,763.943 1658.91,736.463 1667.71,764.71 1676.51,630.188 1685.3,732.699 1694.1,686.651 1702.9,689.937 1711.7,614.302 1720.49,560.823 1729.29,582.051 1738.09,542.936 1746.89,585.61 1755.68,700.264 1764.48,746.095 1773.28,715.544 1782.07,708.007 1790.87,742.305 1799.67,795.291 1808.47,765.503 1817.26,789.883 1826.06,742.758 1834.86,736.532 1843.66,787.349 1852.45,820.517 1861.25,816.249 1870.05,808.168 1878.84,874.401 1887.64,924.333 1896.44,913.604 1905.24,933.027 1914.03,905.572 1922.83,939.767 1931.63,914.33 1940.43,868.69 1949.22,827.249 1958.02,794.127 1966.82,820.054 1975.62,803.391 1984.41,788.157 1993.21,805.752 2002.01,804.994 2010.8,826.255 2019.6,887.541 2028.4,923.638 2037.2,915.312 2045.99,900.213 2054.79,900.408 2063.59,921.129 2072.39,941.811 2081.18,977.213 2089.98,951.165 2098.78,944.089 2107.57,896.586 2116.37,846.477 2125.17,848.816 2133.97,793.946 2142.76,764.61 2151.56,741.817 2160.36,788.391 2169.16,752.405 2177.95,753.347 2186.75,722.525 2195.55,730.785 2204.35,694.484 2213.14,699.502 2221.94,656.638 2230.74,677.194 2239.53,678.335 2248.33,693.235 2257.13,704.43 2265.93,720.625 2274.72,716.2 2283.52,681.466 2292.32,644.157 \"/>\n",
       "<polyline clip-path=\"url(#clip022)\" style=\"stroke:#0000ff; stroke-linecap:round; stroke-linejoin:round; stroke-width:12; stroke-opacity:1; fill:none\" points=\"277.734,1376.99 286.532,1354.14 295.329,1384.24 304.126,1332.27 312.924,1278.92 321.721,1292.27 330.518,1248.29 339.316,1216.89 348.113,1211.41 356.91,1197.23 365.707,1235.21 374.505,1290.34 383.302,1255.7 392.099,1180.83 400.897,1179.1 409.694,1200.8 418.491,1151.19 427.289,1118.07 436.086,1155.21 444.883,1135.05 453.681,1096.45 462.478,1016.58 471.275,1034.86 480.072,1074.25 488.87,1053.4 497.667,1054.09 506.464,1076.29 515.262,1105.35 524.059,1059.71 532.856,1052.02 541.654,1050.59 550.451,1070.82 559.248,1114.48 568.046,1166.52 576.843,1189.8 585.64,1182.4 594.438,1222.16 603.235,1192.72 612.032,1205.33 620.829,1229.14 629.627,1226.12 638.424,1156.96 647.221,1121.83 656.019,1174.46 664.816,1196.59 673.613,1226.09 682.411,1300.34 691.208,1323.49 700.005,1280.44 708.803,1312.3 717.6,1251.52 726.397,1270 735.194,1258.15 743.992,1208.7 752.789,1203.43 761.586,1235 770.384,1250.26 779.181,1210.37 787.978,1227.86 796.776,1179.75 805.573,1144.8 814.37,1102.7 823.168,1073.74 831.965,1082.57 840.762,1102.02 849.56,1093.96 858.357,1094.17 867.154,1073.97 875.951,1077.23 884.749,1056.25 893.546,1050.6 902.343,1047.18 911.141,1031.69 919.938,1035.97 928.735,1053.13 937.533,1055.78 946.33,1052.47 955.127,1092.02 963.925,1120.05 972.722,1073.1 981.519,1028.28 990.316,1009.44 999.114,1062.97 1007.91,1068.02 1016.71,1121.2 1025.51,1061.3 1034.3,1047.97 1043.1,1060.02 1051.9,1053.68 1060.69,1058.25 1069.49,1062.11 1078.29,1052.06 1087.09,1059.8 1095.88,1038.4 1104.68,999.27 1113.48,980.08 1122.28,979.936 1131.07,1012.71 1139.87,1061.37 1148.67,1033.38 1157.47,981.269 1166.26,965.237 1175.06,990.596 1183.86,965.036 1192.65,898.579 1201.45,886.581 1210.25,890.812 1219.05,893.37 1227.84,883.4 1236.64,863.219 1245.44,845.224 1254.24,803.025 1263.03,795.5 1271.83,753.989 1280.63,751.194 1289.43,791.12 1298.22,807.6 1307.02,808.803 1315.82,825.441 1324.61,839.402 1333.41,816.459 1342.21,805.74 1351.01,789.897 1359.8,732.744 1368.6,724.568 1377.4,726.812 1386.2,770.283 1394.99,762.067 1403.79,772.958 1412.59,748.578 1421.38,702.35 1430.18,671.768 1438.98,658.963 1447.78,652.243 1456.57,623.647 1465.37,601.307 1474.17,622.653 1482.97,626.487 1491.76,616.178 1500.56,600.847 1509.36,604.996 1518.16,601.554 1526.95,591.772 1535.75,582.267 1544.55,589.532 1553.34,642.028 1562.14,665.376 1570.94,666.674 1579.74,661.576 1588.53,682.746 1597.33,688.717 1606.13,682.661 1614.93,706.365 1623.72,691.208 1632.52,716.924 1641.32,744.411 1650.11,778.7 1658.91,807.357 1667.71,782.502 1676.51,773.358 1685.3,741.471 1694.1,759.861 1702.9,774.122 1711.7,740.249 1720.49,686.717 1729.29,650.658 1738.09,643.144 1746.89,644.033 1755.68,656.612 1764.48,698.362 1773.28,713.81 1782.07,702.01 1790.87,679.543 1799.67,690.83 1808.47,693.234 1817.26,662.973 1826.06,710.258 1834.86,723.294 1843.66,740.895 1852.45,746.433 1861.25,826.956 1870.05,847.509 1878.84,856.223 1887.64,895.341 1896.44,913.39 1905.24,887.979 1914.03,881.159 1922.83,903.662 1931.63,945.89 1940.43,937.307 1949.22,932.436 1958.02,897.355 1966.82,862.297 1975.62,813.257 1984.41,811.822 1993.21,818.886 2002.01,841.196 2010.8,806.765 2019.6,809.46 2028.4,843.388 2037.2,876.521 2045.99,933.562 2054.79,955.186 2063.59,938.074 2072.39,979.002 2081.18,1030.66 2089.98,1057.7 2098.78,1028.98 2107.57,1002.24 2116.37,960.776 2125.17,878.037 2133.97,819.178 2142.76,812.966 2151.56,797.533 2160.36,794.575 2169.16,806.93 2177.95,782.316 2186.75,760.371 2195.55,679.296 2204.35,656.882 2213.14,662.563 2221.94,651.555 2230.74,622.721 2239.53,625.519 2248.33,604.6 2257.13,603.939 2265.93,606.735 2274.72,607.848 2283.52,596.423 2292.32,603.431 \"/>\n",
       "<polyline clip-path=\"url(#clip022)\" style=\"stroke:#008000; stroke-linecap:round; stroke-linejoin:round; stroke-width:12; stroke-opacity:1; fill:none\" points=\"277.734,1376.99 286.532,1364.79 295.329,1276.48 304.126,1283.45 312.924,1265.58 321.721,1189.79 330.518,1187.37 339.316,1151.14 348.113,1150.51 356.91,1183.09 365.707,1163.6 374.505,1070.37 383.302,1007.36 392.099,1041.04 400.897,1077.46 409.694,1046.39 418.491,1019.51 427.289,1073.23 436.086,1018.33 444.883,990.836 453.681,887.726 462.478,907.917 471.275,936.25 480.072,822.473 488.87,922.832 497.667,978.772 506.464,951.777 515.262,898.295 524.059,920.236 532.856,897.091 541.654,947.876 550.451,924.184 559.248,999.901 568.046,991.795 576.843,962.782 585.64,1019.13 594.438,1005.34 603.235,1063.7 612.032,1099.61 620.829,1082.92 629.627,975.682 638.424,866.447 647.221,899.636 656.019,929.475 664.816,984.404 673.613,1024.72 682.411,1010.19 691.208,949.758 700.005,923.857 708.803,852.137 717.6,893.579 726.397,849.516 735.194,788.57 743.992,840.637 752.789,801.439 761.586,782.333 770.384,807.577 779.181,851.779 787.978,815.343 796.776,787.619 805.573,721.762 814.37,659.432 823.168,661.147 831.965,622.142 840.762,564.278 849.56,596.582 858.357,620.919 867.154,611.741 875.951,497.504 884.749,490.504 893.546,528.678 902.343,540.239 911.141,550.438 919.938,546.366 928.735,532.431 937.533,512.056 946.33,532.123 955.127,598.556 963.925,480.554 972.722,467.824 981.519,449.879 990.316,439.68 999.114,437.44 1007.91,475.199 1016.71,393.76 1025.51,353.5 1034.3,390.323 1043.1,321.785 1051.9,278.172 1060.69,284.752 1069.49,317.246 1078.29,293.907 1087.09,311.644 1095.88,300.193 1104.68,261.121 1113.48,269.433 1122.28,338.577 1131.07,347.304 1139.87,342.298 1148.67,346.04 1157.47,388.851 1166.26,371.987 1175.06,333.642 1183.86,280.596 1192.65,258.62 1201.45,327.925 1210.25,423.705 1219.05,377.115 1227.84,365.306 1236.64,348.444 1245.44,346.299 1254.24,373.212 1263.03,326.912 1271.83,353.555 1280.63,339.208 1289.43,357.004 1298.22,252.839 1307.02,241.959 1315.82,329.006 1324.61,302.575 1333.41,292.84 1342.21,278.714 1351.01,200.99 1359.8,233.55 1368.6,236.32 1377.4,295.11 1386.2,366.612 1394.99,403.058 1403.79,421.599 1412.59,401.736 1421.38,344.323 1430.18,313.84 1438.98,330.983 1447.78,337.853 1456.57,348.429 1465.37,358.541 1474.17,330.191 1482.97,332.367 1491.76,336.806 1500.56,247.44 1509.36,290.581 1518.16,208.337 1526.95,196.26 1535.75,244.995 1544.55,300.972 1553.34,310.259 1562.14,396.707 1570.94,338.999 1579.74,332.012 1588.53,378.065 1597.33,385.32 1606.13,366.228 1614.93,301.835 1623.72,344.879 1632.52,370.941 1641.32,352.359 1650.11,403.932 1658.91,371.521 1667.71,375.245 1676.51,238.163 1685.3,338.088 1694.1,318.27 1702.9,301.358 1711.7,192.66 1720.49,148.418 1729.29,165.691 1738.09,150.02 1746.89,188.828 1755.68,268.587 1764.48,261.553 1773.28,218.982 1782.07,211.67 1790.87,247.147 1799.67,240.114 1808.47,199.199 1817.26,227.827 1826.06,198.622 1834.86,206.245 1843.66,309.979 1852.45,406.29 1861.25,411.697 1870.05,382.431 1878.84,475.45 1887.64,407.798 1896.44,347.272 1905.24,400.935 1914.03,287.474 1922.83,346.65 1931.63,254.502 1940.43,244.826 1949.22,164.389 1958.02,131.408 1966.82,152.476 1975.62,86.1857 1984.41,117.65 1993.21,160.204 2002.01,114.426 2010.8,103.957 2019.6,177.563 2028.4,196.996 2037.2,251.33 2045.99,219.216 2054.79,149.687 2063.59,524.129 2072.39,526.788 2081.18,579.348 2089.98,557.008 2098.78,550.513 2107.57,506.83 2116.37,462.507 2125.17,459.662 2133.97,402.754 2142.76,380.125 2151.56,356.532 2160.36,416.201 2169.16,395.075 2177.95,384.455 2186.75,361.189 2195.55,376.806 2204.35,303.765 2213.14,339.136 2221.94,299.32 2230.74,294.779 2239.53,257.619 2248.33,306.573 2257.13,315.082 2265.93,291.891 2274.72,349.206 2283.52,305.209 2292.32,263.157 \"/>\n",
       "<path clip-path=\"url(#clip020)\" d=\"M288.479 300.469 L1224.06 300.469 L1224.06 93.1086 L288.479 93.1086  Z\" fill=\"#ffffff\" fill-rule=\"evenodd\" fill-opacity=\"1\"/>\n",
       "<polyline clip-path=\"url(#clip020)\" style=\"stroke:#000000; stroke-linecap:round; stroke-linejoin:round; stroke-width:4; stroke-opacity:1; fill:none\" points=\"288.479,300.469 1224.06,300.469 1224.06,93.1086 288.479,93.1086 288.479,300.469 \"/>\n",
       "<polyline clip-path=\"url(#clip020)\" style=\"stroke:#ff0000; stroke-linecap:round; stroke-linejoin:round; stroke-width:12; stroke-opacity:1; fill:none\" points=\"312.206,144.949 454.57,144.949 \"/>\n",
       "<path clip-path=\"url(#clip020)\" d=\"M482.973 131.511 L482.973 144.497 L488.853 144.497 Q492.117 144.497 493.899 142.807 Q495.682 141.118 495.682 137.993 Q495.682 134.891 493.899 133.201 Q492.117 131.511 488.853 131.511 L482.973 131.511 M478.297 127.669 L488.853 127.669 Q494.663 127.669 497.626 130.307 Q500.612 132.923 500.612 137.993 Q500.612 143.108 497.626 145.724 Q494.663 148.34 488.853 148.34 L482.973 148.34 L482.973 162.229 L478.297 162.229 L478.297 127.669 Z\" fill=\"#000000\" fill-rule=\"nonzero\" fill-opacity=\"1\" /><path clip-path=\"url(#clip020)\" d=\"M515.056 139.289 Q511.631 139.289 509.64 141.974 Q507.649 144.636 507.649 149.289 Q507.649 153.942 509.617 156.627 Q511.607 159.289 515.056 159.289 Q518.459 159.289 520.45 156.604 Q522.441 153.918 522.441 149.289 Q522.441 144.682 520.45 141.997 Q518.459 139.289 515.056 139.289 M515.056 135.678 Q520.612 135.678 523.783 139.289 Q526.955 142.9 526.955 149.289 Q526.955 155.655 523.783 159.289 Q520.612 162.9 515.056 162.9 Q509.478 162.9 506.306 159.289 Q503.158 155.655 503.158 149.289 Q503.158 142.9 506.306 139.289 Q509.478 135.678 515.056 135.678 Z\" fill=\"#000000\" fill-rule=\"nonzero\" fill-opacity=\"1\" /><path clip-path=\"url(#clip020)\" d=\"M549.038 140.284 Q548.32 139.868 547.464 139.682 Q546.63 139.474 545.612 139.474 Q542.001 139.474 540.056 141.835 Q538.135 144.173 538.135 148.571 L538.135 162.229 L533.853 162.229 L533.853 136.303 L538.135 136.303 L538.135 140.331 Q539.478 137.969 541.63 136.835 Q543.783 135.678 546.862 135.678 Q547.302 135.678 547.834 135.747 Q548.366 135.794 549.015 135.909 L549.038 140.284 Z\" fill=\"#000000\" fill-rule=\"nonzero\" fill-opacity=\"1\" /><path clip-path=\"url(#clip020)\" d=\"M557.718 128.942 L557.718 136.303 L566.491 136.303 L566.491 139.613 L557.718 139.613 L557.718 153.687 Q557.718 156.858 558.575 157.761 Q559.454 158.664 562.116 158.664 L566.491 158.664 L566.491 162.229 L562.116 162.229 Q557.186 162.229 555.311 160.4 Q553.436 158.548 553.436 153.687 L553.436 139.613 L550.311 139.613 L550.311 136.303 L553.436 136.303 L553.436 128.942 L557.718 128.942 Z\" fill=\"#000000\" fill-rule=\"nonzero\" fill-opacity=\"1\" /><path clip-path=\"url(#clip020)\" d=\"M585.218 126.21 L585.218 129.752 L581.144 129.752 Q578.852 129.752 577.95 130.678 Q577.07 131.604 577.07 134.011 L577.07 136.303 L584.084 136.303 L584.084 139.613 L577.07 139.613 L577.07 162.229 L572.788 162.229 L572.788 139.613 L568.714 139.613 L568.714 136.303 L572.788 136.303 L572.788 134.497 Q572.788 130.169 574.802 128.201 Q576.815 126.21 581.19 126.21 L585.218 126.21 Z\" fill=\"#000000\" fill-rule=\"nonzero\" fill-opacity=\"1\" /><path clip-path=\"url(#clip020)\" d=\"M598.829 139.289 Q595.403 139.289 593.413 141.974 Q591.422 144.636 591.422 149.289 Q591.422 153.942 593.389 156.627 Q595.38 159.289 598.829 159.289 Q602.232 159.289 604.223 156.604 Q606.213 153.918 606.213 149.289 Q606.213 144.682 604.223 141.997 Q602.232 139.289 598.829 139.289 M598.829 135.678 Q604.385 135.678 607.556 139.289 Q610.727 142.9 610.727 149.289 Q610.727 155.655 607.556 159.289 Q604.385 162.9 598.829 162.9 Q593.25 162.9 590.079 159.289 Q586.931 155.655 586.931 149.289 Q586.931 142.9 590.079 139.289 Q593.25 135.678 598.829 135.678 Z\" fill=\"#000000\" fill-rule=\"nonzero\" fill-opacity=\"1\" /><path clip-path=\"url(#clip020)\" d=\"M617.787 126.21 L622.047 126.21 L622.047 162.229 L617.787 162.229 L617.787 126.21 Z\" fill=\"#000000\" fill-rule=\"nonzero\" fill-opacity=\"1\" /><path clip-path=\"url(#clip020)\" d=\"M630.959 136.303 L635.218 136.303 L635.218 162.229 L630.959 162.229 L630.959 136.303 M630.959 126.21 L635.218 126.21 L635.218 131.604 L630.959 131.604 L630.959 126.21 Z\" fill=\"#000000\" fill-rule=\"nonzero\" fill-opacity=\"1\" /><path clip-path=\"url(#clip020)\" d=\"M654.176 139.289 Q650.75 139.289 648.759 141.974 Q646.769 144.636 646.769 149.289 Q646.769 153.942 648.736 156.627 Q650.727 159.289 654.176 159.289 Q657.579 159.289 659.57 156.604 Q661.56 153.918 661.56 149.289 Q661.56 144.682 659.57 141.997 Q657.579 139.289 654.176 139.289 M654.176 135.678 Q659.732 135.678 662.903 139.289 Q666.074 142.9 666.074 149.289 Q666.074 155.655 662.903 159.289 Q659.732 162.9 654.176 162.9 Q648.597 162.9 645.426 159.289 Q642.278 155.655 642.278 149.289 Q642.278 142.9 645.426 139.289 Q648.597 135.678 654.176 135.678 Z\" fill=\"#000000\" fill-rule=\"nonzero\" fill-opacity=\"1\" /><path clip-path=\"url(#clip020)\" d=\"M692.833 158.293 L709.153 158.293 L709.153 162.229 L687.208 162.229 L687.208 158.293 Q689.87 155.539 694.454 150.909 Q699.06 146.256 700.241 144.914 Q702.486 142.391 703.366 140.655 Q704.268 138.895 704.268 137.206 Q704.268 134.451 702.324 132.715 Q700.403 130.979 697.301 130.979 Q695.102 130.979 692.648 131.743 Q690.218 132.507 687.44 134.057 L687.44 129.335 Q690.264 128.201 692.718 127.622 Q695.171 127.044 697.208 127.044 Q702.579 127.044 705.773 129.729 Q708.967 132.414 708.967 136.905 Q708.967 139.034 708.157 140.956 Q707.37 142.854 705.264 145.446 Q704.685 146.118 701.583 149.335 Q698.481 152.53 692.833 158.293 Z\" fill=\"#000000\" fill-rule=\"nonzero\" fill-opacity=\"1\" /><path clip-path=\"url(#clip020)\" d=\"M728.967 145.817 Q725.634 145.817 723.713 147.599 Q721.815 149.381 721.815 152.506 Q721.815 155.631 723.713 157.414 Q725.634 159.196 728.967 159.196 Q732.301 159.196 734.222 157.414 Q736.143 155.608 736.143 152.506 Q736.143 149.381 734.222 147.599 Q732.324 145.817 728.967 145.817 M724.291 143.826 Q721.282 143.085 719.592 141.025 Q717.926 138.965 717.926 136.002 Q717.926 131.858 720.866 129.451 Q723.828 127.044 728.967 127.044 Q734.129 127.044 737.069 129.451 Q740.009 131.858 740.009 136.002 Q740.009 138.965 738.319 141.025 Q736.652 143.085 733.666 143.826 Q737.046 144.613 738.921 146.905 Q740.819 149.196 740.819 152.506 Q740.819 157.53 737.74 160.215 Q734.685 162.9 728.967 162.9 Q723.25 162.9 720.171 160.215 Q717.116 157.53 717.116 152.506 Q717.116 149.196 719.014 146.905 Q720.912 144.613 724.291 143.826 M722.578 136.442 Q722.578 139.127 724.245 140.632 Q725.935 142.136 728.967 142.136 Q731.977 142.136 733.666 140.632 Q735.379 139.127 735.379 136.442 Q735.379 133.757 733.666 132.252 Q731.977 130.747 728.967 130.747 Q725.935 130.747 724.245 132.252 Q722.578 133.757 722.578 136.442 Z\" fill=\"#000000\" fill-rule=\"nonzero\" fill-opacity=\"1\" /><path clip-path=\"url(#clip020)\" d=\"M773.828 126.257 Q770.726 131.581 769.222 136.789 Q767.717 141.997 767.717 147.344 Q767.717 152.692 769.222 157.946 Q770.75 163.178 773.828 168.479 L770.125 168.479 Q766.652 163.039 764.916 157.784 Q763.203 152.53 763.203 147.344 Q763.203 142.182 764.916 136.951 Q766.629 131.72 770.125 126.257 L773.828 126.257 Z\" fill=\"#000000\" fill-rule=\"nonzero\" fill-opacity=\"1\" /><path clip-path=\"url(#clip020)\" d=\"M793.874 149.196 Q788.712 149.196 786.722 150.377 Q784.731 151.557 784.731 154.405 Q784.731 156.673 786.212 158.016 Q787.717 159.335 790.286 159.335 Q793.828 159.335 795.958 156.835 Q798.11 154.312 798.11 150.145 L798.11 149.196 L793.874 149.196 M802.37 147.437 L802.37 162.229 L798.11 162.229 L798.11 158.293 Q796.652 160.655 794.476 161.789 Q792.3 162.9 789.152 162.9 Q785.171 162.9 782.81 160.678 Q780.472 158.432 780.472 154.682 Q780.472 150.307 783.388 148.085 Q786.328 145.863 792.138 145.863 L798.11 145.863 L798.11 145.446 Q798.11 142.507 796.166 140.909 Q794.245 139.289 790.749 139.289 Q788.527 139.289 786.421 139.821 Q784.314 140.354 782.37 141.419 L782.37 137.483 Q784.708 136.581 786.907 136.141 Q789.106 135.678 791.189 135.678 Q796.814 135.678 799.592 138.594 Q802.37 141.511 802.37 147.437 Z\" fill=\"#000000\" fill-rule=\"nonzero\" fill-opacity=\"1\" /><path clip-path=\"url(#clip020)\" d=\"M829.8 137.298 L829.8 141.28 Q827.995 140.284 826.166 139.798 Q824.36 139.289 822.509 139.289 Q818.365 139.289 816.073 141.928 Q813.782 144.544 813.782 149.289 Q813.782 154.034 816.073 156.673 Q818.365 159.289 822.509 159.289 Q824.36 159.289 826.166 158.803 Q827.995 158.293 829.8 157.298 L829.8 161.233 Q828.018 162.067 826.096 162.483 Q824.198 162.9 822.046 162.9 Q816.189 162.9 812.74 159.219 Q809.291 155.539 809.291 149.289 Q809.291 142.946 812.763 139.312 Q816.259 135.678 822.323 135.678 Q824.291 135.678 826.166 136.095 Q828.041 136.488 829.8 137.298 Z\" fill=\"#000000\" fill-rule=\"nonzero\" fill-opacity=\"1\" /><path clip-path=\"url(#clip020)\" d=\"M841.42 128.942 L841.42 136.303 L850.194 136.303 L850.194 139.613 L841.42 139.613 L841.42 153.687 Q841.42 156.858 842.277 157.761 Q843.157 158.664 845.819 158.664 L850.194 158.664 L850.194 162.229 L845.819 162.229 Q840.888 162.229 839.013 160.4 Q837.138 158.548 837.138 153.687 L837.138 139.613 L834.013 139.613 L834.013 136.303 L837.138 136.303 L837.138 128.942 L841.42 128.942 Z\" fill=\"#000000\" fill-rule=\"nonzero\" fill-opacity=\"1\" /><path clip-path=\"url(#clip020)\" d=\"M855.356 151.997 L855.356 136.303 L859.615 136.303 L859.615 151.835 Q859.615 155.516 861.05 157.368 Q862.485 159.196 865.355 159.196 Q868.805 159.196 870.795 156.997 Q872.809 154.798 872.809 151.002 L872.809 136.303 L877.068 136.303 L877.068 162.229 L872.809 162.229 L872.809 158.247 Q871.258 160.608 869.198 161.766 Q867.161 162.9 864.453 162.9 Q859.985 162.9 857.67 160.122 Q855.356 157.344 855.356 151.997 M866.073 135.678 L866.073 135.678 Z\" fill=\"#000000\" fill-rule=\"nonzero\" fill-opacity=\"1\" /><path clip-path=\"url(#clip020)\" d=\"M897.624 149.196 Q892.462 149.196 890.471 150.377 Q888.48 151.557 888.48 154.405 Q888.48 156.673 889.962 158.016 Q891.466 159.335 894.036 159.335 Q897.578 159.335 899.707 156.835 Q901.86 154.312 901.86 150.145 L901.86 149.196 L897.624 149.196 M906.119 147.437 L906.119 162.229 L901.86 162.229 L901.86 158.293 Q900.402 160.655 898.226 161.789 Q896.05 162.9 892.902 162.9 Q888.92 162.9 886.559 160.678 Q884.221 158.432 884.221 154.682 Q884.221 150.307 887.138 148.085 Q890.078 145.863 895.888 145.863 L901.86 145.863 L901.86 145.446 Q901.86 142.507 899.915 140.909 Q897.994 139.289 894.499 139.289 Q892.277 139.289 890.17 139.821 Q888.064 140.354 886.119 141.419 L886.119 137.483 Q888.457 136.581 890.656 136.141 Q892.855 135.678 894.939 135.678 Q900.564 135.678 903.341 138.594 Q906.119 141.511 906.119 147.437 Z\" fill=\"#000000\" fill-rule=\"nonzero\" fill-opacity=\"1\" /><path clip-path=\"url(#clip020)\" d=\"M914.892 126.21 L919.152 126.21 L919.152 162.229 L914.892 162.229 L914.892 126.21 Z\" fill=\"#000000\" fill-rule=\"nonzero\" fill-opacity=\"1\" /><path clip-path=\"url(#clip020)\" d=\"M927.392 126.257 L931.096 126.257 Q934.568 131.72 936.281 136.951 Q938.017 142.182 938.017 147.344 Q938.017 152.53 936.281 157.784 Q934.568 163.039 931.096 168.479 L927.392 168.479 Q930.471 163.178 931.976 157.946 Q933.503 152.692 933.503 147.344 Q933.503 141.997 931.976 136.789 Q930.471 131.581 927.392 126.257 Z\" fill=\"#000000\" fill-rule=\"nonzero\" fill-opacity=\"1\" /><polyline clip-path=\"url(#clip020)\" style=\"stroke:#0000ff; stroke-linecap:round; stroke-linejoin:round; stroke-width:12; stroke-opacity:1; fill:none\" points=\"312.206,196.789 454.57,196.789 \"/>\n",
       "<path clip-path=\"url(#clip020)\" d=\"M500.543 180.643 L500.543 185.203 Q497.881 183.93 495.52 183.305 Q493.158 182.68 490.959 182.68 Q487.14 182.68 485.057 184.161 Q482.996 185.643 482.996 188.374 Q482.996 190.666 484.362 191.847 Q485.751 193.004 489.594 193.722 L492.418 194.3 Q497.649 195.296 500.126 197.819 Q502.626 200.319 502.626 204.532 Q502.626 209.555 499.246 212.147 Q495.89 214.74 489.385 214.74 Q486.932 214.74 484.154 214.184 Q481.399 213.629 478.436 212.541 L478.436 207.726 Q481.283 209.323 484.015 210.133 Q486.746 210.944 489.385 210.944 Q493.39 210.944 495.566 209.37 Q497.742 207.796 497.742 204.879 Q497.742 202.333 496.168 200.897 Q494.617 199.462 491.052 198.745 L488.205 198.189 Q482.973 197.147 480.635 194.925 Q478.297 192.703 478.297 188.745 Q478.297 184.161 481.515 181.522 Q484.756 178.884 490.427 178.884 Q492.857 178.884 495.381 179.323 Q497.904 179.763 500.543 180.643 Z\" fill=\"#000000\" fill-rule=\"nonzero\" fill-opacity=\"1\" /><path clip-path=\"url(#clip020)\" d=\"M514.593 183.351 L514.593 196.337 L520.473 196.337 Q523.737 196.337 525.519 194.647 Q527.302 192.958 527.302 189.833 Q527.302 186.731 525.519 185.041 Q523.737 183.351 520.473 183.351 L514.593 183.351 M509.918 179.509 L520.473 179.509 Q526.283 179.509 529.246 182.147 Q532.232 184.763 532.232 189.833 Q532.232 194.948 529.246 197.564 Q526.283 200.18 520.473 200.18 L514.593 200.18 L514.593 214.069 L509.918 214.069 L509.918 179.509 Z\" fill=\"#000000\" fill-rule=\"nonzero\" fill-opacity=\"1\" /><path clip-path=\"url(#clip020)\" d=\"M532.718 179.509 L537.742 179.509 L547.325 193.722 L556.839 179.509 L561.862 179.509 L549.64 197.61 L549.64 214.069 L544.941 214.069 L544.941 197.61 L532.718 179.509 Z\" fill=\"#000000\" fill-rule=\"nonzero\" fill-opacity=\"1\" /><polyline clip-path=\"url(#clip020)\" style=\"stroke:#008000; stroke-linecap:round; stroke-linejoin:round; stroke-width:12; stroke-opacity:1; fill:none\" points=\"312.206,248.629 454.57,248.629 \"/>\n",
       "<path clip-path=\"url(#clip020)\" d=\"M494.686 249.705 Q496.191 250.214 497.603 251.881 Q499.038 253.548 500.473 256.464 L505.219 265.909 L500.195 265.909 L495.774 257.043 Q494.061 253.571 492.441 252.436 Q490.844 251.302 488.066 251.302 L482.973 251.302 L482.973 265.909 L478.297 265.909 L478.297 231.349 L488.853 231.349 Q494.779 231.349 497.695 233.825 Q500.612 236.302 500.612 241.302 Q500.612 244.566 499.084 246.719 Q497.58 248.872 494.686 249.705 M482.973 235.191 L482.973 247.46 L488.853 247.46 Q492.232 247.46 493.945 245.909 Q495.682 244.335 495.682 241.302 Q495.682 238.27 493.945 236.742 Q492.232 235.191 488.853 235.191 L482.973 235.191 Z\" fill=\"#000000\" fill-rule=\"nonzero\" fill-opacity=\"1\" /><path clip-path=\"url(#clip020)\" d=\"M531.098 251.881 L531.098 253.964 L511.515 253.964 Q511.793 258.362 514.154 260.677 Q516.538 262.969 520.774 262.969 Q523.228 262.969 525.519 262.367 Q527.834 261.765 530.103 260.561 L530.103 264.589 Q527.811 265.561 525.404 266.071 Q522.996 266.58 520.519 266.58 Q514.316 266.58 510.681 262.969 Q507.07 259.358 507.07 253.2 Q507.07 246.835 510.496 243.108 Q513.945 239.358 519.779 239.358 Q525.01 239.358 528.042 242.737 Q531.098 246.094 531.098 251.881 M526.839 250.631 Q526.792 247.136 524.871 245.052 Q522.973 242.969 519.825 242.969 Q516.26 242.969 514.107 244.983 Q511.978 246.997 511.654 250.654 L526.839 250.631 Z\" fill=\"#000000\" fill-rule=\"nonzero\" fill-opacity=\"1\" /><path clip-path=\"url(#clip020)\" d=\"M549.871 252.876 Q544.709 252.876 542.718 254.057 Q540.728 255.237 540.728 258.085 Q540.728 260.353 542.209 261.696 Q543.714 263.015 546.283 263.015 Q549.825 263.015 551.954 260.515 Q554.107 257.992 554.107 253.825 L554.107 252.876 L549.871 252.876 M558.366 251.117 L558.366 265.909 L554.107 265.909 L554.107 261.973 Q552.649 264.335 550.473 265.469 Q548.297 266.58 545.149 266.58 Q541.167 266.58 538.806 264.358 Q536.468 262.112 536.468 258.362 Q536.468 253.987 539.385 251.765 Q542.325 249.543 548.135 249.543 L554.107 249.543 L554.107 249.126 Q554.107 246.187 552.163 244.589 Q550.241 242.969 546.746 242.969 Q544.524 242.969 542.417 243.501 Q540.311 244.034 538.367 245.099 L538.367 241.163 Q540.704 240.261 542.904 239.821 Q545.103 239.358 547.186 239.358 Q552.811 239.358 555.589 242.274 Q558.366 245.191 558.366 251.117 Z\" fill=\"#000000\" fill-rule=\"nonzero\" fill-opacity=\"1\" /><path clip-path=\"url(#clip020)\" d=\"M567.14 229.89 L571.399 229.89 L571.399 265.909 L567.14 265.909 L567.14 229.89 Z\" fill=\"#000000\" fill-rule=\"nonzero\" fill-opacity=\"1\" /><path clip-path=\"url(#clip020)\" d=\"M580.311 229.89 L584.57 229.89 L584.57 265.909 L580.311 265.909 L580.311 229.89 Z\" fill=\"#000000\" fill-rule=\"nonzero\" fill-opacity=\"1\" /><path clip-path=\"url(#clip020)\" d=\"M603.528 242.969 Q600.102 242.969 598.112 245.654 Q596.121 248.316 596.121 252.969 Q596.121 257.622 598.088 260.307 Q600.079 262.969 603.528 262.969 Q606.931 262.969 608.922 260.284 Q610.912 257.598 610.912 252.969 Q610.912 248.362 608.922 245.677 Q606.931 242.969 603.528 242.969 M603.528 239.358 Q609.084 239.358 612.255 242.969 Q615.426 246.58 615.426 252.969 Q615.426 259.335 612.255 262.969 Q609.084 266.58 603.528 266.58 Q597.95 266.58 594.778 262.969 Q591.63 259.335 591.63 252.969 Q591.63 246.58 594.778 242.969 Q597.95 239.358 603.528 239.358 Z\" fill=\"#000000\" fill-rule=\"nonzero\" fill-opacity=\"1\" /><path clip-path=\"url(#clip020)\" d=\"M641.144 240.978 L641.144 244.96 Q639.338 243.964 637.509 243.478 Q635.704 242.969 633.852 242.969 Q629.709 242.969 627.417 245.608 Q625.125 248.224 625.125 252.969 Q625.125 257.714 627.417 260.353 Q629.709 262.969 633.852 262.969 Q635.704 262.969 637.509 262.483 Q639.338 261.973 641.144 260.978 L641.144 264.913 Q639.361 265.747 637.44 266.163 Q635.542 266.58 633.389 266.58 Q627.533 266.58 624.084 262.899 Q620.635 259.219 620.635 252.969 Q620.635 246.626 624.107 242.992 Q627.602 239.358 633.667 239.358 Q635.635 239.358 637.509 239.775 Q639.384 240.168 641.144 240.978 Z\" fill=\"#000000\" fill-rule=\"nonzero\" fill-opacity=\"1\" /><path clip-path=\"url(#clip020)\" d=\"M660.333 252.876 Q655.171 252.876 653.181 254.057 Q651.19 255.237 651.19 258.085 Q651.19 260.353 652.671 261.696 Q654.176 263.015 656.746 263.015 Q660.287 263.015 662.417 260.515 Q664.57 257.992 664.57 253.825 L664.57 252.876 L660.333 252.876 M668.829 251.117 L668.829 265.909 L664.57 265.909 L664.57 261.973 Q663.111 264.335 660.935 265.469 Q658.759 266.58 655.611 266.58 Q651.63 266.58 649.269 264.358 Q646.931 262.112 646.931 258.362 Q646.931 253.987 649.847 251.765 Q652.787 249.543 658.597 249.543 L664.57 249.543 L664.57 249.126 Q664.57 246.187 662.625 244.589 Q660.704 242.969 657.208 242.969 Q654.986 242.969 652.88 243.501 Q650.773 244.034 648.829 245.099 L648.829 241.163 Q651.167 240.261 653.366 239.821 Q655.565 239.358 657.648 239.358 Q663.273 239.358 666.051 242.274 Q668.829 245.191 668.829 251.117 Z\" fill=\"#000000\" fill-rule=\"nonzero\" fill-opacity=\"1\" /><path clip-path=\"url(#clip020)\" d=\"M681.815 232.622 L681.815 239.983 L690.588 239.983 L690.588 243.293 L681.815 243.293 L681.815 257.367 Q681.815 260.538 682.671 261.441 Q683.551 262.344 686.213 262.344 L690.588 262.344 L690.588 265.909 L686.213 265.909 Q681.282 265.909 679.407 264.08 Q677.532 262.228 677.532 257.367 L677.532 243.293 L674.407 243.293 L674.407 239.983 L677.532 239.983 L677.532 232.622 L681.815 232.622 Z\" fill=\"#000000\" fill-rule=\"nonzero\" fill-opacity=\"1\" /><path clip-path=\"url(#clip020)\" d=\"M718.366 251.881 L718.366 253.964 L698.782 253.964 Q699.06 258.362 701.421 260.677 Q703.805 262.969 708.042 262.969 Q710.495 262.969 712.787 262.367 Q715.102 261.765 717.37 260.561 L717.37 264.589 Q715.079 265.561 712.671 266.071 Q710.264 266.58 707.787 266.58 Q701.583 266.58 697.949 262.969 Q694.338 259.358 694.338 253.2 Q694.338 246.835 697.764 243.108 Q701.213 239.358 707.046 239.358 Q712.278 239.358 715.31 242.737 Q718.366 246.094 718.366 251.881 M714.106 250.631 Q714.06 247.136 712.139 245.052 Q710.241 242.969 707.092 242.969 Q703.528 242.969 701.375 244.983 Q699.245 246.997 698.921 250.654 L714.106 250.631 Z\" fill=\"#000000\" fill-rule=\"nonzero\" fill-opacity=\"1\" /><path clip-path=\"url(#clip020)\" d=\"M745.287 235.191 L745.287 248.177 L751.166 248.177 Q754.43 248.177 756.213 246.487 Q757.995 244.798 757.995 241.673 Q757.995 238.571 756.213 236.881 Q754.43 235.191 751.166 235.191 L745.287 235.191 M740.611 231.349 L751.166 231.349 Q756.976 231.349 759.939 233.987 Q762.925 236.603 762.925 241.673 Q762.925 246.788 759.939 249.404 Q756.976 252.02 751.166 252.02 L745.287 252.02 L745.287 265.909 L740.611 265.909 L740.611 231.349 Z\" fill=\"#000000\" fill-rule=\"nonzero\" fill-opacity=\"1\" /><path clip-path=\"url(#clip020)\" d=\"M777.37 242.969 Q773.944 242.969 771.953 245.654 Q769.962 248.316 769.962 252.969 Q769.962 257.622 771.93 260.307 Q773.921 262.969 777.37 262.969 Q780.773 262.969 782.763 260.284 Q784.754 257.598 784.754 252.969 Q784.754 248.362 782.763 245.677 Q780.773 242.969 777.37 242.969 M777.37 239.358 Q782.925 239.358 786.097 242.969 Q789.268 246.58 789.268 252.969 Q789.268 259.335 786.097 262.969 Q782.925 266.58 777.37 266.58 Q771.791 266.58 768.62 262.969 Q765.472 259.335 765.472 252.969 Q765.472 246.58 768.62 242.969 Q771.791 239.358 777.37 239.358 Z\" fill=\"#000000\" fill-rule=\"nonzero\" fill-opacity=\"1\" /><path clip-path=\"url(#clip020)\" d=\"M811.351 243.964 Q810.634 243.548 809.777 243.362 Q808.944 243.154 807.925 243.154 Q804.314 243.154 802.37 245.515 Q800.448 247.853 800.448 252.251 L800.448 265.909 L796.166 265.909 L796.166 239.983 L800.448 239.983 L800.448 244.011 Q801.791 241.649 803.944 240.515 Q806.097 239.358 809.175 239.358 Q809.615 239.358 810.147 239.427 Q810.68 239.474 811.328 239.589 L811.351 243.964 Z\" fill=\"#000000\" fill-rule=\"nonzero\" fill-opacity=\"1\" /><path clip-path=\"url(#clip020)\" d=\"M820.032 232.622 L820.032 239.983 L828.805 239.983 L828.805 243.293 L820.032 243.293 L820.032 257.367 Q820.032 260.538 820.888 261.441 Q821.768 262.344 824.43 262.344 L828.805 262.344 L828.805 265.909 L824.43 265.909 Q819.499 265.909 817.624 264.08 Q815.749 262.228 815.749 257.367 L815.749 243.293 L812.624 243.293 L812.624 239.983 L815.749 239.983 L815.749 232.622 L820.032 232.622 Z\" fill=\"#000000\" fill-rule=\"nonzero\" fill-opacity=\"1\" /><path clip-path=\"url(#clip020)\" d=\"M847.532 229.89 L847.532 233.432 L843.457 233.432 Q841.166 233.432 840.263 234.358 Q839.383 235.284 839.383 237.691 L839.383 239.983 L846.397 239.983 L846.397 243.293 L839.383 243.293 L839.383 265.909 L835.101 265.909 L835.101 243.293 L831.027 243.293 L831.027 239.983 L835.101 239.983 L835.101 238.177 Q835.101 233.849 837.115 231.881 Q839.129 229.89 843.504 229.89 L847.532 229.89 Z\" fill=\"#000000\" fill-rule=\"nonzero\" fill-opacity=\"1\" /><path clip-path=\"url(#clip020)\" d=\"M861.143 242.969 Q857.717 242.969 855.726 245.654 Q853.735 248.316 853.735 252.969 Q853.735 257.622 855.703 260.307 Q857.694 262.969 861.143 262.969 Q864.545 262.969 866.536 260.284 Q868.527 257.598 868.527 252.969 Q868.527 248.362 866.536 245.677 Q864.545 242.969 861.143 242.969 M861.143 239.358 Q866.698 239.358 869.869 242.969 Q873.041 246.58 873.041 252.969 Q873.041 259.335 869.869 262.969 Q866.698 266.58 861.143 266.58 Q855.564 266.58 852.393 262.969 Q849.244 259.335 849.244 252.969 Q849.244 246.58 852.393 242.969 Q855.564 239.358 861.143 239.358 Z\" fill=\"#000000\" fill-rule=\"nonzero\" fill-opacity=\"1\" /><path clip-path=\"url(#clip020)\" d=\"M880.101 229.89 L884.36 229.89 L884.36 265.909 L880.101 265.909 L880.101 229.89 Z\" fill=\"#000000\" fill-rule=\"nonzero\" fill-opacity=\"1\" /><path clip-path=\"url(#clip020)\" d=\"M893.272 239.983 L897.531 239.983 L897.531 265.909 L893.272 265.909 L893.272 239.983 M893.272 229.89 L897.531 229.89 L897.531 235.284 L893.272 235.284 L893.272 229.89 Z\" fill=\"#000000\" fill-rule=\"nonzero\" fill-opacity=\"1\" /><path clip-path=\"url(#clip020)\" d=\"M916.489 242.969 Q913.064 242.969 911.073 245.654 Q909.082 248.316 909.082 252.969 Q909.082 257.622 911.05 260.307 Q913.04 262.969 916.489 262.969 Q919.892 262.969 921.883 260.284 Q923.874 257.598 923.874 252.969 Q923.874 248.362 921.883 245.677 Q919.892 242.969 916.489 242.969 M916.489 239.358 Q922.045 239.358 925.216 242.969 Q928.388 246.58 928.388 252.969 Q928.388 259.335 925.216 262.969 Q922.045 266.58 916.489 266.58 Q910.911 266.58 907.74 262.969 Q904.591 259.335 904.591 252.969 Q904.591 246.58 907.74 242.969 Q910.911 239.358 916.489 239.358 Z\" fill=\"#000000\" fill-rule=\"nonzero\" fill-opacity=\"1\" /><path clip-path=\"url(#clip020)\" d=\"M955.147 261.973 L971.466 261.973 L971.466 265.909 L949.522 265.909 L949.522 261.973 Q952.184 259.219 956.767 254.589 Q961.374 249.936 962.554 248.594 Q964.799 246.071 965.679 244.335 Q966.582 242.575 966.582 240.886 Q966.582 238.131 964.637 236.395 Q962.716 234.659 959.614 234.659 Q957.415 234.659 954.962 235.423 Q952.531 236.187 949.753 237.737 L949.753 233.015 Q952.577 231.881 955.031 231.302 Q957.485 230.724 959.522 230.724 Q964.892 230.724 968.086 233.409 Q971.281 236.094 971.281 240.585 Q971.281 242.714 970.471 244.636 Q969.684 246.534 967.577 249.126 Q966.998 249.798 963.897 253.015 Q960.795 256.21 955.147 261.973 Z\" fill=\"#000000\" fill-rule=\"nonzero\" fill-opacity=\"1\" /><path clip-path=\"url(#clip020)\" d=\"M991.281 249.497 Q987.947 249.497 986.026 251.279 Q984.128 253.061 984.128 256.186 Q984.128 259.311 986.026 261.094 Q987.947 262.876 991.281 262.876 Q994.614 262.876 996.535 261.094 Q998.457 259.288 998.457 256.186 Q998.457 253.061 996.535 251.279 Q994.637 249.497 991.281 249.497 M986.605 247.506 Q983.596 246.765 981.906 244.705 Q980.239 242.645 980.239 239.682 Q980.239 235.538 983.179 233.131 Q986.142 230.724 991.281 230.724 Q996.443 230.724 999.383 233.131 Q1002.32 235.538 1002.32 239.682 Q1002.32 242.645 1000.63 244.705 Q998.966 246.765 995.98 247.506 Q999.359 248.293 1001.23 250.585 Q1003.13 252.876 1003.13 256.186 Q1003.13 261.21 1000.05 263.895 Q996.998 266.58 991.281 266.58 Q985.563 266.58 982.485 263.895 Q979.429 261.21 979.429 256.186 Q979.429 252.876 981.327 250.585 Q983.225 248.293 986.605 247.506 M984.892 240.122 Q984.892 242.807 986.559 244.312 Q988.248 245.816 991.281 245.816 Q994.29 245.816 995.98 244.312 Q997.693 242.807 997.693 240.122 Q997.693 237.437 995.98 235.932 Q994.29 234.427 991.281 234.427 Q988.248 234.427 986.559 235.932 Q984.892 237.437 984.892 240.122 Z\" fill=\"#000000\" fill-rule=\"nonzero\" fill-opacity=\"1\" /><path clip-path=\"url(#clip020)\" d=\"M1036.14 229.937 Q1033.04 235.261 1031.54 240.469 Q1030.03 245.677 1030.03 251.024 Q1030.03 256.372 1031.54 261.626 Q1033.06 266.858 1036.14 272.159 L1032.44 272.159 Q1028.97 266.719 1027.23 261.464 Q1025.52 256.21 1025.52 251.024 Q1025.52 245.862 1027.23 240.631 Q1028.94 235.4 1032.44 229.937 L1036.14 229.937 Z\" fill=\"#000000\" fill-rule=\"nonzero\" fill-opacity=\"1\" /><path clip-path=\"url(#clip020)\" d=\"M1056.19 252.876 Q1051.03 252.876 1049.04 254.057 Q1047.04 255.237 1047.04 258.085 Q1047.04 260.353 1048.53 261.696 Q1050.03 263.015 1052.6 263.015 Q1056.14 263.015 1058.27 260.515 Q1060.42 257.992 1060.42 253.825 L1060.42 252.876 L1056.19 252.876 M1064.68 251.117 L1064.68 265.909 L1060.42 265.909 L1060.42 261.973 Q1058.97 264.335 1056.79 265.469 Q1054.61 266.58 1051.47 266.58 Q1047.48 266.58 1045.12 264.358 Q1042.79 262.112 1042.79 258.362 Q1042.79 253.987 1045.7 251.765 Q1048.64 249.543 1054.45 249.543 L1060.42 249.543 L1060.42 249.126 Q1060.42 246.187 1058.48 244.589 Q1056.56 242.969 1053.06 242.969 Q1050.84 242.969 1048.73 243.501 Q1046.63 244.034 1044.68 245.099 L1044.68 241.163 Q1047.02 240.261 1049.22 239.821 Q1051.42 239.358 1053.5 239.358 Q1059.13 239.358 1061.91 242.274 Q1064.68 245.191 1064.68 251.117 Z\" fill=\"#000000\" fill-rule=\"nonzero\" fill-opacity=\"1\" /><path clip-path=\"url(#clip020)\" d=\"M1092.11 240.978 L1092.11 244.96 Q1090.31 243.964 1088.48 243.478 Q1086.67 242.969 1084.82 242.969 Q1080.68 242.969 1078.39 245.608 Q1076.1 248.224 1076.1 252.969 Q1076.1 257.714 1078.39 260.353 Q1080.68 262.969 1084.82 262.969 Q1086.67 262.969 1088.48 262.483 Q1090.31 261.973 1092.11 260.978 L1092.11 264.913 Q1090.33 265.747 1088.41 266.163 Q1086.51 266.58 1084.36 266.58 Q1078.5 266.58 1075.05 262.899 Q1071.6 259.219 1071.6 252.969 Q1071.6 246.626 1075.08 242.992 Q1078.57 239.358 1084.64 239.358 Q1086.6 239.358 1088.48 239.775 Q1090.35 240.168 1092.11 240.978 Z\" fill=\"#000000\" fill-rule=\"nonzero\" fill-opacity=\"1\" /><path clip-path=\"url(#clip020)\" d=\"M1103.73 232.622 L1103.73 239.983 L1112.51 239.983 L1112.51 243.293 L1103.73 243.293 L1103.73 257.367 Q1103.73 260.538 1104.59 261.441 Q1105.47 262.344 1108.13 262.344 L1112.51 262.344 L1112.51 265.909 L1108.13 265.909 Q1103.2 265.909 1101.33 264.08 Q1099.45 262.228 1099.45 257.367 L1099.45 243.293 L1096.33 243.293 L1096.33 239.983 L1099.45 239.983 L1099.45 232.622 L1103.73 232.622 Z\" fill=\"#000000\" fill-rule=\"nonzero\" fill-opacity=\"1\" /><path clip-path=\"url(#clip020)\" d=\"M1117.67 255.677 L1117.67 239.983 L1121.93 239.983 L1121.93 255.515 Q1121.93 259.196 1123.36 261.048 Q1124.8 262.876 1127.67 262.876 Q1131.12 262.876 1133.11 260.677 Q1135.12 258.478 1135.12 254.682 L1135.12 239.983 L1139.38 239.983 L1139.38 265.909 L1135.12 265.909 L1135.12 261.927 Q1133.57 264.288 1131.51 265.446 Q1129.47 266.58 1126.77 266.58 Q1122.3 266.58 1119.98 263.802 Q1117.67 261.024 1117.67 255.677 M1128.39 239.358 L1128.39 239.358 Z\" fill=\"#000000\" fill-rule=\"nonzero\" fill-opacity=\"1\" /><path clip-path=\"url(#clip020)\" d=\"M1159.94 252.876 Q1154.78 252.876 1152.78 254.057 Q1150.79 255.237 1150.79 258.085 Q1150.79 260.353 1152.28 261.696 Q1153.78 263.015 1156.35 263.015 Q1159.89 263.015 1162.02 260.515 Q1164.17 257.992 1164.17 253.825 L1164.17 252.876 L1159.94 252.876 M1168.43 251.117 L1168.43 265.909 L1164.17 265.909 L1164.17 261.973 Q1162.72 264.335 1160.54 265.469 Q1158.36 266.58 1155.22 266.58 Q1151.23 266.58 1148.87 264.358 Q1146.53 262.112 1146.53 258.362 Q1146.53 253.987 1149.45 251.765 Q1152.39 249.543 1158.2 249.543 L1164.17 249.543 L1164.17 249.126 Q1164.17 246.187 1162.23 244.589 Q1160.31 242.969 1156.81 242.969 Q1154.59 242.969 1152.48 243.501 Q1150.38 244.034 1148.43 245.099 L1148.43 241.163 Q1150.77 240.261 1152.97 239.821 Q1155.17 239.358 1157.25 239.358 Q1162.88 239.358 1165.65 242.274 Q1168.43 245.191 1168.43 251.117 Z\" fill=\"#000000\" fill-rule=\"nonzero\" fill-opacity=\"1\" /><path clip-path=\"url(#clip020)\" d=\"M1177.21 229.89 L1181.46 229.89 L1181.46 265.909 L1177.21 265.909 L1177.21 229.89 Z\" fill=\"#000000\" fill-rule=\"nonzero\" fill-opacity=\"1\" /><path clip-path=\"url(#clip020)\" d=\"M1189.71 229.937 L1193.41 229.937 Q1196.88 235.4 1198.59 240.631 Q1200.33 245.862 1200.33 251.024 Q1200.33 256.21 1198.59 261.464 Q1196.88 266.719 1193.41 272.159 L1189.71 272.159 Q1192.78 266.858 1194.29 261.626 Q1195.82 256.372 1195.82 251.024 Q1195.82 245.677 1194.29 240.469 Q1192.78 235.261 1189.71 229.937 Z\" fill=\"#000000\" fill-rule=\"nonzero\" fill-opacity=\"1\" /></svg>\n"
      ],
      "text/html": [
       "<?xml version=\"1.0\" encoding=\"utf-8\"?>\n",
       "<svg xmlns=\"http://www.w3.org/2000/svg\" xmlns:xlink=\"http://www.w3.org/1999/xlink\" width=\"600\" height=\"400\" viewBox=\"0 0 2400 1600\">\n",
       "<defs>\n",
       "  <clipPath id=\"clip070\">\n",
       "    <rect x=\"0\" y=\"0\" width=\"2400\" height=\"1600\"/>\n",
       "  </clipPath>\n",
       "</defs>\n",
       "<path clip-path=\"url(#clip070)\" d=\"M0 1600 L2400 1600 L2400 0 L0 0  Z\" fill=\"#ffffff\" fill-rule=\"evenodd\" fill-opacity=\"1\"/>\n",
       "<defs>\n",
       "  <clipPath id=\"clip071\">\n",
       "    <rect x=\"480\" y=\"0\" width=\"1681\" height=\"1600\"/>\n",
       "  </clipPath>\n",
       "</defs>\n",
       "<path clip-path=\"url(#clip070)\" d=\"M217.297 1423.18 L2352.76 1423.18 L2352.76 47.2441 L217.297 47.2441  Z\" fill=\"#ffffff\" fill-rule=\"evenodd\" fill-opacity=\"1\"/>\n",
       "<defs>\n",
       "  <clipPath id=\"clip072\">\n",
       "    <rect x=\"217\" y=\"47\" width=\"2136\" height=\"1377\"/>\n",
       "  </clipPath>\n",
       "</defs>\n",
       "<polyline clip-path=\"url(#clip072)\" style=\"stroke:#000000; stroke-linecap:round; stroke-linejoin:round; stroke-width:2; stroke-opacity:0.1; fill:none\" points=\"268.937,1423.18 268.937,47.2441 \"/>\n",
       "<polyline clip-path=\"url(#clip072)\" style=\"stroke:#000000; stroke-linecap:round; stroke-linejoin:round; stroke-width:2; stroke-opacity:0.1; fill:none\" points=\"708.803,1423.18 708.803,47.2441 \"/>\n",
       "<polyline clip-path=\"url(#clip072)\" style=\"stroke:#000000; stroke-linecap:round; stroke-linejoin:round; stroke-width:2; stroke-opacity:0.1; fill:none\" points=\"1148.67,1423.18 1148.67,47.2441 \"/>\n",
       "<polyline clip-path=\"url(#clip072)\" style=\"stroke:#000000; stroke-linecap:round; stroke-linejoin:round; stroke-width:2; stroke-opacity:0.1; fill:none\" points=\"1588.53,1423.18 1588.53,47.2441 \"/>\n",
       "<polyline clip-path=\"url(#clip072)\" style=\"stroke:#000000; stroke-linecap:round; stroke-linejoin:round; stroke-width:2; stroke-opacity:0.1; fill:none\" points=\"2028.4,1423.18 2028.4,47.2441 \"/>\n",
       "<polyline clip-path=\"url(#clip070)\" style=\"stroke:#000000; stroke-linecap:round; stroke-linejoin:round; stroke-width:4; stroke-opacity:1; fill:none\" points=\"217.297,1423.18 2352.76,1423.18 \"/>\n",
       "<polyline clip-path=\"url(#clip070)\" style=\"stroke:#000000; stroke-linecap:round; stroke-linejoin:round; stroke-width:4; stroke-opacity:1; fill:none\" points=\"268.937,1423.18 268.937,1404.28 \"/>\n",
       "<polyline clip-path=\"url(#clip070)\" style=\"stroke:#000000; stroke-linecap:round; stroke-linejoin:round; stroke-width:4; stroke-opacity:1; fill:none\" points=\"708.803,1423.18 708.803,1404.28 \"/>\n",
       "<polyline clip-path=\"url(#clip070)\" style=\"stroke:#000000; stroke-linecap:round; stroke-linejoin:round; stroke-width:4; stroke-opacity:1; fill:none\" points=\"1148.67,1423.18 1148.67,1404.28 \"/>\n",
       "<polyline clip-path=\"url(#clip070)\" style=\"stroke:#000000; stroke-linecap:round; stroke-linejoin:round; stroke-width:4; stroke-opacity:1; fill:none\" points=\"1588.53,1423.18 1588.53,1404.28 \"/>\n",
       "<polyline clip-path=\"url(#clip070)\" style=\"stroke:#000000; stroke-linecap:round; stroke-linejoin:round; stroke-width:4; stroke-opacity:1; fill:none\" points=\"2028.4,1423.18 2028.4,1404.28 \"/>\n",
       "<path clip-path=\"url(#clip070)\" d=\"M268.937 1454.1 Q265.326 1454.1 263.497 1457.66 Q261.692 1461.2 261.692 1468.33 Q261.692 1475.44 263.497 1479.01 Q265.326 1482.55 268.937 1482.55 Q272.571 1482.55 274.377 1479.01 Q276.206 1475.44 276.206 1468.33 Q276.206 1461.2 274.377 1457.66 Q272.571 1454.1 268.937 1454.1 M268.937 1450.39 Q274.747 1450.39 277.803 1455 Q280.881 1459.58 280.881 1468.33 Q280.881 1477.06 277.803 1481.67 Q274.747 1486.25 268.937 1486.25 Q263.127 1486.25 260.048 1481.67 Q256.993 1477.06 256.993 1468.33 Q256.993 1459.58 260.048 1455 Q263.127 1450.39 268.937 1450.39 Z\" fill=\"#000000\" fill-rule=\"nonzero\" fill-opacity=\"1\" /><path clip-path=\"url(#clip070)\" d=\"M683.502 1451.02 L701.858 1451.02 L701.858 1454.96 L687.784 1454.96 L687.784 1463.43 Q688.803 1463.08 689.821 1462.92 Q690.84 1462.73 691.858 1462.73 Q697.645 1462.73 701.025 1465.9 Q704.404 1469.08 704.404 1474.49 Q704.404 1480.07 700.932 1483.17 Q697.46 1486.25 691.141 1486.25 Q688.965 1486.25 686.696 1485.88 Q684.451 1485.51 682.043 1484.77 L682.043 1480.07 Q684.127 1481.2 686.349 1481.76 Q688.571 1482.32 691.048 1482.32 Q695.053 1482.32 697.391 1480.21 Q699.729 1478.1 699.729 1474.49 Q699.729 1470.88 697.391 1468.77 Q695.053 1466.67 691.048 1466.67 Q689.173 1466.67 687.298 1467.08 Q685.446 1467.5 683.502 1468.38 L683.502 1451.02 Z\" fill=\"#000000\" fill-rule=\"nonzero\" fill-opacity=\"1\" /><path clip-path=\"url(#clip070)\" d=\"M723.617 1454.1 Q720.006 1454.1 718.178 1457.66 Q716.372 1461.2 716.372 1468.33 Q716.372 1475.44 718.178 1479.01 Q720.006 1482.55 723.617 1482.55 Q727.252 1482.55 729.057 1479.01 Q730.886 1475.44 730.886 1468.33 Q730.886 1461.2 729.057 1457.66 Q727.252 1454.1 723.617 1454.1 M723.617 1450.39 Q729.427 1450.39 732.483 1455 Q735.562 1459.58 735.562 1468.33 Q735.562 1477.06 732.483 1481.67 Q729.427 1486.25 723.617 1486.25 Q717.807 1486.25 714.728 1481.67 Q711.673 1477.06 711.673 1468.33 Q711.673 1459.58 714.728 1455 Q717.807 1450.39 723.617 1450.39 Z\" fill=\"#000000\" fill-rule=\"nonzero\" fill-opacity=\"1\" /><path clip-path=\"url(#clip070)\" d=\"M1108.27 1481.64 L1115.91 1481.64 L1115.91 1455.28 L1107.6 1456.95 L1107.6 1452.69 L1115.87 1451.02 L1120.54 1451.02 L1120.54 1481.64 L1128.18 1481.64 L1128.18 1485.58 L1108.27 1485.58 L1108.27 1481.64 Z\" fill=\"#000000\" fill-rule=\"nonzero\" fill-opacity=\"1\" /><path clip-path=\"url(#clip070)\" d=\"M1147.63 1454.1 Q1144.02 1454.1 1142.19 1457.66 Q1140.38 1461.2 1140.38 1468.33 Q1140.38 1475.44 1142.19 1479.01 Q1144.02 1482.55 1147.63 1482.55 Q1151.26 1482.55 1153.07 1479.01 Q1154.89 1475.44 1154.89 1468.33 Q1154.89 1461.2 1153.07 1457.66 Q1151.26 1454.1 1147.63 1454.1 M1147.63 1450.39 Q1153.44 1450.39 1156.49 1455 Q1159.57 1459.58 1159.57 1468.33 Q1159.57 1477.06 1156.49 1481.67 Q1153.44 1486.25 1147.63 1486.25 Q1141.82 1486.25 1138.74 1481.67 Q1135.68 1477.06 1135.68 1468.33 Q1135.68 1459.58 1138.74 1455 Q1141.82 1450.39 1147.63 1450.39 Z\" fill=\"#000000\" fill-rule=\"nonzero\" fill-opacity=\"1\" /><path clip-path=\"url(#clip070)\" d=\"M1177.79 1454.1 Q1174.18 1454.1 1172.35 1457.66 Q1170.54 1461.2 1170.54 1468.33 Q1170.54 1475.44 1172.35 1479.01 Q1174.18 1482.55 1177.79 1482.55 Q1181.42 1482.55 1183.23 1479.01 Q1185.06 1475.44 1185.06 1468.33 Q1185.06 1461.2 1183.23 1457.66 Q1181.42 1454.1 1177.79 1454.1 M1177.79 1450.39 Q1183.6 1450.39 1186.65 1455 Q1189.73 1459.58 1189.73 1468.33 Q1189.73 1477.06 1186.65 1481.67 Q1183.6 1486.25 1177.79 1486.25 Q1171.98 1486.25 1168.9 1481.67 Q1165.84 1477.06 1165.84 1468.33 Q1165.84 1459.58 1168.9 1455 Q1171.98 1450.39 1177.79 1450.39 Z\" fill=\"#000000\" fill-rule=\"nonzero\" fill-opacity=\"1\" /><path clip-path=\"url(#clip070)\" d=\"M1548.14 1481.64 L1555.78 1481.64 L1555.78 1455.28 L1547.47 1456.95 L1547.47 1452.69 L1555.73 1451.02 L1560.41 1451.02 L1560.41 1481.64 L1568.05 1481.64 L1568.05 1485.58 L1548.14 1485.58 L1548.14 1481.64 Z\" fill=\"#000000\" fill-rule=\"nonzero\" fill-opacity=\"1\" /><path clip-path=\"url(#clip070)\" d=\"M1577.54 1451.02 L1595.89 1451.02 L1595.89 1454.96 L1581.82 1454.96 L1581.82 1463.43 Q1582.84 1463.08 1583.86 1462.92 Q1584.88 1462.73 1585.89 1462.73 Q1591.68 1462.73 1595.06 1465.9 Q1598.44 1469.08 1598.44 1474.49 Q1598.44 1480.07 1594.97 1483.17 Q1591.5 1486.25 1585.18 1486.25 Q1583 1486.25 1580.73 1485.88 Q1578.49 1485.51 1576.08 1484.77 L1576.08 1480.07 Q1578.16 1481.2 1580.39 1481.76 Q1582.61 1482.32 1585.08 1482.32 Q1589.09 1482.32 1591.43 1480.21 Q1593.77 1478.1 1593.77 1474.49 Q1593.77 1470.88 1591.43 1468.77 Q1589.09 1466.67 1585.08 1466.67 Q1583.21 1466.67 1581.33 1467.08 Q1579.48 1467.5 1577.54 1468.38 L1577.54 1451.02 Z\" fill=\"#000000\" fill-rule=\"nonzero\" fill-opacity=\"1\" /><path clip-path=\"url(#clip070)\" d=\"M1617.65 1454.1 Q1614.04 1454.1 1612.21 1457.66 Q1610.41 1461.2 1610.41 1468.33 Q1610.41 1475.44 1612.21 1479.01 Q1614.04 1482.55 1617.65 1482.55 Q1621.29 1482.55 1623.09 1479.01 Q1624.92 1475.44 1624.92 1468.33 Q1624.92 1461.2 1623.09 1457.66 Q1621.29 1454.1 1617.65 1454.1 M1617.65 1450.39 Q1623.46 1450.39 1626.52 1455 Q1629.6 1459.58 1629.6 1468.33 Q1629.6 1477.06 1626.52 1481.67 Q1623.46 1486.25 1617.65 1486.25 Q1611.84 1486.25 1608.76 1481.67 Q1605.71 1477.06 1605.71 1468.33 Q1605.71 1459.58 1608.76 1455 Q1611.84 1450.39 1617.65 1450.39 Z\" fill=\"#000000\" fill-rule=\"nonzero\" fill-opacity=\"1\" /><path clip-path=\"url(#clip070)\" d=\"M1992.09 1481.64 L2008.41 1481.64 L2008.41 1485.58 L1986.47 1485.58 L1986.47 1481.64 Q1989.13 1478.89 1993.71 1474.26 Q1998.32 1469.61 1999.5 1468.27 Q2001.74 1465.74 2002.62 1464.01 Q2003.53 1462.25 2003.53 1460.56 Q2003.53 1457.8 2001.58 1456.07 Q1999.66 1454.33 1996.56 1454.33 Q1994.36 1454.33 1991.91 1455.09 Q1989.48 1455.86 1986.7 1457.41 L1986.7 1452.69 Q1989.52 1451.55 1991.98 1450.97 Q1994.43 1450.39 1996.47 1450.39 Q2001.84 1450.39 2005.03 1453.08 Q2008.23 1455.77 2008.23 1460.26 Q2008.23 1462.39 2007.42 1464.31 Q2006.63 1466.2 2004.52 1468.8 Q2003.94 1469.47 2000.84 1472.69 Q1997.74 1475.88 1992.09 1481.64 Z\" fill=\"#000000\" fill-rule=\"nonzero\" fill-opacity=\"1\" /><path clip-path=\"url(#clip070)\" d=\"M2028.23 1454.1 Q2024.61 1454.1 2022.79 1457.66 Q2020.98 1461.2 2020.98 1468.33 Q2020.98 1475.44 2022.79 1479.01 Q2024.61 1482.55 2028.23 1482.55 Q2031.86 1482.55 2033.67 1479.01 Q2035.49 1475.44 2035.49 1468.33 Q2035.49 1461.2 2033.67 1457.66 Q2031.86 1454.1 2028.23 1454.1 M2028.23 1450.39 Q2034.04 1450.39 2037.09 1455 Q2040.17 1459.58 2040.17 1468.33 Q2040.17 1477.06 2037.09 1481.67 Q2034.04 1486.25 2028.23 1486.25 Q2022.42 1486.25 2019.34 1481.67 Q2016.28 1477.06 2016.28 1468.33 Q2016.28 1459.58 2019.34 1455 Q2022.42 1450.39 2028.23 1450.39 Z\" fill=\"#000000\" fill-rule=\"nonzero\" fill-opacity=\"1\" /><path clip-path=\"url(#clip070)\" d=\"M2058.39 1454.1 Q2054.78 1454.1 2052.95 1457.66 Q2051.14 1461.2 2051.14 1468.33 Q2051.14 1475.44 2052.95 1479.01 Q2054.78 1482.55 2058.39 1482.55 Q2062.02 1482.55 2063.83 1479.01 Q2065.66 1475.44 2065.66 1468.33 Q2065.66 1461.2 2063.83 1457.66 Q2062.02 1454.1 2058.39 1454.1 M2058.39 1450.39 Q2064.2 1450.39 2067.25 1455 Q2070.33 1459.58 2070.33 1468.33 Q2070.33 1477.06 2067.25 1481.67 Q2064.2 1486.25 2058.39 1486.25 Q2052.58 1486.25 2049.5 1481.67 Q2046.44 1477.06 2046.44 1468.33 Q2046.44 1459.58 2049.5 1455 Q2052.58 1450.39 2058.39 1450.39 Z\" fill=\"#000000\" fill-rule=\"nonzero\" fill-opacity=\"1\" /><path clip-path=\"url(#clip070)\" d=\"M874.613 1520.52 L914.813 1520.52 L914.813 1525.93 L897.944 1525.93 L897.944 1568.04 L891.482 1568.04 L891.482 1525.93 L874.613 1525.93 L874.613 1520.52 Z\" fill=\"#000000\" fill-rule=\"nonzero\" fill-opacity=\"1\" /><path clip-path=\"url(#clip070)\" d=\"M931.841 1537.87 Q930.854 1537.3 929.677 1537.04 Q928.531 1536.76 927.13 1536.76 Q922.165 1536.76 919.492 1540 Q916.85 1543.22 916.85 1549.27 L916.85 1568.04 L910.962 1568.04 L910.962 1532.4 L916.85 1532.4 L916.85 1537.93 Q918.696 1534.69 921.656 1533.13 Q924.616 1531.54 928.849 1531.54 Q929.454 1531.54 930.186 1531.63 Q930.918 1531.7 931.809 1531.85 L931.841 1537.87 Z\" fill=\"#000000\" fill-rule=\"nonzero\" fill-opacity=\"1\" /><path clip-path=\"url(#clip070)\" d=\"M954.185 1550.12 Q947.087 1550.12 944.35 1551.75 Q941.612 1553.37 941.612 1557.29 Q941.612 1560.4 943.649 1562.25 Q945.718 1564.07 949.251 1564.07 Q954.121 1564.07 957.049 1560.63 Q960.009 1557.16 960.009 1551.43 L960.009 1550.12 L954.185 1550.12 M965.866 1547.71 L965.866 1568.04 L960.009 1568.04 L960.009 1562.63 Q958.004 1565.88 955.012 1567.44 Q952.02 1568.97 947.692 1568.97 Q942.217 1568.97 938.971 1565.91 Q935.756 1562.82 935.756 1557.67 Q935.756 1551.65 939.766 1548.6 Q943.809 1545.54 951.798 1545.54 L960.009 1545.54 L960.009 1544.97 Q960.009 1540.93 957.336 1538.73 Q954.694 1536.5 949.888 1536.5 Q946.832 1536.5 943.936 1537.23 Q941.039 1537.97 938.366 1539.43 L938.366 1534.02 Q941.581 1532.78 944.604 1532.17 Q947.628 1531.54 950.493 1531.54 Q958.227 1531.54 962.046 1535.55 Q965.866 1539.56 965.866 1547.71 Z\" fill=\"#000000\" fill-rule=\"nonzero\" fill-opacity=\"1\" /><path clip-path=\"url(#clip070)\" d=\"M1001.39 1537.81 L1001.39 1518.52 L1007.24 1518.52 L1007.24 1568.04 L1001.39 1568.04 L1001.39 1562.7 Q999.54 1565.88 996.708 1567.44 Q993.907 1568.97 989.96 1568.97 Q983.499 1568.97 979.425 1563.81 Q975.382 1558.65 975.382 1550.25 Q975.382 1541.85 979.425 1536.69 Q983.499 1531.54 989.96 1531.54 Q993.907 1531.54 996.708 1533.1 Q999.54 1534.62 1001.39 1537.81 M981.43 1550.25 Q981.43 1556.71 984.072 1560.4 Q986.745 1564.07 991.392 1564.07 Q996.039 1564.07 998.713 1560.4 Q1001.39 1556.71 1001.39 1550.25 Q1001.39 1543.79 998.713 1540.13 Q996.039 1536.44 991.392 1536.44 Q986.745 1536.44 984.072 1540.13 Q981.43 1543.79 981.43 1550.25 Z\" fill=\"#000000\" fill-rule=\"nonzero\" fill-opacity=\"1\" /><path clip-path=\"url(#clip070)\" d=\"M1019.31 1532.4 L1025.16 1532.4 L1025.16 1568.04 L1019.31 1568.04 L1019.31 1532.4 M1019.31 1518.52 L1025.16 1518.52 L1025.16 1525.93 L1019.31 1525.93 L1019.31 1518.52 Z\" fill=\"#000000\" fill-rule=\"nonzero\" fill-opacity=\"1\" /><path clip-path=\"url(#clip070)\" d=\"M1067.05 1546.53 L1067.05 1568.04 L1061.19 1568.04 L1061.19 1546.72 Q1061.19 1541.66 1059.22 1539.14 Q1057.25 1536.63 1053.3 1536.63 Q1048.56 1536.63 1045.82 1539.65 Q1043.08 1542.68 1043.08 1547.9 L1043.08 1568.04 L1037.19 1568.04 L1037.19 1532.4 L1043.08 1532.4 L1043.08 1537.93 Q1045.18 1534.72 1048.02 1533.13 Q1050.88 1531.54 1054.6 1531.54 Q1060.75 1531.54 1063.9 1535.36 Q1067.05 1539.14 1067.05 1546.53 Z\" fill=\"#000000\" fill-rule=\"nonzero\" fill-opacity=\"1\" /><path clip-path=\"url(#clip070)\" d=\"M1102.19 1549.81 Q1102.19 1543.44 1099.55 1539.94 Q1096.94 1536.44 1092.19 1536.44 Q1087.48 1536.44 1084.84 1539.94 Q1082.23 1543.44 1082.23 1549.81 Q1082.23 1556.14 1084.84 1559.64 Q1087.48 1563.14 1092.19 1563.14 Q1096.94 1563.14 1099.55 1559.64 Q1102.19 1556.14 1102.19 1549.81 M1108.04 1563.62 Q1108.04 1572.72 1104 1577.15 Q1099.96 1581.6 1091.62 1581.6 Q1088.53 1581.6 1085.8 1581.13 Q1083.06 1580.68 1080.48 1579.72 L1080.48 1574.03 Q1083.06 1575.43 1085.57 1576.1 Q1088.09 1576.76 1090.7 1576.76 Q1096.46 1576.76 1099.32 1573.74 Q1102.19 1570.75 1102.19 1564.67 L1102.19 1561.77 Q1100.37 1564.92 1097.54 1566.48 Q1094.71 1568.04 1090.76 1568.04 Q1084.2 1568.04 1080.19 1563.05 Q1076.18 1558.05 1076.18 1549.81 Q1076.18 1541.53 1080.19 1536.53 Q1084.2 1531.54 1090.76 1531.54 Q1094.71 1531.54 1097.54 1533.1 Q1100.37 1534.66 1102.19 1537.81 L1102.19 1532.4 L1108.04 1532.4 L1108.04 1563.62 Z\" fill=\"#000000\" fill-rule=\"nonzero\" fill-opacity=\"1\" /><path clip-path=\"url(#clip070)\" d=\"M1147.51 1525.81 L1147.51 1562.76 L1155.28 1562.76 Q1165.11 1562.76 1169.66 1558.3 Q1174.25 1553.85 1174.25 1544.24 Q1174.25 1534.69 1169.66 1530.26 Q1165.11 1525.81 1155.28 1525.81 L1147.51 1525.81 M1141.08 1520.52 L1154.29 1520.52 Q1168.1 1520.52 1174.57 1526.28 Q1181.03 1532.01 1181.03 1544.24 Q1181.03 1556.52 1174.53 1562.28 Q1168.04 1568.04 1154.29 1568.04 L1141.08 1568.04 L1141.08 1520.52 Z\" fill=\"#000000\" fill-rule=\"nonzero\" fill-opacity=\"1\" /><path clip-path=\"url(#clip070)\" d=\"M1207.22 1550.12 Q1200.12 1550.12 1197.39 1551.75 Q1194.65 1553.37 1194.65 1557.29 Q1194.65 1560.4 1196.69 1562.25 Q1198.76 1564.07 1202.29 1564.07 Q1207.16 1564.07 1210.09 1560.63 Q1213.05 1557.16 1213.05 1551.43 L1213.05 1550.12 L1207.22 1550.12 M1218.9 1547.71 L1218.9 1568.04 L1213.05 1568.04 L1213.05 1562.63 Q1211.04 1565.88 1208.05 1567.44 Q1205.06 1568.97 1200.73 1568.97 Q1195.25 1568.97 1192.01 1565.91 Q1188.79 1562.82 1188.79 1557.67 Q1188.79 1551.65 1192.8 1548.6 Q1196.85 1545.54 1204.83 1545.54 L1213.05 1545.54 L1213.05 1544.97 Q1213.05 1540.93 1210.37 1538.73 Q1207.73 1536.5 1202.92 1536.5 Q1199.87 1536.5 1196.97 1537.23 Q1194.08 1537.97 1191.4 1539.43 L1191.4 1534.02 Q1194.62 1532.78 1197.64 1532.17 Q1200.66 1531.54 1203.53 1531.54 Q1211.26 1531.54 1215.08 1535.55 Q1218.9 1539.56 1218.9 1547.71 Z\" fill=\"#000000\" fill-rule=\"nonzero\" fill-opacity=\"1\" /><path clip-path=\"url(#clip070)\" d=\"M1245.8 1571.35 Q1243.32 1577.72 1240.96 1579.66 Q1238.6 1581.6 1234.66 1581.6 L1229.98 1581.6 L1229.98 1576.7 L1233.42 1576.7 Q1235.84 1576.7 1237.17 1575.56 Q1238.51 1574.41 1240.13 1570.14 L1241.18 1567.47 L1226.76 1532.4 L1232.97 1532.4 L1244.11 1560.28 L1255.25 1532.4 L1261.46 1532.4 L1245.8 1571.35 Z\" fill=\"#000000\" fill-rule=\"nonzero\" fill-opacity=\"1\" /><path clip-path=\"url(#clip070)\" d=\"M1290.52 1520.52 L1296.95 1520.52 L1296.95 1568.04 L1290.52 1568.04 L1290.52 1520.52 Z\" fill=\"#000000\" fill-rule=\"nonzero\" fill-opacity=\"1\" /><path clip-path=\"url(#clip070)\" d=\"M1339.12 1546.53 L1339.12 1568.04 L1333.26 1568.04 L1333.26 1546.72 Q1333.26 1541.66 1331.29 1539.14 Q1329.32 1536.63 1325.37 1536.63 Q1320.63 1536.63 1317.89 1539.65 Q1315.15 1542.68 1315.15 1547.9 L1315.15 1568.04 L1309.26 1568.04 L1309.26 1532.4 L1315.15 1532.4 L1315.15 1537.93 Q1317.25 1534.72 1320.09 1533.13 Q1322.95 1531.54 1326.67 1531.54 Q1332.82 1531.54 1335.97 1535.36 Q1339.12 1539.14 1339.12 1546.53 Z\" fill=\"#000000\" fill-rule=\"nonzero\" fill-opacity=\"1\" /><path clip-path=\"url(#clip070)\" d=\"M1374.26 1537.81 L1374.26 1518.52 L1380.11 1518.52 L1380.11 1568.04 L1374.26 1568.04 L1374.26 1562.7 Q1372.41 1565.88 1369.58 1567.44 Q1366.78 1568.97 1362.83 1568.97 Q1356.37 1568.97 1352.3 1563.81 Q1348.25 1558.65 1348.25 1550.25 Q1348.25 1541.85 1352.3 1536.69 Q1356.37 1531.54 1362.83 1531.54 Q1366.78 1531.54 1369.58 1533.1 Q1372.41 1534.62 1374.26 1537.81 M1354.3 1550.25 Q1354.3 1556.71 1356.94 1560.4 Q1359.62 1564.07 1364.26 1564.07 Q1368.91 1564.07 1371.58 1560.4 Q1374.26 1556.71 1374.26 1550.25 Q1374.26 1543.79 1371.58 1540.13 Q1368.91 1536.44 1364.26 1536.44 Q1359.62 1536.44 1356.94 1540.13 Q1354.3 1543.79 1354.3 1550.25 Z\" fill=\"#000000\" fill-rule=\"nonzero\" fill-opacity=\"1\" /><path clip-path=\"url(#clip070)\" d=\"M1422.67 1548.76 L1422.67 1551.62 L1395.74 1551.62 Q1396.12 1557.67 1399.37 1560.85 Q1402.65 1564 1408.47 1564 Q1411.85 1564 1415 1563.17 Q1418.18 1562.35 1421.3 1560.69 L1421.3 1566.23 Q1418.15 1567.57 1414.84 1568.27 Q1411.53 1568.97 1408.12 1568.97 Q1399.59 1568.97 1394.6 1564 Q1389.63 1559.04 1389.63 1550.57 Q1389.63 1541.82 1394.34 1536.69 Q1399.08 1531.54 1407.1 1531.54 Q1414.3 1531.54 1418.47 1536.18 Q1422.67 1540.8 1422.67 1548.76 M1416.81 1547.04 Q1416.75 1542.23 1414.11 1539.37 Q1411.5 1536.5 1407.17 1536.5 Q1402.27 1536.5 1399.31 1539.27 Q1396.38 1542.04 1395.93 1547.07 L1416.81 1547.04 Z\" fill=\"#000000\" fill-rule=\"nonzero\" fill-opacity=\"1\" /><path clip-path=\"url(#clip070)\" d=\"M1460.77 1532.4 L1447.88 1549.74 L1461.44 1568.04 L1454.53 1568.04 L1444.15 1554.04 L1433.78 1568.04 L1426.87 1568.04 L1440.72 1549.39 L1428.05 1532.4 L1434.95 1532.4 L1444.41 1545.1 L1453.86 1532.4 L1460.77 1532.4 Z\" fill=\"#000000\" fill-rule=\"nonzero\" fill-opacity=\"1\" /><path clip-path=\"url(#clip070)\" d=\"M1504.5 1518.58 Q1500.23 1525.9 1498.17 1533.06 Q1496.1 1540.23 1496.1 1547.58 Q1496.1 1554.93 1498.17 1562.16 Q1500.27 1569.35 1504.5 1576.64 L1499.41 1576.64 Q1494.63 1569.16 1492.25 1561.93 Q1489.89 1554.71 1489.89 1547.58 Q1489.89 1540.48 1492.25 1533.29 Q1494.6 1526.09 1499.41 1518.58 L1504.5 1518.58 Z\" fill=\"#000000\" fill-rule=\"nonzero\" fill-opacity=\"1\" /><path clip-path=\"url(#clip070)\" d=\"M1522.23 1562.63 L1544.67 1562.63 L1544.67 1568.04 L1514.49 1568.04 L1514.49 1562.63 Q1518.15 1558.85 1524.46 1552.48 Q1530.79 1546.08 1532.41 1544.24 Q1535.5 1540.77 1536.71 1538.38 Q1537.95 1535.96 1537.95 1533.64 Q1537.95 1529.85 1535.28 1527.46 Q1532.64 1525.08 1528.37 1525.08 Q1525.35 1525.08 1521.97 1526.13 Q1518.63 1527.18 1514.81 1529.31 L1514.81 1522.82 Q1518.7 1521.26 1522.07 1520.46 Q1525.44 1519.66 1528.24 1519.66 Q1535.63 1519.66 1540.02 1523.36 Q1544.41 1527.05 1544.41 1533.22 Q1544.41 1536.15 1543.3 1538.79 Q1542.22 1541.4 1539.32 1544.97 Q1538.52 1545.89 1534.26 1550.32 Q1529.99 1554.71 1522.23 1562.63 Z\" fill=\"#000000\" fill-rule=\"nonzero\" fill-opacity=\"1\" /><path clip-path=\"url(#clip070)\" d=\"M1571.91 1524.76 Q1566.95 1524.76 1564.43 1529.66 Q1561.95 1534.53 1561.95 1544.33 Q1561.95 1554.1 1564.43 1559 Q1566.95 1563.87 1571.91 1563.87 Q1576.91 1563.87 1579.39 1559 Q1581.91 1554.1 1581.91 1544.33 Q1581.91 1534.53 1579.39 1529.66 Q1576.91 1524.76 1571.91 1524.76 M1571.91 1519.66 Q1579.9 1519.66 1584.1 1526 Q1588.34 1532.3 1588.34 1544.33 Q1588.34 1556.33 1584.1 1562.66 Q1579.9 1568.97 1571.91 1568.97 Q1563.92 1568.97 1559.69 1562.66 Q1555.49 1556.33 1555.49 1544.33 Q1555.49 1532.3 1559.69 1526 Q1563.92 1519.66 1571.91 1519.66 Z\" fill=\"#000000\" fill-rule=\"nonzero\" fill-opacity=\"1\" /><path clip-path=\"url(#clip070)\" d=\"M1605.17 1562.63 L1627.61 1562.63 L1627.61 1568.04 L1597.44 1568.04 L1597.44 1562.63 Q1601.1 1558.85 1607.4 1552.48 Q1613.74 1546.08 1615.36 1544.24 Q1618.45 1540.77 1619.66 1538.38 Q1620.9 1535.96 1620.9 1533.64 Q1620.9 1529.85 1618.22 1527.46 Q1615.58 1525.08 1611.32 1525.08 Q1608.29 1525.08 1604.92 1526.13 Q1601.58 1527.18 1597.76 1529.31 L1597.76 1522.82 Q1601.64 1521.26 1605.01 1520.46 Q1608.39 1519.66 1611.19 1519.66 Q1618.57 1519.66 1622.97 1523.36 Q1627.36 1527.05 1627.36 1533.22 Q1627.36 1536.15 1626.24 1538.79 Q1625.16 1541.4 1622.27 1544.97 Q1621.47 1545.89 1617.2 1550.32 Q1612.94 1554.71 1605.17 1562.63 Z\" fill=\"#000000\" fill-rule=\"nonzero\" fill-opacity=\"1\" /><path clip-path=\"url(#clip070)\" d=\"M1660.59 1542.42 Q1665.2 1543.41 1667.78 1546.53 Q1670.39 1549.65 1670.39 1554.23 Q1670.39 1561.26 1665.55 1565.12 Q1660.71 1568.97 1651.8 1568.97 Q1648.81 1568.97 1645.63 1568.36 Q1642.48 1567.79 1639.1 1566.61 L1639.1 1560.4 Q1641.78 1561.96 1644.96 1562.76 Q1648.14 1563.56 1651.61 1563.56 Q1657.66 1563.56 1660.81 1561.17 Q1663.99 1558.78 1663.99 1554.23 Q1663.99 1550.03 1661.03 1547.67 Q1658.1 1545.29 1652.85 1545.29 L1647.31 1545.29 L1647.31 1540 L1653.11 1540 Q1657.85 1540 1660.36 1538.13 Q1662.88 1536.22 1662.88 1532.65 Q1662.88 1528.99 1660.27 1527.05 Q1657.69 1525.08 1652.85 1525.08 Q1650.21 1525.08 1647.19 1525.65 Q1644.16 1526.22 1640.54 1527.43 L1640.54 1521.7 Q1644.2 1520.68 1647.38 1520.17 Q1650.59 1519.66 1653.43 1519.66 Q1660.75 1519.66 1665.01 1523.01 Q1669.28 1526.32 1669.28 1531.98 Q1669.28 1535.93 1667.02 1538.67 Q1664.76 1541.37 1660.59 1542.42 Z\" fill=\"#000000\" fill-rule=\"nonzero\" fill-opacity=\"1\" /><path clip-path=\"url(#clip070)\" d=\"M1680.83 1518.58 L1685.92 1518.58 Q1690.7 1526.09 1693.05 1533.29 Q1695.44 1540.48 1695.44 1547.58 Q1695.44 1554.71 1693.05 1561.93 Q1690.7 1569.16 1685.92 1576.64 L1680.83 1576.64 Q1685.06 1569.35 1687.13 1562.16 Q1689.23 1554.93 1689.23 1547.58 Q1689.23 1540.23 1687.13 1533.06 Q1685.06 1525.9 1680.83 1518.58 Z\" fill=\"#000000\" fill-rule=\"nonzero\" fill-opacity=\"1\" /><polyline clip-path=\"url(#clip072)\" style=\"stroke:#000000; stroke-linecap:round; stroke-linejoin:round; stroke-width:2; stroke-opacity:0.1; fill:none\" points=\"217.297,1376.99 2352.76,1376.99 \"/>\n",
       "<polyline clip-path=\"url(#clip072)\" style=\"stroke:#000000; stroke-linecap:round; stroke-linejoin:round; stroke-width:2; stroke-opacity:0.1; fill:none\" points=\"217.297,979.766 2352.76,979.766 \"/>\n",
       "<polyline clip-path=\"url(#clip072)\" style=\"stroke:#000000; stroke-linecap:round; stroke-linejoin:round; stroke-width:2; stroke-opacity:0.1; fill:none\" points=\"217.297,582.541 2352.76,582.541 \"/>\n",
       "<polyline clip-path=\"url(#clip072)\" style=\"stroke:#000000; stroke-linecap:round; stroke-linejoin:round; stroke-width:2; stroke-opacity:0.1; fill:none\" points=\"217.297,185.317 2352.76,185.317 \"/>\n",
       "<polyline clip-path=\"url(#clip070)\" style=\"stroke:#000000; stroke-linecap:round; stroke-linejoin:round; stroke-width:4; stroke-opacity:1; fill:none\" points=\"217.297,1423.18 217.297,47.2441 \"/>\n",
       "<polyline clip-path=\"url(#clip070)\" style=\"stroke:#000000; stroke-linecap:round; stroke-linejoin:round; stroke-width:4; stroke-opacity:1; fill:none\" points=\"217.297,1376.99 236.194,1376.99 \"/>\n",
       "<polyline clip-path=\"url(#clip070)\" style=\"stroke:#000000; stroke-linecap:round; stroke-linejoin:round; stroke-width:4; stroke-opacity:1; fill:none\" points=\"217.297,979.766 236.194,979.766 \"/>\n",
       "<polyline clip-path=\"url(#clip070)\" style=\"stroke:#000000; stroke-linecap:round; stroke-linejoin:round; stroke-width:4; stroke-opacity:1; fill:none\" points=\"217.297,582.541 236.194,582.541 \"/>\n",
       "<polyline clip-path=\"url(#clip070)\" style=\"stroke:#000000; stroke-linecap:round; stroke-linejoin:round; stroke-width:4; stroke-opacity:1; fill:none\" points=\"217.297,185.317 236.194,185.317 \"/>\n",
       "<path clip-path=\"url(#clip070)\" d=\"M114.931 1390.34 L122.57 1390.34 L122.57 1363.97 L114.26 1365.64 L114.26 1361.38 L122.524 1359.71 L127.2 1359.71 L127.2 1390.34 L134.839 1390.34 L134.839 1394.27 L114.931 1394.27 L114.931 1390.34 Z\" fill=\"#000000\" fill-rule=\"nonzero\" fill-opacity=\"1\" /><path clip-path=\"url(#clip070)\" d=\"M144.283 1388.39 L149.167 1388.39 L149.167 1394.27 L144.283 1394.27 L144.283 1388.39 Z\" fill=\"#000000\" fill-rule=\"nonzero\" fill-opacity=\"1\" /><path clip-path=\"url(#clip070)\" d=\"M169.352 1362.79 Q165.741 1362.79 163.913 1366.35 Q162.107 1369.9 162.107 1377.03 Q162.107 1384.13 163.913 1387.7 Q165.741 1391.24 169.352 1391.24 Q172.987 1391.24 174.792 1387.7 Q176.621 1384.13 176.621 1377.03 Q176.621 1369.9 174.792 1366.35 Q172.987 1362.79 169.352 1362.79 M169.352 1359.09 Q175.163 1359.09 178.218 1363.69 Q181.297 1368.28 181.297 1377.03 Q181.297 1385.75 178.218 1390.36 Q175.163 1394.94 169.352 1394.94 Q163.542 1394.94 160.464 1390.36 Q157.408 1385.75 157.408 1377.03 Q157.408 1368.28 160.464 1363.69 Q163.542 1359.09 169.352 1359.09 Z\" fill=\"#000000\" fill-rule=\"nonzero\" fill-opacity=\"1\" /><path clip-path=\"url(#clip070)\" d=\"M116.158 993.111 L123.797 993.111 L123.797 966.745 L115.487 968.412 L115.487 964.153 L123.751 962.486 L128.427 962.486 L128.427 993.111 L136.066 993.111 L136.066 997.046 L116.158 997.046 L116.158 993.111 Z\" fill=\"#000000\" fill-rule=\"nonzero\" fill-opacity=\"1\" /><path clip-path=\"url(#clip070)\" d=\"M145.51 991.166 L150.394 991.166 L150.394 997.046 L145.51 997.046 L145.51 991.166 Z\" fill=\"#000000\" fill-rule=\"nonzero\" fill-opacity=\"1\" /><path clip-path=\"url(#clip070)\" d=\"M161.39 993.111 L169.028 993.111 L169.028 966.745 L160.718 968.412 L160.718 964.153 L168.982 962.486 L173.658 962.486 L173.658 993.111 L181.297 993.111 L181.297 997.046 L161.39 997.046 L161.39 993.111 Z\" fill=\"#000000\" fill-rule=\"nonzero\" fill-opacity=\"1\" /><path clip-path=\"url(#clip070)\" d=\"M116.529 595.886 L124.168 595.886 L124.168 569.521 L115.857 571.187 L115.857 566.928 L124.121 565.261 L128.797 565.261 L128.797 595.886 L136.436 595.886 L136.436 599.821 L116.529 599.821 L116.529 595.886 Z\" fill=\"#000000\" fill-rule=\"nonzero\" fill-opacity=\"1\" /><path clip-path=\"url(#clip070)\" d=\"M145.88 593.942 L150.765 593.942 L150.765 599.821 L145.88 599.821 L145.88 593.942 Z\" fill=\"#000000\" fill-rule=\"nonzero\" fill-opacity=\"1\" /><path clip-path=\"url(#clip070)\" d=\"M164.977 595.886 L181.297 595.886 L181.297 599.821 L159.353 599.821 L159.353 595.886 Q162.015 593.132 166.598 588.502 Q171.204 583.849 172.385 582.507 Q174.63 579.984 175.51 578.247 Q176.413 576.488 176.413 574.798 Q176.413 572.044 174.468 570.308 Q172.547 568.572 169.445 568.572 Q167.246 568.572 164.792 569.335 Q162.362 570.099 159.584 571.65 L159.584 566.928 Q162.408 565.794 164.862 565.215 Q167.315 564.636 169.352 564.636 Q174.723 564.636 177.917 567.322 Q181.112 570.007 181.112 574.497 Q181.112 576.627 180.301 578.548 Q179.514 580.446 177.408 583.039 Q176.829 583.71 173.727 586.928 Q170.626 590.122 164.977 595.886 Z\" fill=\"#000000\" fill-rule=\"nonzero\" fill-opacity=\"1\" /><path clip-path=\"url(#clip070)\" d=\"M115.58 198.662 L123.218 198.662 L123.218 172.296 L114.908 173.963 L114.908 169.703 L123.172 168.037 L127.848 168.037 L127.848 198.662 L135.487 198.662 L135.487 202.597 L115.58 202.597 L115.58 198.662 Z\" fill=\"#000000\" fill-rule=\"nonzero\" fill-opacity=\"1\" /><path clip-path=\"url(#clip070)\" d=\"M144.931 196.717 L149.816 196.717 L149.816 202.597 L144.931 202.597 L144.931 196.717 Z\" fill=\"#000000\" fill-rule=\"nonzero\" fill-opacity=\"1\" /><path clip-path=\"url(#clip070)\" d=\"M174.167 183.963 Q177.524 184.68 179.399 186.949 Q181.297 189.217 181.297 192.551 Q181.297 197.666 177.778 200.467 Q174.26 203.268 167.778 203.268 Q165.602 203.268 163.288 202.828 Q160.996 202.412 158.542 201.555 L158.542 197.041 Q160.487 198.176 162.802 198.754 Q165.116 199.333 167.64 199.333 Q172.038 199.333 174.329 197.597 Q176.644 195.861 176.644 192.551 Q176.644 189.495 174.491 187.782 Q172.362 186.046 168.542 186.046 L164.515 186.046 L164.515 182.203 L168.727 182.203 Q172.177 182.203 174.005 180.838 Q175.834 179.449 175.834 176.856 Q175.834 174.194 173.936 172.782 Q172.061 171.347 168.542 171.347 Q166.621 171.347 164.422 171.764 Q162.223 172.18 159.584 173.06 L159.584 168.893 Q162.246 168.153 164.561 167.782 Q166.899 167.412 168.959 167.412 Q174.283 167.412 177.385 169.842 Q180.487 172.25 180.487 176.37 Q180.487 179.24 178.843 181.231 Q177.2 183.199 174.167 183.963 Z\" fill=\"#000000\" fill-rule=\"nonzero\" fill-opacity=\"1\" /><path clip-path=\"url(#clip070)\" d=\"M16.4842 949.593 L16.4842 943.1 L56.6518 933.106 L16.4842 923.144 L16.4842 915.918 L56.6518 905.924 L16.4842 895.962 L16.4842 889.437 L64.0042 901.373 L64.0042 909.457 L22.7544 919.483 L64.0042 929.605 L64.0042 937.689 L16.4842 949.593 Z\" fill=\"#000000\" fill-rule=\"nonzero\" fill-opacity=\"1\" /><path clip-path=\"url(#clip070)\" d=\"M44.7161 854.489 L47.5806 854.489 L47.5806 881.416 Q53.6281 881.034 56.8109 877.788 Q59.9619 874.51 59.9619 868.685 Q59.9619 865.311 59.1344 862.16 Q58.3069 858.977 56.6518 855.858 L62.1899 855.858 Q63.5267 859.009 64.227 862.319 Q64.9272 865.629 64.9272 869.035 Q64.9272 877.565 59.9619 882.562 Q54.9967 887.527 46.5303 887.527 Q37.7774 887.527 32.6531 882.817 Q27.4968 878.074 27.4968 870.054 Q27.4968 862.86 32.1438 858.691 Q36.7589 854.489 44.7161 854.489 M42.9973 860.346 Q38.1912 860.41 35.3266 863.051 Q32.4621 865.661 32.4621 869.99 Q32.4621 874.891 35.2312 877.852 Q38.0002 880.78 43.0292 881.225 L42.9973 860.346 Z\" fill=\"#000000\" fill-rule=\"nonzero\" fill-opacity=\"1\" /><path clip-path=\"url(#clip070)\" d=\"M46.0847 828.676 Q46.0847 835.774 47.7079 838.511 Q49.3312 841.249 53.2461 841.249 Q56.3653 841.249 58.2114 839.212 Q60.0256 837.143 60.0256 833.61 Q60.0256 828.74 56.5881 825.812 Q53.1188 822.852 47.3897 822.852 L46.0847 822.852 L46.0847 828.676 M43.6657 816.995 L64.0042 816.995 L64.0042 822.852 L58.5933 822.852 Q61.8398 824.857 63.3994 827.849 Q64.9272 830.841 64.9272 835.169 Q64.9272 840.644 61.8716 843.89 Q58.7843 847.105 53.6281 847.105 Q47.6125 847.105 44.5569 843.095 Q41.5014 839.053 41.5014 831.064 L41.5014 822.852 L40.9285 822.852 Q36.8862 822.852 34.6901 825.525 Q32.4621 828.167 32.4621 832.973 Q32.4621 836.029 33.1941 838.925 Q33.9262 841.822 35.3903 844.495 L29.9795 844.495 Q28.7381 841.281 28.1334 838.257 Q27.4968 835.233 27.4968 832.369 Q27.4968 824.634 31.5072 820.815 Q35.5176 816.995 43.6657 816.995 Z\" fill=\"#000000\" fill-rule=\"nonzero\" fill-opacity=\"1\" /><path clip-path=\"url(#clip070)\" d=\"M14.479 804.932 L14.479 799.076 L64.0042 799.076 L64.0042 804.932 L14.479 804.932 Z\" fill=\"#000000\" fill-rule=\"nonzero\" fill-opacity=\"1\" /><path clip-path=\"url(#clip070)\" d=\"M18.2347 781.029 L28.3562 781.029 L28.3562 768.966 L32.9077 768.966 L32.9077 781.029 L52.2594 781.029 Q56.6199 781.029 57.8613 779.851 Q59.1026 778.642 59.1026 774.982 L59.1026 768.966 L64.0042 768.966 L64.0042 774.982 Q64.0042 781.761 61.4897 784.339 Q58.9434 786.917 52.2594 786.917 L32.9077 786.917 L32.9077 791.214 L28.3562 791.214 L28.3562 786.917 L18.2347 786.917 L18.2347 781.029 Z\" fill=\"#000000\" fill-rule=\"nonzero\" fill-opacity=\"1\" /><path clip-path=\"url(#clip070)\" d=\"M42.4881 731.631 L64.0042 731.631 L64.0042 737.488 L42.679 737.488 Q37.6183 737.488 35.1038 739.461 Q32.5894 741.434 32.5894 745.381 Q32.5894 750.124 35.6131 752.861 Q38.6368 755.598 43.8567 755.598 L64.0042 755.598 L64.0042 761.486 L14.479 761.486 L14.479 755.598 L33.8944 755.598 Q30.6797 753.497 29.0883 750.665 Q27.4968 747.8 27.4968 744.076 Q27.4968 737.933 31.3163 734.782 Q35.1038 731.631 42.4881 731.631 Z\" fill=\"#000000\" fill-rule=\"nonzero\" fill-opacity=\"1\" /><path clip-path=\"url(#clip070)\" d=\"M14.5426 685.162 Q21.8632 689.427 29.0246 691.495 Q36.186 693.564 43.5384 693.564 Q50.8908 693.564 58.1159 691.495 Q65.3091 689.395 72.5979 685.162 L72.5979 690.254 Q65.1182 695.028 57.8931 697.416 Q50.668 699.771 43.5384 699.771 Q36.4406 699.771 29.2474 697.416 Q22.0542 695.06 14.5426 690.254 L14.5426 685.162 Z\" fill=\"#000000\" fill-rule=\"nonzero\" fill-opacity=\"1\" /><path clip-path=\"url(#clip070)\" d=\"M16.4842 674.276 L16.4842 667.815 L45.3526 667.815 Q52.9915 667.815 56.3653 665.046 Q59.7073 662.277 59.7073 656.07 Q59.7073 649.896 56.3653 647.127 Q52.9915 644.357 45.3526 644.357 L16.4842 644.357 L16.4842 637.896 L46.1484 637.896 Q55.4423 637.896 60.1847 642.511 Q64.9272 647.095 64.9272 656.07 Q64.9272 665.078 60.1847 669.693 Q55.4423 674.276 46.1484 674.276 L16.4842 674.276 Z\" fill=\"#000000\" fill-rule=\"nonzero\" fill-opacity=\"1\" /><path clip-path=\"url(#clip070)\" d=\"M18.0438 597.347 L24.314 597.347 Q22.5634 601.007 21.704 604.253 Q20.8447 607.5 20.8447 610.524 Q20.8447 615.775 22.8817 618.64 Q24.9187 621.473 28.6745 621.473 Q31.8255 621.473 33.4488 619.595 Q35.0402 617.685 36.0269 612.402 L36.8226 608.518 Q38.1912 601.325 41.6605 597.92 Q45.098 594.482 50.8908 594.482 Q57.7976 594.482 61.3624 599.129 Q64.9272 603.744 64.9272 612.688 Q64.9272 616.062 64.1633 619.881 Q63.3994 623.669 61.9035 627.743 L55.2831 627.743 Q57.4793 623.828 58.5933 620.072 Q59.7073 616.316 59.7073 612.688 Q59.7073 607.182 57.543 604.19 Q55.3786 601.198 51.3682 601.198 Q47.8671 601.198 45.8937 603.362 Q43.9204 605.495 42.9337 610.396 L42.1698 614.311 Q40.7375 621.505 37.682 624.719 Q34.6264 627.934 29.1837 627.934 Q22.8817 627.934 19.2532 623.51 Q15.6248 619.054 15.6248 611.256 Q15.6248 607.914 16.2295 604.444 Q16.8343 600.975 18.0438 597.347 Z\" fill=\"#000000\" fill-rule=\"nonzero\" fill-opacity=\"1\" /><path clip-path=\"url(#clip070)\" d=\"M21.7677 578.027 L58.7206 578.027 L58.7206 570.261 Q58.7206 560.426 54.2646 555.874 Q49.8086 551.291 40.1964 551.291 Q30.6479 551.291 26.2237 555.874 Q21.7677 560.426 21.7677 570.261 L21.7677 578.027 M16.4842 584.456 L16.4842 571.247 Q16.4842 557.434 22.2451 550.973 Q27.9743 544.511 40.1964 544.511 Q52.4822 544.511 58.2432 551.004 Q64.0042 557.497 64.0042 571.247 L64.0042 584.456 L16.4842 584.456 Z\" fill=\"#000000\" fill-rule=\"nonzero\" fill-opacity=\"1\" /><path clip-path=\"url(#clip070)\" d=\"M14.5426 535.44 L14.5426 530.348 Q22.0542 525.573 29.2474 523.218 Q36.4406 520.831 43.5384 520.831 Q50.668 520.831 57.8931 523.218 Q65.1182 525.573 72.5979 530.348 L72.5979 535.44 Q65.3091 531.207 58.1159 529.138 Q50.8908 527.037 43.5384 527.037 Q36.186 527.037 29.0246 529.138 Q21.8632 531.207 14.5426 535.44 Z\" fill=\"#000000\" fill-rule=\"nonzero\" fill-opacity=\"1\" /><polyline clip-path=\"url(#clip072)\" style=\"stroke:#ff0000; stroke-linecap:round; stroke-linejoin:round; stroke-width:12; stroke-opacity:1; fill:none\" points=\"277.734,1376.99 286.532,1364.83 295.329,1277.11 304.126,1357.81 312.924,1341.25 321.721,1297.69 330.518,1284.98 339.316,1256.71 348.113,1275.84 356.91,1318.78 365.707,1296.02 374.505,1259.04 383.302,1215.13 392.099,1222.22 400.897,1230.17 409.694,1234.91 418.491,1236.91 427.289,1263.67 436.086,1219.65 444.883,1212.27 453.681,1206.76 462.478,1165.81 471.275,1182.84 480.072,1109.61 488.87,1128.65 497.667,1141.69 506.464,1103.2 515.262,1044.32 524.059,1069.36 532.856,1060.65 541.654,1106.31 550.451,1063.01 559.248,1128.54 568.046,1120.78 576.843,1085.72 585.64,1136.99 594.438,1130.61 603.235,1199.33 612.032,1220.46 620.829,1205 629.627,1136.3 638.424,1013.99 647.221,1041.67 656.019,1083.04 664.816,1128.21 673.613,1155.52 682.411,1166.81 691.208,1112.81 700.005,1094.21 708.803,1060.13 717.6,1135.94 726.397,1067.98 735.194,1047.93 743.992,1090.63 752.789,1078.67 761.586,1049.04 770.384,1034.4 779.181,1070.82 787.978,1039.44 796.776,997.557 805.573,952.921 814.37,886.267 823.168,894.573 831.965,859.776 840.762,838.954 849.56,870.031 858.357,889.522 867.154,874.382 875.951,762.244 884.749,772.447 893.546,778.094 902.343,764.389 911.141,762.067 919.938,774.918 928.735,773.907 937.533,758.335 946.33,768.397 955.127,829.758 963.925,730.869 972.722,707.07 981.519,691.141 990.316,675.145 999.114,683.8 1007.91,723.692 1016.71,609.28 1025.51,596.43 1034.3,639.271 1043.1,605.144 1051.9,609.342 1060.69,633.863 1069.49,656.029 1078.29,661.756 1087.09,679.195 1095.88,661.355 1104.68,630.398 1113.48,663.509 1122.28,724.349 1131.07,713.934 1139.87,723.601 1148.67,713.929 1157.47,707.255 1166.26,701.631 1175.06,651.831 1183.86,608.461 1192.65,615.878 1201.45,682.249 1210.25,729.245 1219.05,657.197 1227.84,644.067 1236.64,621.462 1245.44,625.576 1254.24,642.934 1263.03,599.646 1271.83,616.398 1280.63,597.174 1289.43,593.423 1298.22,500.552 1307.02,487.627 1315.82,537.271 1324.61,493.697 1333.41,494.513 1342.21,468.056 1351.01,370.556 1359.8,412.507 1368.6,440.678 1377.4,472.506 1386.2,542.544 1394.99,552.397 1403.79,584.658 1412.59,585.426 1421.38,597.419 1430.18,575.188 1438.98,564.21 1447.78,560.324 1456.57,541.255 1465.37,519.107 1474.17,497.555 1482.97,517.879 1491.76,530.652 1500.56,526.106 1509.36,580.852 1518.16,523.392 1526.95,508.64 1535.75,547.458 1544.55,581.268 1553.34,600.302 1562.14,742.495 1570.94,764.675 1579.74,745.132 1588.53,773.664 1597.33,787.193 1606.13,752.768 1614.93,700.493 1623.72,733.407 1632.52,744.274 1641.32,776.293 1650.11,763.943 1658.91,736.463 1667.71,764.71 1676.51,630.188 1685.3,732.699 1694.1,686.651 1702.9,689.937 1711.7,614.302 1720.49,560.823 1729.29,582.051 1738.09,542.936 1746.89,585.61 1755.68,700.264 1764.48,746.095 1773.28,715.544 1782.07,708.007 1790.87,742.305 1799.67,795.291 1808.47,765.503 1817.26,789.883 1826.06,742.758 1834.86,736.532 1843.66,787.349 1852.45,820.517 1861.25,816.249 1870.05,808.168 1878.84,874.401 1887.64,924.333 1896.44,913.604 1905.24,933.027 1914.03,905.572 1922.83,939.767 1931.63,914.33 1940.43,868.69 1949.22,827.249 1958.02,794.127 1966.82,820.054 1975.62,803.391 1984.41,788.157 1993.21,805.752 2002.01,804.994 2010.8,826.255 2019.6,887.541 2028.4,923.638 2037.2,915.312 2045.99,900.213 2054.79,900.408 2063.59,921.129 2072.39,941.811 2081.18,977.213 2089.98,951.165 2098.78,944.089 2107.57,896.586 2116.37,846.477 2125.17,848.816 2133.97,793.946 2142.76,764.61 2151.56,741.817 2160.36,788.391 2169.16,752.405 2177.95,753.347 2186.75,722.525 2195.55,730.785 2204.35,694.484 2213.14,699.502 2221.94,656.638 2230.74,677.194 2239.53,678.335 2248.33,693.235 2257.13,704.43 2265.93,720.625 2274.72,716.2 2283.52,681.466 2292.32,644.157 \"/>\n",
       "<polyline clip-path=\"url(#clip072)\" style=\"stroke:#0000ff; stroke-linecap:round; stroke-linejoin:round; stroke-width:12; stroke-opacity:1; fill:none\" points=\"277.734,1376.99 286.532,1354.14 295.329,1384.24 304.126,1332.27 312.924,1278.92 321.721,1292.27 330.518,1248.29 339.316,1216.89 348.113,1211.41 356.91,1197.23 365.707,1235.21 374.505,1290.34 383.302,1255.7 392.099,1180.83 400.897,1179.1 409.694,1200.8 418.491,1151.19 427.289,1118.07 436.086,1155.21 444.883,1135.05 453.681,1096.45 462.478,1016.58 471.275,1034.86 480.072,1074.25 488.87,1053.4 497.667,1054.09 506.464,1076.29 515.262,1105.35 524.059,1059.71 532.856,1052.02 541.654,1050.59 550.451,1070.82 559.248,1114.48 568.046,1166.52 576.843,1189.8 585.64,1182.4 594.438,1222.16 603.235,1192.72 612.032,1205.33 620.829,1229.14 629.627,1226.12 638.424,1156.96 647.221,1121.83 656.019,1174.46 664.816,1196.59 673.613,1226.09 682.411,1300.34 691.208,1323.49 700.005,1280.44 708.803,1312.3 717.6,1251.52 726.397,1270 735.194,1258.15 743.992,1208.7 752.789,1203.43 761.586,1235 770.384,1250.26 779.181,1210.37 787.978,1227.86 796.776,1179.75 805.573,1144.8 814.37,1102.7 823.168,1073.74 831.965,1082.57 840.762,1102.02 849.56,1093.96 858.357,1094.17 867.154,1073.97 875.951,1077.23 884.749,1056.25 893.546,1050.6 902.343,1047.18 911.141,1031.69 919.938,1035.97 928.735,1053.13 937.533,1055.78 946.33,1052.47 955.127,1092.02 963.925,1120.05 972.722,1073.1 981.519,1028.28 990.316,1009.44 999.114,1062.97 1007.91,1068.02 1016.71,1121.2 1025.51,1061.3 1034.3,1047.97 1043.1,1060.02 1051.9,1053.68 1060.69,1058.25 1069.49,1062.11 1078.29,1052.06 1087.09,1059.8 1095.88,1038.4 1104.68,999.27 1113.48,980.08 1122.28,979.936 1131.07,1012.71 1139.87,1061.37 1148.67,1033.38 1157.47,981.269 1166.26,965.237 1175.06,990.596 1183.86,965.036 1192.65,898.579 1201.45,886.581 1210.25,890.812 1219.05,893.37 1227.84,883.4 1236.64,863.219 1245.44,845.224 1254.24,803.025 1263.03,795.5 1271.83,753.989 1280.63,751.194 1289.43,791.12 1298.22,807.6 1307.02,808.803 1315.82,825.441 1324.61,839.402 1333.41,816.459 1342.21,805.74 1351.01,789.897 1359.8,732.744 1368.6,724.568 1377.4,726.812 1386.2,770.283 1394.99,762.067 1403.79,772.958 1412.59,748.578 1421.38,702.35 1430.18,671.768 1438.98,658.963 1447.78,652.243 1456.57,623.647 1465.37,601.307 1474.17,622.653 1482.97,626.487 1491.76,616.178 1500.56,600.847 1509.36,604.996 1518.16,601.554 1526.95,591.772 1535.75,582.267 1544.55,589.532 1553.34,642.028 1562.14,665.376 1570.94,666.674 1579.74,661.576 1588.53,682.746 1597.33,688.717 1606.13,682.661 1614.93,706.365 1623.72,691.208 1632.52,716.924 1641.32,744.411 1650.11,778.7 1658.91,807.357 1667.71,782.502 1676.51,773.358 1685.3,741.471 1694.1,759.861 1702.9,774.122 1711.7,740.249 1720.49,686.717 1729.29,650.658 1738.09,643.144 1746.89,644.033 1755.68,656.612 1764.48,698.362 1773.28,713.81 1782.07,702.01 1790.87,679.543 1799.67,690.83 1808.47,693.234 1817.26,662.973 1826.06,710.258 1834.86,723.294 1843.66,740.895 1852.45,746.433 1861.25,826.956 1870.05,847.509 1878.84,856.223 1887.64,895.341 1896.44,913.39 1905.24,887.979 1914.03,881.159 1922.83,903.662 1931.63,945.89 1940.43,937.307 1949.22,932.436 1958.02,897.355 1966.82,862.297 1975.62,813.257 1984.41,811.822 1993.21,818.886 2002.01,841.196 2010.8,806.765 2019.6,809.46 2028.4,843.388 2037.2,876.521 2045.99,933.562 2054.79,955.186 2063.59,938.074 2072.39,979.002 2081.18,1030.66 2089.98,1057.7 2098.78,1028.98 2107.57,1002.24 2116.37,960.776 2125.17,878.037 2133.97,819.178 2142.76,812.966 2151.56,797.533 2160.36,794.575 2169.16,806.93 2177.95,782.316 2186.75,760.371 2195.55,679.296 2204.35,656.882 2213.14,662.563 2221.94,651.555 2230.74,622.721 2239.53,625.519 2248.33,604.6 2257.13,603.939 2265.93,606.735 2274.72,607.848 2283.52,596.423 2292.32,603.431 \"/>\n",
       "<polyline clip-path=\"url(#clip072)\" style=\"stroke:#008000; stroke-linecap:round; stroke-linejoin:round; stroke-width:12; stroke-opacity:1; fill:none\" points=\"277.734,1376.99 286.532,1364.79 295.329,1276.48 304.126,1283.45 312.924,1265.58 321.721,1189.79 330.518,1187.37 339.316,1151.14 348.113,1150.51 356.91,1183.09 365.707,1163.6 374.505,1070.37 383.302,1007.36 392.099,1041.04 400.897,1077.46 409.694,1046.39 418.491,1019.51 427.289,1073.23 436.086,1018.33 444.883,990.836 453.681,887.726 462.478,907.917 471.275,936.25 480.072,822.473 488.87,922.832 497.667,978.772 506.464,951.777 515.262,898.295 524.059,920.236 532.856,897.091 541.654,947.876 550.451,924.184 559.248,999.901 568.046,991.795 576.843,962.782 585.64,1019.13 594.438,1005.34 603.235,1063.7 612.032,1099.61 620.829,1082.92 629.627,975.682 638.424,866.447 647.221,899.636 656.019,929.475 664.816,984.404 673.613,1024.72 682.411,1010.19 691.208,949.758 700.005,923.857 708.803,852.137 717.6,893.579 726.397,849.516 735.194,788.57 743.992,840.637 752.789,801.439 761.586,782.333 770.384,807.577 779.181,851.779 787.978,815.343 796.776,787.619 805.573,721.762 814.37,659.432 823.168,661.147 831.965,622.142 840.762,564.278 849.56,596.582 858.357,620.919 867.154,611.741 875.951,497.504 884.749,490.504 893.546,528.678 902.343,540.239 911.141,550.438 919.938,546.366 928.735,532.431 937.533,512.056 946.33,532.123 955.127,598.556 963.925,480.554 972.722,467.824 981.519,449.879 990.316,439.68 999.114,437.44 1007.91,475.199 1016.71,393.76 1025.51,353.5 1034.3,390.323 1043.1,321.785 1051.9,278.172 1060.69,284.752 1069.49,317.246 1078.29,293.907 1087.09,311.644 1095.88,300.193 1104.68,261.121 1113.48,269.433 1122.28,338.577 1131.07,347.304 1139.87,342.298 1148.67,346.04 1157.47,388.851 1166.26,371.987 1175.06,333.642 1183.86,280.596 1192.65,258.62 1201.45,327.925 1210.25,423.705 1219.05,377.115 1227.84,365.306 1236.64,348.444 1245.44,346.299 1254.24,373.212 1263.03,326.912 1271.83,353.555 1280.63,339.208 1289.43,357.004 1298.22,252.839 1307.02,241.959 1315.82,329.006 1324.61,302.575 1333.41,292.84 1342.21,278.714 1351.01,200.99 1359.8,233.55 1368.6,236.32 1377.4,295.11 1386.2,366.612 1394.99,403.058 1403.79,421.599 1412.59,401.736 1421.38,344.323 1430.18,313.84 1438.98,330.983 1447.78,337.853 1456.57,348.429 1465.37,358.541 1474.17,330.191 1482.97,332.367 1491.76,336.806 1500.56,247.44 1509.36,290.581 1518.16,208.337 1526.95,196.26 1535.75,244.995 1544.55,300.972 1553.34,310.259 1562.14,396.707 1570.94,338.999 1579.74,332.012 1588.53,378.065 1597.33,385.32 1606.13,366.228 1614.93,301.835 1623.72,344.879 1632.52,370.941 1641.32,352.359 1650.11,403.932 1658.91,371.521 1667.71,375.245 1676.51,238.163 1685.3,338.088 1694.1,318.27 1702.9,301.358 1711.7,192.66 1720.49,148.418 1729.29,165.691 1738.09,150.02 1746.89,188.828 1755.68,268.587 1764.48,261.553 1773.28,218.982 1782.07,211.67 1790.87,247.147 1799.67,240.114 1808.47,199.199 1817.26,227.827 1826.06,198.622 1834.86,206.245 1843.66,309.979 1852.45,406.29 1861.25,411.697 1870.05,382.431 1878.84,475.45 1887.64,407.798 1896.44,347.272 1905.24,400.935 1914.03,287.474 1922.83,346.65 1931.63,254.502 1940.43,244.826 1949.22,164.389 1958.02,131.408 1966.82,152.476 1975.62,86.1857 1984.41,117.65 1993.21,160.204 2002.01,114.426 2010.8,103.957 2019.6,177.563 2028.4,196.996 2037.2,251.33 2045.99,219.216 2054.79,149.687 2063.59,524.129 2072.39,526.788 2081.18,579.348 2089.98,557.008 2098.78,550.513 2107.57,506.83 2116.37,462.507 2125.17,459.662 2133.97,402.754 2142.76,380.125 2151.56,356.532 2160.36,416.201 2169.16,395.075 2177.95,384.455 2186.75,361.189 2195.55,376.806 2204.35,303.765 2213.14,339.136 2221.94,299.32 2230.74,294.779 2239.53,257.619 2248.33,306.573 2257.13,315.082 2265.93,291.891 2274.72,349.206 2283.52,305.209 2292.32,263.157 \"/>\n",
       "<path clip-path=\"url(#clip070)\" d=\"M288.479 300.469 L1224.06 300.469 L1224.06 93.1086 L288.479 93.1086  Z\" fill=\"#ffffff\" fill-rule=\"evenodd\" fill-opacity=\"1\"/>\n",
       "<polyline clip-path=\"url(#clip070)\" style=\"stroke:#000000; stroke-linecap:round; stroke-linejoin:round; stroke-width:4; stroke-opacity:1; fill:none\" points=\"288.479,300.469 1224.06,300.469 1224.06,93.1086 288.479,93.1086 288.479,300.469 \"/>\n",
       "<polyline clip-path=\"url(#clip070)\" style=\"stroke:#ff0000; stroke-linecap:round; stroke-linejoin:round; stroke-width:12; stroke-opacity:1; fill:none\" points=\"312.206,144.949 454.57,144.949 \"/>\n",
       "<path clip-path=\"url(#clip070)\" d=\"M482.973 131.511 L482.973 144.497 L488.853 144.497 Q492.117 144.497 493.899 142.807 Q495.682 141.118 495.682 137.993 Q495.682 134.891 493.899 133.201 Q492.117 131.511 488.853 131.511 L482.973 131.511 M478.297 127.669 L488.853 127.669 Q494.663 127.669 497.626 130.307 Q500.612 132.923 500.612 137.993 Q500.612 143.108 497.626 145.724 Q494.663 148.34 488.853 148.34 L482.973 148.34 L482.973 162.229 L478.297 162.229 L478.297 127.669 Z\" fill=\"#000000\" fill-rule=\"nonzero\" fill-opacity=\"1\" /><path clip-path=\"url(#clip070)\" d=\"M515.056 139.289 Q511.631 139.289 509.64 141.974 Q507.649 144.636 507.649 149.289 Q507.649 153.942 509.617 156.627 Q511.607 159.289 515.056 159.289 Q518.459 159.289 520.45 156.604 Q522.441 153.918 522.441 149.289 Q522.441 144.682 520.45 141.997 Q518.459 139.289 515.056 139.289 M515.056 135.678 Q520.612 135.678 523.783 139.289 Q526.955 142.9 526.955 149.289 Q526.955 155.655 523.783 159.289 Q520.612 162.9 515.056 162.9 Q509.478 162.9 506.306 159.289 Q503.158 155.655 503.158 149.289 Q503.158 142.9 506.306 139.289 Q509.478 135.678 515.056 135.678 Z\" fill=\"#000000\" fill-rule=\"nonzero\" fill-opacity=\"1\" /><path clip-path=\"url(#clip070)\" d=\"M549.038 140.284 Q548.32 139.868 547.464 139.682 Q546.63 139.474 545.612 139.474 Q542.001 139.474 540.056 141.835 Q538.135 144.173 538.135 148.571 L538.135 162.229 L533.853 162.229 L533.853 136.303 L538.135 136.303 L538.135 140.331 Q539.478 137.969 541.63 136.835 Q543.783 135.678 546.862 135.678 Q547.302 135.678 547.834 135.747 Q548.366 135.794 549.015 135.909 L549.038 140.284 Z\" fill=\"#000000\" fill-rule=\"nonzero\" fill-opacity=\"1\" /><path clip-path=\"url(#clip070)\" d=\"M557.718 128.942 L557.718 136.303 L566.491 136.303 L566.491 139.613 L557.718 139.613 L557.718 153.687 Q557.718 156.858 558.575 157.761 Q559.454 158.664 562.116 158.664 L566.491 158.664 L566.491 162.229 L562.116 162.229 Q557.186 162.229 555.311 160.4 Q553.436 158.548 553.436 153.687 L553.436 139.613 L550.311 139.613 L550.311 136.303 L553.436 136.303 L553.436 128.942 L557.718 128.942 Z\" fill=\"#000000\" fill-rule=\"nonzero\" fill-opacity=\"1\" /><path clip-path=\"url(#clip070)\" d=\"M585.218 126.21 L585.218 129.752 L581.144 129.752 Q578.852 129.752 577.95 130.678 Q577.07 131.604 577.07 134.011 L577.07 136.303 L584.084 136.303 L584.084 139.613 L577.07 139.613 L577.07 162.229 L572.788 162.229 L572.788 139.613 L568.714 139.613 L568.714 136.303 L572.788 136.303 L572.788 134.497 Q572.788 130.169 574.802 128.201 Q576.815 126.21 581.19 126.21 L585.218 126.21 Z\" fill=\"#000000\" fill-rule=\"nonzero\" fill-opacity=\"1\" /><path clip-path=\"url(#clip070)\" d=\"M598.829 139.289 Q595.403 139.289 593.413 141.974 Q591.422 144.636 591.422 149.289 Q591.422 153.942 593.389 156.627 Q595.38 159.289 598.829 159.289 Q602.232 159.289 604.223 156.604 Q606.213 153.918 606.213 149.289 Q606.213 144.682 604.223 141.997 Q602.232 139.289 598.829 139.289 M598.829 135.678 Q604.385 135.678 607.556 139.289 Q610.727 142.9 610.727 149.289 Q610.727 155.655 607.556 159.289 Q604.385 162.9 598.829 162.9 Q593.25 162.9 590.079 159.289 Q586.931 155.655 586.931 149.289 Q586.931 142.9 590.079 139.289 Q593.25 135.678 598.829 135.678 Z\" fill=\"#000000\" fill-rule=\"nonzero\" fill-opacity=\"1\" /><path clip-path=\"url(#clip070)\" d=\"M617.787 126.21 L622.047 126.21 L622.047 162.229 L617.787 162.229 L617.787 126.21 Z\" fill=\"#000000\" fill-rule=\"nonzero\" fill-opacity=\"1\" /><path clip-path=\"url(#clip070)\" d=\"M630.959 136.303 L635.218 136.303 L635.218 162.229 L630.959 162.229 L630.959 136.303 M630.959 126.21 L635.218 126.21 L635.218 131.604 L630.959 131.604 L630.959 126.21 Z\" fill=\"#000000\" fill-rule=\"nonzero\" fill-opacity=\"1\" /><path clip-path=\"url(#clip070)\" d=\"M654.176 139.289 Q650.75 139.289 648.759 141.974 Q646.769 144.636 646.769 149.289 Q646.769 153.942 648.736 156.627 Q650.727 159.289 654.176 159.289 Q657.579 159.289 659.57 156.604 Q661.56 153.918 661.56 149.289 Q661.56 144.682 659.57 141.997 Q657.579 139.289 654.176 139.289 M654.176 135.678 Q659.732 135.678 662.903 139.289 Q666.074 142.9 666.074 149.289 Q666.074 155.655 662.903 159.289 Q659.732 162.9 654.176 162.9 Q648.597 162.9 645.426 159.289 Q642.278 155.655 642.278 149.289 Q642.278 142.9 645.426 139.289 Q648.597 135.678 654.176 135.678 Z\" fill=\"#000000\" fill-rule=\"nonzero\" fill-opacity=\"1\" /><path clip-path=\"url(#clip070)\" d=\"M692.833 158.293 L709.153 158.293 L709.153 162.229 L687.208 162.229 L687.208 158.293 Q689.87 155.539 694.454 150.909 Q699.06 146.256 700.241 144.914 Q702.486 142.391 703.366 140.655 Q704.268 138.895 704.268 137.206 Q704.268 134.451 702.324 132.715 Q700.403 130.979 697.301 130.979 Q695.102 130.979 692.648 131.743 Q690.218 132.507 687.44 134.057 L687.44 129.335 Q690.264 128.201 692.718 127.622 Q695.171 127.044 697.208 127.044 Q702.579 127.044 705.773 129.729 Q708.967 132.414 708.967 136.905 Q708.967 139.034 708.157 140.956 Q707.37 142.854 705.264 145.446 Q704.685 146.118 701.583 149.335 Q698.481 152.53 692.833 158.293 Z\" fill=\"#000000\" fill-rule=\"nonzero\" fill-opacity=\"1\" /><path clip-path=\"url(#clip070)\" d=\"M728.967 145.817 Q725.634 145.817 723.713 147.599 Q721.815 149.381 721.815 152.506 Q721.815 155.631 723.713 157.414 Q725.634 159.196 728.967 159.196 Q732.301 159.196 734.222 157.414 Q736.143 155.608 736.143 152.506 Q736.143 149.381 734.222 147.599 Q732.324 145.817 728.967 145.817 M724.291 143.826 Q721.282 143.085 719.592 141.025 Q717.926 138.965 717.926 136.002 Q717.926 131.858 720.866 129.451 Q723.828 127.044 728.967 127.044 Q734.129 127.044 737.069 129.451 Q740.009 131.858 740.009 136.002 Q740.009 138.965 738.319 141.025 Q736.652 143.085 733.666 143.826 Q737.046 144.613 738.921 146.905 Q740.819 149.196 740.819 152.506 Q740.819 157.53 737.74 160.215 Q734.685 162.9 728.967 162.9 Q723.25 162.9 720.171 160.215 Q717.116 157.53 717.116 152.506 Q717.116 149.196 719.014 146.905 Q720.912 144.613 724.291 143.826 M722.578 136.442 Q722.578 139.127 724.245 140.632 Q725.935 142.136 728.967 142.136 Q731.977 142.136 733.666 140.632 Q735.379 139.127 735.379 136.442 Q735.379 133.757 733.666 132.252 Q731.977 130.747 728.967 130.747 Q725.935 130.747 724.245 132.252 Q722.578 133.757 722.578 136.442 Z\" fill=\"#000000\" fill-rule=\"nonzero\" fill-opacity=\"1\" /><path clip-path=\"url(#clip070)\" d=\"M773.828 126.257 Q770.726 131.581 769.222 136.789 Q767.717 141.997 767.717 147.344 Q767.717 152.692 769.222 157.946 Q770.75 163.178 773.828 168.479 L770.125 168.479 Q766.652 163.039 764.916 157.784 Q763.203 152.53 763.203 147.344 Q763.203 142.182 764.916 136.951 Q766.629 131.72 770.125 126.257 L773.828 126.257 Z\" fill=\"#000000\" fill-rule=\"nonzero\" fill-opacity=\"1\" /><path clip-path=\"url(#clip070)\" d=\"M793.874 149.196 Q788.712 149.196 786.722 150.377 Q784.731 151.557 784.731 154.405 Q784.731 156.673 786.212 158.016 Q787.717 159.335 790.286 159.335 Q793.828 159.335 795.958 156.835 Q798.11 154.312 798.11 150.145 L798.11 149.196 L793.874 149.196 M802.37 147.437 L802.37 162.229 L798.11 162.229 L798.11 158.293 Q796.652 160.655 794.476 161.789 Q792.3 162.9 789.152 162.9 Q785.171 162.9 782.81 160.678 Q780.472 158.432 780.472 154.682 Q780.472 150.307 783.388 148.085 Q786.328 145.863 792.138 145.863 L798.11 145.863 L798.11 145.446 Q798.11 142.507 796.166 140.909 Q794.245 139.289 790.749 139.289 Q788.527 139.289 786.421 139.821 Q784.314 140.354 782.37 141.419 L782.37 137.483 Q784.708 136.581 786.907 136.141 Q789.106 135.678 791.189 135.678 Q796.814 135.678 799.592 138.594 Q802.37 141.511 802.37 147.437 Z\" fill=\"#000000\" fill-rule=\"nonzero\" fill-opacity=\"1\" /><path clip-path=\"url(#clip070)\" d=\"M829.8 137.298 L829.8 141.28 Q827.995 140.284 826.166 139.798 Q824.36 139.289 822.509 139.289 Q818.365 139.289 816.073 141.928 Q813.782 144.544 813.782 149.289 Q813.782 154.034 816.073 156.673 Q818.365 159.289 822.509 159.289 Q824.36 159.289 826.166 158.803 Q827.995 158.293 829.8 157.298 L829.8 161.233 Q828.018 162.067 826.096 162.483 Q824.198 162.9 822.046 162.9 Q816.189 162.9 812.74 159.219 Q809.291 155.539 809.291 149.289 Q809.291 142.946 812.763 139.312 Q816.259 135.678 822.323 135.678 Q824.291 135.678 826.166 136.095 Q828.041 136.488 829.8 137.298 Z\" fill=\"#000000\" fill-rule=\"nonzero\" fill-opacity=\"1\" /><path clip-path=\"url(#clip070)\" d=\"M841.42 128.942 L841.42 136.303 L850.194 136.303 L850.194 139.613 L841.42 139.613 L841.42 153.687 Q841.42 156.858 842.277 157.761 Q843.157 158.664 845.819 158.664 L850.194 158.664 L850.194 162.229 L845.819 162.229 Q840.888 162.229 839.013 160.4 Q837.138 158.548 837.138 153.687 L837.138 139.613 L834.013 139.613 L834.013 136.303 L837.138 136.303 L837.138 128.942 L841.42 128.942 Z\" fill=\"#000000\" fill-rule=\"nonzero\" fill-opacity=\"1\" /><path clip-path=\"url(#clip070)\" d=\"M855.356 151.997 L855.356 136.303 L859.615 136.303 L859.615 151.835 Q859.615 155.516 861.05 157.368 Q862.485 159.196 865.355 159.196 Q868.805 159.196 870.795 156.997 Q872.809 154.798 872.809 151.002 L872.809 136.303 L877.068 136.303 L877.068 162.229 L872.809 162.229 L872.809 158.247 Q871.258 160.608 869.198 161.766 Q867.161 162.9 864.453 162.9 Q859.985 162.9 857.67 160.122 Q855.356 157.344 855.356 151.997 M866.073 135.678 L866.073 135.678 Z\" fill=\"#000000\" fill-rule=\"nonzero\" fill-opacity=\"1\" /><path clip-path=\"url(#clip070)\" d=\"M897.624 149.196 Q892.462 149.196 890.471 150.377 Q888.48 151.557 888.48 154.405 Q888.48 156.673 889.962 158.016 Q891.466 159.335 894.036 159.335 Q897.578 159.335 899.707 156.835 Q901.86 154.312 901.86 150.145 L901.86 149.196 L897.624 149.196 M906.119 147.437 L906.119 162.229 L901.86 162.229 L901.86 158.293 Q900.402 160.655 898.226 161.789 Q896.05 162.9 892.902 162.9 Q888.92 162.9 886.559 160.678 Q884.221 158.432 884.221 154.682 Q884.221 150.307 887.138 148.085 Q890.078 145.863 895.888 145.863 L901.86 145.863 L901.86 145.446 Q901.86 142.507 899.915 140.909 Q897.994 139.289 894.499 139.289 Q892.277 139.289 890.17 139.821 Q888.064 140.354 886.119 141.419 L886.119 137.483 Q888.457 136.581 890.656 136.141 Q892.855 135.678 894.939 135.678 Q900.564 135.678 903.341 138.594 Q906.119 141.511 906.119 147.437 Z\" fill=\"#000000\" fill-rule=\"nonzero\" fill-opacity=\"1\" /><path clip-path=\"url(#clip070)\" d=\"M914.892 126.21 L919.152 126.21 L919.152 162.229 L914.892 162.229 L914.892 126.21 Z\" fill=\"#000000\" fill-rule=\"nonzero\" fill-opacity=\"1\" /><path clip-path=\"url(#clip070)\" d=\"M927.392 126.257 L931.096 126.257 Q934.568 131.72 936.281 136.951 Q938.017 142.182 938.017 147.344 Q938.017 152.53 936.281 157.784 Q934.568 163.039 931.096 168.479 L927.392 168.479 Q930.471 163.178 931.976 157.946 Q933.503 152.692 933.503 147.344 Q933.503 141.997 931.976 136.789 Q930.471 131.581 927.392 126.257 Z\" fill=\"#000000\" fill-rule=\"nonzero\" fill-opacity=\"1\" /><polyline clip-path=\"url(#clip070)\" style=\"stroke:#0000ff; stroke-linecap:round; stroke-linejoin:round; stroke-width:12; stroke-opacity:1; fill:none\" points=\"312.206,196.789 454.57,196.789 \"/>\n",
       "<path clip-path=\"url(#clip070)\" d=\"M500.543 180.643 L500.543 185.203 Q497.881 183.93 495.52 183.305 Q493.158 182.68 490.959 182.68 Q487.14 182.68 485.057 184.161 Q482.996 185.643 482.996 188.374 Q482.996 190.666 484.362 191.847 Q485.751 193.004 489.594 193.722 L492.418 194.3 Q497.649 195.296 500.126 197.819 Q502.626 200.319 502.626 204.532 Q502.626 209.555 499.246 212.147 Q495.89 214.74 489.385 214.74 Q486.932 214.74 484.154 214.184 Q481.399 213.629 478.436 212.541 L478.436 207.726 Q481.283 209.323 484.015 210.133 Q486.746 210.944 489.385 210.944 Q493.39 210.944 495.566 209.37 Q497.742 207.796 497.742 204.879 Q497.742 202.333 496.168 200.897 Q494.617 199.462 491.052 198.745 L488.205 198.189 Q482.973 197.147 480.635 194.925 Q478.297 192.703 478.297 188.745 Q478.297 184.161 481.515 181.522 Q484.756 178.884 490.427 178.884 Q492.857 178.884 495.381 179.323 Q497.904 179.763 500.543 180.643 Z\" fill=\"#000000\" fill-rule=\"nonzero\" fill-opacity=\"1\" /><path clip-path=\"url(#clip070)\" d=\"M514.593 183.351 L514.593 196.337 L520.473 196.337 Q523.737 196.337 525.519 194.647 Q527.302 192.958 527.302 189.833 Q527.302 186.731 525.519 185.041 Q523.737 183.351 520.473 183.351 L514.593 183.351 M509.918 179.509 L520.473 179.509 Q526.283 179.509 529.246 182.147 Q532.232 184.763 532.232 189.833 Q532.232 194.948 529.246 197.564 Q526.283 200.18 520.473 200.18 L514.593 200.18 L514.593 214.069 L509.918 214.069 L509.918 179.509 Z\" fill=\"#000000\" fill-rule=\"nonzero\" fill-opacity=\"1\" /><path clip-path=\"url(#clip070)\" d=\"M532.718 179.509 L537.742 179.509 L547.325 193.722 L556.839 179.509 L561.862 179.509 L549.64 197.61 L549.64 214.069 L544.941 214.069 L544.941 197.61 L532.718 179.509 Z\" fill=\"#000000\" fill-rule=\"nonzero\" fill-opacity=\"1\" /><polyline clip-path=\"url(#clip070)\" style=\"stroke:#008000; stroke-linecap:round; stroke-linejoin:round; stroke-width:12; stroke-opacity:1; fill:none\" points=\"312.206,248.629 454.57,248.629 \"/>\n",
       "<path clip-path=\"url(#clip070)\" d=\"M494.686 249.705 Q496.191 250.214 497.603 251.881 Q499.038 253.548 500.473 256.464 L505.219 265.909 L500.195 265.909 L495.774 257.043 Q494.061 253.571 492.441 252.436 Q490.844 251.302 488.066 251.302 L482.973 251.302 L482.973 265.909 L478.297 265.909 L478.297 231.349 L488.853 231.349 Q494.779 231.349 497.695 233.825 Q500.612 236.302 500.612 241.302 Q500.612 244.566 499.084 246.719 Q497.58 248.872 494.686 249.705 M482.973 235.191 L482.973 247.46 L488.853 247.46 Q492.232 247.46 493.945 245.909 Q495.682 244.335 495.682 241.302 Q495.682 238.27 493.945 236.742 Q492.232 235.191 488.853 235.191 L482.973 235.191 Z\" fill=\"#000000\" fill-rule=\"nonzero\" fill-opacity=\"1\" /><path clip-path=\"url(#clip070)\" d=\"M531.098 251.881 L531.098 253.964 L511.515 253.964 Q511.793 258.362 514.154 260.677 Q516.538 262.969 520.774 262.969 Q523.228 262.969 525.519 262.367 Q527.834 261.765 530.103 260.561 L530.103 264.589 Q527.811 265.561 525.404 266.071 Q522.996 266.58 520.519 266.58 Q514.316 266.58 510.681 262.969 Q507.07 259.358 507.07 253.2 Q507.07 246.835 510.496 243.108 Q513.945 239.358 519.779 239.358 Q525.01 239.358 528.042 242.737 Q531.098 246.094 531.098 251.881 M526.839 250.631 Q526.792 247.136 524.871 245.052 Q522.973 242.969 519.825 242.969 Q516.26 242.969 514.107 244.983 Q511.978 246.997 511.654 250.654 L526.839 250.631 Z\" fill=\"#000000\" fill-rule=\"nonzero\" fill-opacity=\"1\" /><path clip-path=\"url(#clip070)\" d=\"M549.871 252.876 Q544.709 252.876 542.718 254.057 Q540.728 255.237 540.728 258.085 Q540.728 260.353 542.209 261.696 Q543.714 263.015 546.283 263.015 Q549.825 263.015 551.954 260.515 Q554.107 257.992 554.107 253.825 L554.107 252.876 L549.871 252.876 M558.366 251.117 L558.366 265.909 L554.107 265.909 L554.107 261.973 Q552.649 264.335 550.473 265.469 Q548.297 266.58 545.149 266.58 Q541.167 266.58 538.806 264.358 Q536.468 262.112 536.468 258.362 Q536.468 253.987 539.385 251.765 Q542.325 249.543 548.135 249.543 L554.107 249.543 L554.107 249.126 Q554.107 246.187 552.163 244.589 Q550.241 242.969 546.746 242.969 Q544.524 242.969 542.417 243.501 Q540.311 244.034 538.367 245.099 L538.367 241.163 Q540.704 240.261 542.904 239.821 Q545.103 239.358 547.186 239.358 Q552.811 239.358 555.589 242.274 Q558.366 245.191 558.366 251.117 Z\" fill=\"#000000\" fill-rule=\"nonzero\" fill-opacity=\"1\" /><path clip-path=\"url(#clip070)\" d=\"M567.14 229.89 L571.399 229.89 L571.399 265.909 L567.14 265.909 L567.14 229.89 Z\" fill=\"#000000\" fill-rule=\"nonzero\" fill-opacity=\"1\" /><path clip-path=\"url(#clip070)\" d=\"M580.311 229.89 L584.57 229.89 L584.57 265.909 L580.311 265.909 L580.311 229.89 Z\" fill=\"#000000\" fill-rule=\"nonzero\" fill-opacity=\"1\" /><path clip-path=\"url(#clip070)\" d=\"M603.528 242.969 Q600.102 242.969 598.112 245.654 Q596.121 248.316 596.121 252.969 Q596.121 257.622 598.088 260.307 Q600.079 262.969 603.528 262.969 Q606.931 262.969 608.922 260.284 Q610.912 257.598 610.912 252.969 Q610.912 248.362 608.922 245.677 Q606.931 242.969 603.528 242.969 M603.528 239.358 Q609.084 239.358 612.255 242.969 Q615.426 246.58 615.426 252.969 Q615.426 259.335 612.255 262.969 Q609.084 266.58 603.528 266.58 Q597.95 266.58 594.778 262.969 Q591.63 259.335 591.63 252.969 Q591.63 246.58 594.778 242.969 Q597.95 239.358 603.528 239.358 Z\" fill=\"#000000\" fill-rule=\"nonzero\" fill-opacity=\"1\" /><path clip-path=\"url(#clip070)\" d=\"M641.144 240.978 L641.144 244.96 Q639.338 243.964 637.509 243.478 Q635.704 242.969 633.852 242.969 Q629.709 242.969 627.417 245.608 Q625.125 248.224 625.125 252.969 Q625.125 257.714 627.417 260.353 Q629.709 262.969 633.852 262.969 Q635.704 262.969 637.509 262.483 Q639.338 261.973 641.144 260.978 L641.144 264.913 Q639.361 265.747 637.44 266.163 Q635.542 266.58 633.389 266.58 Q627.533 266.58 624.084 262.899 Q620.635 259.219 620.635 252.969 Q620.635 246.626 624.107 242.992 Q627.602 239.358 633.667 239.358 Q635.635 239.358 637.509 239.775 Q639.384 240.168 641.144 240.978 Z\" fill=\"#000000\" fill-rule=\"nonzero\" fill-opacity=\"1\" /><path clip-path=\"url(#clip070)\" d=\"M660.333 252.876 Q655.171 252.876 653.181 254.057 Q651.19 255.237 651.19 258.085 Q651.19 260.353 652.671 261.696 Q654.176 263.015 656.746 263.015 Q660.287 263.015 662.417 260.515 Q664.57 257.992 664.57 253.825 L664.57 252.876 L660.333 252.876 M668.829 251.117 L668.829 265.909 L664.57 265.909 L664.57 261.973 Q663.111 264.335 660.935 265.469 Q658.759 266.58 655.611 266.58 Q651.63 266.58 649.269 264.358 Q646.931 262.112 646.931 258.362 Q646.931 253.987 649.847 251.765 Q652.787 249.543 658.597 249.543 L664.57 249.543 L664.57 249.126 Q664.57 246.187 662.625 244.589 Q660.704 242.969 657.208 242.969 Q654.986 242.969 652.88 243.501 Q650.773 244.034 648.829 245.099 L648.829 241.163 Q651.167 240.261 653.366 239.821 Q655.565 239.358 657.648 239.358 Q663.273 239.358 666.051 242.274 Q668.829 245.191 668.829 251.117 Z\" fill=\"#000000\" fill-rule=\"nonzero\" fill-opacity=\"1\" /><path clip-path=\"url(#clip070)\" d=\"M681.815 232.622 L681.815 239.983 L690.588 239.983 L690.588 243.293 L681.815 243.293 L681.815 257.367 Q681.815 260.538 682.671 261.441 Q683.551 262.344 686.213 262.344 L690.588 262.344 L690.588 265.909 L686.213 265.909 Q681.282 265.909 679.407 264.08 Q677.532 262.228 677.532 257.367 L677.532 243.293 L674.407 243.293 L674.407 239.983 L677.532 239.983 L677.532 232.622 L681.815 232.622 Z\" fill=\"#000000\" fill-rule=\"nonzero\" fill-opacity=\"1\" /><path clip-path=\"url(#clip070)\" d=\"M718.366 251.881 L718.366 253.964 L698.782 253.964 Q699.06 258.362 701.421 260.677 Q703.805 262.969 708.042 262.969 Q710.495 262.969 712.787 262.367 Q715.102 261.765 717.37 260.561 L717.37 264.589 Q715.079 265.561 712.671 266.071 Q710.264 266.58 707.787 266.58 Q701.583 266.58 697.949 262.969 Q694.338 259.358 694.338 253.2 Q694.338 246.835 697.764 243.108 Q701.213 239.358 707.046 239.358 Q712.278 239.358 715.31 242.737 Q718.366 246.094 718.366 251.881 M714.106 250.631 Q714.06 247.136 712.139 245.052 Q710.241 242.969 707.092 242.969 Q703.528 242.969 701.375 244.983 Q699.245 246.997 698.921 250.654 L714.106 250.631 Z\" fill=\"#000000\" fill-rule=\"nonzero\" fill-opacity=\"1\" /><path clip-path=\"url(#clip070)\" d=\"M745.287 235.191 L745.287 248.177 L751.166 248.177 Q754.43 248.177 756.213 246.487 Q757.995 244.798 757.995 241.673 Q757.995 238.571 756.213 236.881 Q754.43 235.191 751.166 235.191 L745.287 235.191 M740.611 231.349 L751.166 231.349 Q756.976 231.349 759.939 233.987 Q762.925 236.603 762.925 241.673 Q762.925 246.788 759.939 249.404 Q756.976 252.02 751.166 252.02 L745.287 252.02 L745.287 265.909 L740.611 265.909 L740.611 231.349 Z\" fill=\"#000000\" fill-rule=\"nonzero\" fill-opacity=\"1\" /><path clip-path=\"url(#clip070)\" d=\"M777.37 242.969 Q773.944 242.969 771.953 245.654 Q769.962 248.316 769.962 252.969 Q769.962 257.622 771.93 260.307 Q773.921 262.969 777.37 262.969 Q780.773 262.969 782.763 260.284 Q784.754 257.598 784.754 252.969 Q784.754 248.362 782.763 245.677 Q780.773 242.969 777.37 242.969 M777.37 239.358 Q782.925 239.358 786.097 242.969 Q789.268 246.58 789.268 252.969 Q789.268 259.335 786.097 262.969 Q782.925 266.58 777.37 266.58 Q771.791 266.58 768.62 262.969 Q765.472 259.335 765.472 252.969 Q765.472 246.58 768.62 242.969 Q771.791 239.358 777.37 239.358 Z\" fill=\"#000000\" fill-rule=\"nonzero\" fill-opacity=\"1\" /><path clip-path=\"url(#clip070)\" d=\"M811.351 243.964 Q810.634 243.548 809.777 243.362 Q808.944 243.154 807.925 243.154 Q804.314 243.154 802.37 245.515 Q800.448 247.853 800.448 252.251 L800.448 265.909 L796.166 265.909 L796.166 239.983 L800.448 239.983 L800.448 244.011 Q801.791 241.649 803.944 240.515 Q806.097 239.358 809.175 239.358 Q809.615 239.358 810.147 239.427 Q810.68 239.474 811.328 239.589 L811.351 243.964 Z\" fill=\"#000000\" fill-rule=\"nonzero\" fill-opacity=\"1\" /><path clip-path=\"url(#clip070)\" d=\"M820.032 232.622 L820.032 239.983 L828.805 239.983 L828.805 243.293 L820.032 243.293 L820.032 257.367 Q820.032 260.538 820.888 261.441 Q821.768 262.344 824.43 262.344 L828.805 262.344 L828.805 265.909 L824.43 265.909 Q819.499 265.909 817.624 264.08 Q815.749 262.228 815.749 257.367 L815.749 243.293 L812.624 243.293 L812.624 239.983 L815.749 239.983 L815.749 232.622 L820.032 232.622 Z\" fill=\"#000000\" fill-rule=\"nonzero\" fill-opacity=\"1\" /><path clip-path=\"url(#clip070)\" d=\"M847.532 229.89 L847.532 233.432 L843.457 233.432 Q841.166 233.432 840.263 234.358 Q839.383 235.284 839.383 237.691 L839.383 239.983 L846.397 239.983 L846.397 243.293 L839.383 243.293 L839.383 265.909 L835.101 265.909 L835.101 243.293 L831.027 243.293 L831.027 239.983 L835.101 239.983 L835.101 238.177 Q835.101 233.849 837.115 231.881 Q839.129 229.89 843.504 229.89 L847.532 229.89 Z\" fill=\"#000000\" fill-rule=\"nonzero\" fill-opacity=\"1\" /><path clip-path=\"url(#clip070)\" d=\"M861.143 242.969 Q857.717 242.969 855.726 245.654 Q853.735 248.316 853.735 252.969 Q853.735 257.622 855.703 260.307 Q857.694 262.969 861.143 262.969 Q864.545 262.969 866.536 260.284 Q868.527 257.598 868.527 252.969 Q868.527 248.362 866.536 245.677 Q864.545 242.969 861.143 242.969 M861.143 239.358 Q866.698 239.358 869.869 242.969 Q873.041 246.58 873.041 252.969 Q873.041 259.335 869.869 262.969 Q866.698 266.58 861.143 266.58 Q855.564 266.58 852.393 262.969 Q849.244 259.335 849.244 252.969 Q849.244 246.58 852.393 242.969 Q855.564 239.358 861.143 239.358 Z\" fill=\"#000000\" fill-rule=\"nonzero\" fill-opacity=\"1\" /><path clip-path=\"url(#clip070)\" d=\"M880.101 229.89 L884.36 229.89 L884.36 265.909 L880.101 265.909 L880.101 229.89 Z\" fill=\"#000000\" fill-rule=\"nonzero\" fill-opacity=\"1\" /><path clip-path=\"url(#clip070)\" d=\"M893.272 239.983 L897.531 239.983 L897.531 265.909 L893.272 265.909 L893.272 239.983 M893.272 229.89 L897.531 229.89 L897.531 235.284 L893.272 235.284 L893.272 229.89 Z\" fill=\"#000000\" fill-rule=\"nonzero\" fill-opacity=\"1\" /><path clip-path=\"url(#clip070)\" d=\"M916.489 242.969 Q913.064 242.969 911.073 245.654 Q909.082 248.316 909.082 252.969 Q909.082 257.622 911.05 260.307 Q913.04 262.969 916.489 262.969 Q919.892 262.969 921.883 260.284 Q923.874 257.598 923.874 252.969 Q923.874 248.362 921.883 245.677 Q919.892 242.969 916.489 242.969 M916.489 239.358 Q922.045 239.358 925.216 242.969 Q928.388 246.58 928.388 252.969 Q928.388 259.335 925.216 262.969 Q922.045 266.58 916.489 266.58 Q910.911 266.58 907.74 262.969 Q904.591 259.335 904.591 252.969 Q904.591 246.58 907.74 242.969 Q910.911 239.358 916.489 239.358 Z\" fill=\"#000000\" fill-rule=\"nonzero\" fill-opacity=\"1\" /><path clip-path=\"url(#clip070)\" d=\"M955.147 261.973 L971.466 261.973 L971.466 265.909 L949.522 265.909 L949.522 261.973 Q952.184 259.219 956.767 254.589 Q961.374 249.936 962.554 248.594 Q964.799 246.071 965.679 244.335 Q966.582 242.575 966.582 240.886 Q966.582 238.131 964.637 236.395 Q962.716 234.659 959.614 234.659 Q957.415 234.659 954.962 235.423 Q952.531 236.187 949.753 237.737 L949.753 233.015 Q952.577 231.881 955.031 231.302 Q957.485 230.724 959.522 230.724 Q964.892 230.724 968.086 233.409 Q971.281 236.094 971.281 240.585 Q971.281 242.714 970.471 244.636 Q969.684 246.534 967.577 249.126 Q966.998 249.798 963.897 253.015 Q960.795 256.21 955.147 261.973 Z\" fill=\"#000000\" fill-rule=\"nonzero\" fill-opacity=\"1\" /><path clip-path=\"url(#clip070)\" d=\"M991.281 249.497 Q987.947 249.497 986.026 251.279 Q984.128 253.061 984.128 256.186 Q984.128 259.311 986.026 261.094 Q987.947 262.876 991.281 262.876 Q994.614 262.876 996.535 261.094 Q998.457 259.288 998.457 256.186 Q998.457 253.061 996.535 251.279 Q994.637 249.497 991.281 249.497 M986.605 247.506 Q983.596 246.765 981.906 244.705 Q980.239 242.645 980.239 239.682 Q980.239 235.538 983.179 233.131 Q986.142 230.724 991.281 230.724 Q996.443 230.724 999.383 233.131 Q1002.32 235.538 1002.32 239.682 Q1002.32 242.645 1000.63 244.705 Q998.966 246.765 995.98 247.506 Q999.359 248.293 1001.23 250.585 Q1003.13 252.876 1003.13 256.186 Q1003.13 261.21 1000.05 263.895 Q996.998 266.58 991.281 266.58 Q985.563 266.58 982.485 263.895 Q979.429 261.21 979.429 256.186 Q979.429 252.876 981.327 250.585 Q983.225 248.293 986.605 247.506 M984.892 240.122 Q984.892 242.807 986.559 244.312 Q988.248 245.816 991.281 245.816 Q994.29 245.816 995.98 244.312 Q997.693 242.807 997.693 240.122 Q997.693 237.437 995.98 235.932 Q994.29 234.427 991.281 234.427 Q988.248 234.427 986.559 235.932 Q984.892 237.437 984.892 240.122 Z\" fill=\"#000000\" fill-rule=\"nonzero\" fill-opacity=\"1\" /><path clip-path=\"url(#clip070)\" d=\"M1036.14 229.937 Q1033.04 235.261 1031.54 240.469 Q1030.03 245.677 1030.03 251.024 Q1030.03 256.372 1031.54 261.626 Q1033.06 266.858 1036.14 272.159 L1032.44 272.159 Q1028.97 266.719 1027.23 261.464 Q1025.52 256.21 1025.52 251.024 Q1025.52 245.862 1027.23 240.631 Q1028.94 235.4 1032.44 229.937 L1036.14 229.937 Z\" fill=\"#000000\" fill-rule=\"nonzero\" fill-opacity=\"1\" /><path clip-path=\"url(#clip070)\" d=\"M1056.19 252.876 Q1051.03 252.876 1049.04 254.057 Q1047.04 255.237 1047.04 258.085 Q1047.04 260.353 1048.53 261.696 Q1050.03 263.015 1052.6 263.015 Q1056.14 263.015 1058.27 260.515 Q1060.42 257.992 1060.42 253.825 L1060.42 252.876 L1056.19 252.876 M1064.68 251.117 L1064.68 265.909 L1060.42 265.909 L1060.42 261.973 Q1058.97 264.335 1056.79 265.469 Q1054.61 266.58 1051.47 266.58 Q1047.48 266.58 1045.12 264.358 Q1042.79 262.112 1042.79 258.362 Q1042.79 253.987 1045.7 251.765 Q1048.64 249.543 1054.45 249.543 L1060.42 249.543 L1060.42 249.126 Q1060.42 246.187 1058.48 244.589 Q1056.56 242.969 1053.06 242.969 Q1050.84 242.969 1048.73 243.501 Q1046.63 244.034 1044.68 245.099 L1044.68 241.163 Q1047.02 240.261 1049.22 239.821 Q1051.42 239.358 1053.5 239.358 Q1059.13 239.358 1061.91 242.274 Q1064.68 245.191 1064.68 251.117 Z\" fill=\"#000000\" fill-rule=\"nonzero\" fill-opacity=\"1\" /><path clip-path=\"url(#clip070)\" d=\"M1092.11 240.978 L1092.11 244.96 Q1090.31 243.964 1088.48 243.478 Q1086.67 242.969 1084.82 242.969 Q1080.68 242.969 1078.39 245.608 Q1076.1 248.224 1076.1 252.969 Q1076.1 257.714 1078.39 260.353 Q1080.68 262.969 1084.82 262.969 Q1086.67 262.969 1088.48 262.483 Q1090.31 261.973 1092.11 260.978 L1092.11 264.913 Q1090.33 265.747 1088.41 266.163 Q1086.51 266.58 1084.36 266.58 Q1078.5 266.58 1075.05 262.899 Q1071.6 259.219 1071.6 252.969 Q1071.6 246.626 1075.08 242.992 Q1078.57 239.358 1084.64 239.358 Q1086.6 239.358 1088.48 239.775 Q1090.35 240.168 1092.11 240.978 Z\" fill=\"#000000\" fill-rule=\"nonzero\" fill-opacity=\"1\" /><path clip-path=\"url(#clip070)\" d=\"M1103.73 232.622 L1103.73 239.983 L1112.51 239.983 L1112.51 243.293 L1103.73 243.293 L1103.73 257.367 Q1103.73 260.538 1104.59 261.441 Q1105.47 262.344 1108.13 262.344 L1112.51 262.344 L1112.51 265.909 L1108.13 265.909 Q1103.2 265.909 1101.33 264.08 Q1099.45 262.228 1099.45 257.367 L1099.45 243.293 L1096.33 243.293 L1096.33 239.983 L1099.45 239.983 L1099.45 232.622 L1103.73 232.622 Z\" fill=\"#000000\" fill-rule=\"nonzero\" fill-opacity=\"1\" /><path clip-path=\"url(#clip070)\" d=\"M1117.67 255.677 L1117.67 239.983 L1121.93 239.983 L1121.93 255.515 Q1121.93 259.196 1123.36 261.048 Q1124.8 262.876 1127.67 262.876 Q1131.12 262.876 1133.11 260.677 Q1135.12 258.478 1135.12 254.682 L1135.12 239.983 L1139.38 239.983 L1139.38 265.909 L1135.12 265.909 L1135.12 261.927 Q1133.57 264.288 1131.51 265.446 Q1129.47 266.58 1126.77 266.58 Q1122.3 266.58 1119.98 263.802 Q1117.67 261.024 1117.67 255.677 M1128.39 239.358 L1128.39 239.358 Z\" fill=\"#000000\" fill-rule=\"nonzero\" fill-opacity=\"1\" /><path clip-path=\"url(#clip070)\" d=\"M1159.94 252.876 Q1154.78 252.876 1152.78 254.057 Q1150.79 255.237 1150.79 258.085 Q1150.79 260.353 1152.28 261.696 Q1153.78 263.015 1156.35 263.015 Q1159.89 263.015 1162.02 260.515 Q1164.17 257.992 1164.17 253.825 L1164.17 252.876 L1159.94 252.876 M1168.43 251.117 L1168.43 265.909 L1164.17 265.909 L1164.17 261.973 Q1162.72 264.335 1160.54 265.469 Q1158.36 266.58 1155.22 266.58 Q1151.23 266.58 1148.87 264.358 Q1146.53 262.112 1146.53 258.362 Q1146.53 253.987 1149.45 251.765 Q1152.39 249.543 1158.2 249.543 L1164.17 249.543 L1164.17 249.126 Q1164.17 246.187 1162.23 244.589 Q1160.31 242.969 1156.81 242.969 Q1154.59 242.969 1152.48 243.501 Q1150.38 244.034 1148.43 245.099 L1148.43 241.163 Q1150.77 240.261 1152.97 239.821 Q1155.17 239.358 1157.25 239.358 Q1162.88 239.358 1165.65 242.274 Q1168.43 245.191 1168.43 251.117 Z\" fill=\"#000000\" fill-rule=\"nonzero\" fill-opacity=\"1\" /><path clip-path=\"url(#clip070)\" d=\"M1177.21 229.89 L1181.46 229.89 L1181.46 265.909 L1177.21 265.909 L1177.21 229.89 Z\" fill=\"#000000\" fill-rule=\"nonzero\" fill-opacity=\"1\" /><path clip-path=\"url(#clip070)\" d=\"M1189.71 229.937 L1193.41 229.937 Q1196.88 235.4 1198.59 240.631 Q1200.33 245.862 1200.33 251.024 Q1200.33 256.21 1198.59 261.464 Q1196.88 266.719 1193.41 272.159 L1189.71 272.159 Q1192.78 266.858 1194.29 261.626 Q1195.82 256.372 1195.82 251.024 Q1195.82 245.677 1194.29 240.469 Q1192.78 235.261 1189.71 229.937 Z\" fill=\"#000000\" fill-rule=\"nonzero\" fill-opacity=\"1\" /></svg>\n"
      ]
     },
     "metadata": {},
     "output_type": "display_data"
    }
   ],
   "source": [
    "plot((1/portfolio_performance_array_original[1,end]).*portfolio_performance_array_original[:,end], \n",
    "    lw=3, c=:red, label=\"Portfolio $(portfolio_index) (actual)\")\n",
    "plot!((1/SPY_df[1,:volume_weighted_average_price]).*SPY_df[1:number_of_trading_days,:volume_weighted_average_price], lw=3, \n",
    "    c=:blue, label=\"SPY\")\n",
    "plot!((1/portfolio_performance_array_reallocate[1,end]).*portfolio_performance_array_reallocate[:,end], lw=3, \n",
    "    c=:green, label=\"Reallocate Portfolio $(portfolio_index) (actual)\")\n",
    "xlabel!(\"Trading Day Index (2023)\", fontsize=18)\n",
    "ylabel!(\"Wealth (USD)\", fontsize=18)"
   ]
  },
  {
   "cell_type": "markdown",
   "id": "02e61973-65e8-4b59-8027-fe1299c7d29a",
   "metadata": {},
   "source": [
    "### Compute `share_volume_array` "
   ]
  },
  {
   "cell_type": "code",
   "execution_count": 32,
   "id": "282fea4c-250b-4628-9cb4-d75cd301f0cd",
   "metadata": {
    "tags": []
   },
   "outputs": [
    {
     "name": "stdout",
     "output_type": "stream",
     "text": [
      "┌───────┬───────────┬───────────┬───────────┐\n",
      "│\u001b[1m index \u001b[0m│\u001b[1m      AAPL \u001b[0m│\u001b[1m       MRK \u001b[0m│\u001b[1m     GOOGL \u001b[0m│\n",
      "├───────┼───────────┼───────────┼───────────┤\n",
      "│   0.0 │  147072.0 │  2.0867e5 │       0.0 │\n",
      "│   1.0 │ 1.46921e5 │  2.0884e5 │       0.0 │\n",
      "│   2.0 │ 1.48952e5 │ 2.06605e5 │       0.0 │\n",
      "│   3.0 │  2.8713e5 │   50644.2 │     0.035 │\n",
      "│   4.0 │ 2.95276e5 │   41038.4 │     0.058 │\n",
      "│   5.0 │ 2.85159e5 │   52975.2 │     0.002 │\n",
      "│   6.0 │ 2.25863e5 │   87279.1 │   44855.5 │\n",
      "│   7.0 │ 2.33112e5 │   97787.4 │   21355.3 │\n",
      "│   8.0 │ 2.06171e5 │ 1.10598e5 │   45156.5 │\n",
      "│   9.0 │ 2.08166e5 │ 1.11689e5 │   40866.0 │\n",
      "│  10.0 │ 2.24167e5 │   81991.4 │   52579.8 │\n",
      "│  11.0 │ 2.03044e5 │   75126.3 │   91394.5 │\n",
      "│  12.0 │ 1.24069e5 │ 1.19196e5 │ 1.53048e5 │\n",
      "│  13.0 │ 1.05002e5 │ 1.54691e5 │ 1.40926e5 │\n",
      "│  14.0 │ 1.25704e5 │ 1.41651e5 │  125210.0 │\n",
      "│  15.0 │ 1.50597e5 │ 1.29457e5 │  1.0203e5 │\n",
      "│  16.0 │ 1.30884e5 │ 1.36144e5 │ 1.23802e5 │\n",
      "│  17.0 │ 1.18635e5 │ 1.44613e5 │ 1.32809e5 │\n",
      "│  18.0 │ 1.43182e5 │ 1.17043e5 │ 1.26771e5 │\n",
      "│  19.0 │ 1.23665e5 │ 1.38804e5 │ 1.31614e5 │\n",
      "│  20.0 │ 1.12518e5 │   1.484e5 │ 1.37536e5 │\n",
      "│  21.0 │   81877.0 │ 1.89986e5 │ 1.40494e5 │\n",
      "│  22.0 │   92394.0 │ 1.84691e5 │ 1.30188e5 │\n",
      "│  23.0 │ 1.01763e5 │ 1.69193e5 │ 1.32041e5 │\n",
      "│  24.0 │   77385.2 │  2.0995e5 │ 1.27051e5 │\n",
      "│  25.0 │ 1.15548e5 │  1.7066e5 │ 1.10871e5 │\n",
      "│  26.0 │ 1.41677e5 │ 1.62217e5 │   78862.9 │\n",
      "│  27.0 │ 1.37585e5 │  175035.0 │   70681.3 │\n",
      "│  28.0 │ 1.22068e5 │ 1.94591e5 │   73270.1 │\n",
      "│  29.0 │ 1.30336e5 │ 1.84238e5 │   71782.4 │\n",
      "│  30.0 │ 1.19756e5 │ 1.83871e5 │   89143.8 │\n",
      "│  31.0 │  1.3733e5 │ 1.66858e5 │   79833.6 │\n",
      "│  32.0 │ 1.36429e5 │ 1.82091e5 │   63607.2 │\n",
      "│  33.0 │ 1.72795e5 │ 1.65038e5 │   25044.4 │\n",
      "│  34.0 │ 1.71797e5 │ 1.67883e5 │   23278.6 │\n",
      "│  35.0 │ 1.63262e5 │ 1.86584e5 │   14551.7 │\n",
      "│  36.0 │ 1.91086e5 │  1.6124e5 │     0.186 │\n",
      "│  37.0 │ 1.86718e5 │  167148.0 │     0.608 │\n",
      "│  38.0 │  207586.0 │ 1.36465e5 │   2039.84 │\n",
      "│  39.0 │  225918.0 │ 1.13215e5 │     1.011 │\n",
      "│  40.0 │ 2.16943e5 │ 1.06577e5 │   21955.3 │\n",
      "│  41.0 │ 1.73966e5 │ 1.39084e5 │   54167.0 │\n",
      "│  42.0 │ 1.35575e5 │ 1.84833e5 │   62817.5 │\n",
      "│  43.0 │ 1.55101e5 │ 1.76668e5 │   40958.2 │\n",
      "│  44.0 │ 1.62164e5 │ 1.54821e5 │   54602.9 │\n",
      "│  45.0 │ 1.88904e5 │  1.4191e5 │   26032.8 │\n",
      "│  46.0 │ 2.10853e5 │ 1.33551e5 │     0.018 │\n",
      "│  47.0 │ 2.03346e5 │   1.305e5 │   15938.4 │\n",
      "│  48.0 │ 1.76808e5 │ 1.35856e5 │   52935.0 │\n",
      "│  49.0 │ 1.63227e5 │ 1.32556e5 │   78249.5 │\n",
      "│  50.0 │ 1.26493e5 │  1.4914e5 │ 1.17572e5 │\n",
      "│  51.0 │ 1.26495e5 │ 1.25074e5 │ 1.42222e5 │\n",
      "│  52.0 │ 1.23382e5 │ 1.47409e5 │ 1.23706e5 │\n",
      "│  53.0 │  1.0121e5 │ 1.67828e5 │ 1.36826e5 │\n",
      "│  54.0 │ 1.14964e5 │   1.439e5 │ 1.39993e5 │\n",
      "│  55.0 │ 1.02721e5 │ 1.57103e5 │ 1.45386e5 │\n",
      "│  56.0 │  102518.0 │  1.6393e5 │ 1.38909e5 │\n",
      "│  57.0 │ 1.19537e5 │  151072.0 │ 1.26037e5 │\n",
      "│  58.0 │ 1.34955e5 │  131423.0 │ 1.22504e5 │\n",
      "│  59.0 │ 1.27841e5 │  1.4799e5 │  1.1664e5 │\n",
      "│  60.0 │ 1.25652e5 │ 1.61571e5 │ 1.05904e5 │\n",
      "│  61.0 │  105983.0 │ 1.81683e5 │ 1.16545e5 │\n",
      "│  62.0 │   93383.9 │ 2.04797e5 │ 1.12493e5 │\n",
      "│  63.0 │   94639.6 │ 2.00594e5 │ 1.14875e5 │\n",
      "│  64.0 │   87115.9 │  214131.0 │ 1.12167e5 │\n",
      "│  65.0 │   66582.1 │ 2.38864e5 │ 1.17727e5 │\n",
      "│  66.0 │   80691.2 │ 2.15316e5 │  121163.0 │\n",
      "│  67.0 │   92855.9 │ 1.97244e5 │ 1.21892e5 │\n",
      "│  68.0 │   94465.3 │ 1.99646e5 │ 1.16819e5 │\n",
      "│  69.0 │   52227.7 │ 2.63305e5 │ 1.13422e5 │\n",
      "│  70.0 │   52219.3 │ 2.64588e5 │ 1.12076e5 │\n",
      "│  71.0 │   69553.3 │ 2.39324e5 │ 1.12468e5 │\n",
      "│  72.0 │   77296.3 │  2.3317e5 │ 1.06895e5 │\n",
      "│  73.0 │   83020.5 │ 2.27534e5 │  1.0386e5 │\n",
      "│  74.0 │   82612.8 │ 2.24095e5 │  108234.0 │\n",
      "│  75.0 │   80072.0 │ 2.26619e5 │ 1.09449e5 │\n",
      "│  76.0 │   73406.0 │  234476.0 │ 1.11253e5 │\n",
      "│  77.0 │   89842.1 │ 2.21643e5 │   99733.8 │\n",
      "│  78.0 │  1.1815e5 │ 1.81674e5 │   98749.6 │\n",
      "│  79.0 │   69959.6 │ 2.38612e5 │ 1.13238e5 │\n",
      "│  80.0 │   67828.9 │  242970.0 │ 1.11918e5 │\n",
      "│  81.0 │   63632.5 │  248779.0 │ 1.12252e5 │\n",
      "│  82.0 │   63255.5 │ 2.50353e5 │ 1.11093e5 │\n",
      "│  83.0 │   65763.9 │ 2.47575e5 │ 1.10225e5 │\n",
      "│  84.0 │   90563.0 │ 2.22828e5 │   98696.3 │\n",
      "│  85.0 │   58248.1 │ 2.57369e5 │ 1.13323e5 │\n",
      "│  86.0 │   51106.9 │ 2.65029e5 │ 1.16405e5 │\n",
      "│  87.0 │   62534.1 │ 2.52071e5 │ 1.12295e5 │\n",
      "│  88.0 │   51414.9 │ 2.67798e5 │ 1.12972e5 │\n",
      "│  89.0 │   51802.5 │ 2.70925e5 │  1.0924e5 │\n",
      "│  90.0 │   52089.1 │ 2.71521e5 │ 1.08226e5 │\n",
      "│  91.0 │   51905.4 │ 2.71564e5 │ 1.08454e5 │\n",
      "│  92.0 │   52146.0 │ 2.73505e5 │ 1.06222e5 │\n",
      "│  93.0 │   51776.6 │  2.7568e5 │  104685.0 │\n",
      "│  94.0 │   51194.5 │ 2.78149e5 │ 1.03223e5 │\n",
      "│  95.0 │   51558.3 │ 2.76685e5 │ 1.04081e5 │\n",
      "│  96.0 │   51757.8 │ 2.78646e5 │ 1.02008e5 │\n",
      "│  97.0 │   54542.8 │ 2.59026e5 │ 1.16242e5 │\n",
      "│  98.0 │   56626.9 │ 2.50367e5 │  121416.0 │\n",
      "│  99.0 │   55554.4 │ 2.53043e5 │ 1.20485e5 │\n",
      "│ 100.0 │   56201.7 │  2.5139e5 │ 1.21046e5 │\n",
      "│ 101.0 │   63063.1 │  231090.0 │ 1.29391e5 │\n",
      "│ 102.0 │   61229.0 │ 2.35715e5 │  127881.0 │\n",
      "│ 103.0 │   58480.8 │ 2.49437e5 │ 1.19578e5 │\n",
      "│ 104.0 │   53497.4 │  268149.0 │ 1.09922e5 │\n",
      "│ 105.0 │   51980.1 │ 2.74596e5 │ 1.06297e5 │\n",
      "│ 106.0 │   56351.8 │  250078.0 │  1.2133e5 │\n",
      "│ 107.0 │   69117.3 │  206505.0 │  141432.0 │\n",
      "│ 108.0 │   67164.3 │ 2.22888e5 │  129522.0 │\n",
      "│ 109.0 │   66671.6 │ 2.25105e5 │ 1.28243e5 │\n",
      "│ 110.0 │   64971.6 │ 2.31858e5 │  1.2477e5 │\n",
      "│ 111.0 │   65126.1 │ 2.29959e5 │ 1.26227e5 │\n",
      "│ 112.0 │   69090.9 │ 2.18444e5 │ 1.30448e5 │\n",
      "│ 113.0 │   64114.6 │ 2.34707e5 │ 1.23625e5 │\n",
      "│ 114.0 │   69383.0 │ 2.20398e5 │ 1.28401e5 │\n",
      "│ 115.0 │   69207.3 │  2.2281e5 │ 1.26505e5 │\n",
      "│ 116.0 │   76743.9 │ 2.10076e5 │ 1.26747e5 │\n",
      "│ 117.0 │   58381.6 │ 2.55546e5 │ 1.12641e5 │\n",
      "│ 118.0 │   58241.3 │ 2.56539e5 │ 1.11925e5 │\n",
      "│ 119.0 │   82270.9 │ 2.12114e5 │  116755.0 │\n",
      "│ 120.0 │   78518.5 │ 2.23783e5 │ 1.11543e5 │\n",
      "│ 121.0 │   75118.0 │ 2.25586e5 │ 1.15211e5 │\n",
      "│ 122.0 │   75363.9 │ 2.29447e5 │  1.1114e5 │\n",
      "│ 123.0 │   58773.5 │ 2.61122e5 │  1.0749e5 │\n",
      "│ 124.0 │   67696.8 │ 2.44672e5 │ 1.08851e5 │\n",
      "│ 125.0 │   67689.4 │ 2.39963e5 │ 1.13261e5 │\n",
      "│ 126.0 │   81606.9 │ 2.15028e5 │ 1.14235e5 │\n",
      "│ 127.0 │   94545.2 │ 1.84887e5 │  121084.0 │\n",
      "│ 128.0 │ 1.10129e5 │ 1.69567e5 │  110310.0 │\n",
      "│ 129.0 │ 1.11772e5 │ 1.56832e5 │ 1.19489e5 │\n",
      "│ 130.0 │ 1.04436e5 │ 1.61562e5 │  1.2692e5 │\n",
      "│ 131.0 │   83785.5 │ 1.81076e5 │ 1.41855e5 │\n",
      "│ 132.0 │   79757.5 │  1.8998e5 │ 1.40359e5 │\n",
      "│ 133.0 │   85330.4 │ 1.85217e5 │  1.3572e5 │\n",
      "│ 134.0 │   88741.4 │  179978.0 │ 1.34866e5 │\n",
      "│ 135.0 │   95118.0 │ 1.76275e5 │ 1.27886e5 │\n",
      "│ 136.0 │ 1.05248e5 │ 1.70516e5 │ 1.16713e5 │\n",
      "│ 137.0 │ 1.00089e5 │  177187.0 │ 1.18827e5 │\n",
      "│ 138.0 │   97001.6 │ 1.72998e5 │ 1.27475e5 │\n",
      "│ 139.0 │   96770.5 │  1.6936e5 │ 1.31042e5 │\n",
      "│ 140.0 │   72373.9 │ 2.03893e5 │ 1.39127e5 │\n",
      "│ 141.0 │   75339.8 │ 1.86847e5 │  148566.0 │\n",
      "│ 142.0 │   66533.3 │ 2.16262e5 │  1.3798e5 │\n",
      "│ 143.0 │   66359.6 │ 2.18246e5 │ 1.36644e5 │\n",
      "│ 144.0 │   71713.6 │ 1.98539e5 │ 1.44454e5 │\n",
      "│ 145.0 │   80868.0 │ 1.70008e5 │ 1.54213e5 │\n",
      "│ 146.0 │   80597.5 │ 1.63058e5 │  160336.0 │\n",
      "│ 147.0 │   71415.8 │ 1.26097e5 │ 2.03673e5 │\n",
      "│ 148.0 │   51845.0 │ 1.59412e5 │ 2.03412e5 │\n",
      "│ 149.0 │   53915.5 │ 1.58167e5 │ 2.01588e5 │\n",
      "│ 150.0 │   55115.2 │ 1.34188e5 │ 2.19562e5 │\n",
      "│ 151.0 │   55465.1 │ 1.28751e5 │  223507.0 │\n",
      "│ 152.0 │   51669.1 │  135270.0 │  2.2331e5 │\n",
      "│ 153.0 │   49295.1 │ 1.63516e5 │  2.0313e5 │\n",
      "│ 154.0 │   47312.5 │ 1.40037e5 │ 2.25499e5 │\n",
      "│ 155.0 │   46872.6 │ 1.22976e5 │ 2.40516e5 │\n",
      "│ 156.0 │   32640.7 │ 1.41421e5 │ 2.44113e5 │\n",
      "│ 157.0 │   39246.7 │ 1.02142e5 │ 2.68722e5 │\n",
      "│ 158.0 │   41806.9 │  115270.0 │ 2.54002e5 │\n",
      "│ 159.0 │   52608.5 │ 1.06126e5 │ 2.46767e5 │\n",
      "│ 160.0 │   47643.6 │ 1.76462e5 │  194420.0 │\n",
      "│ 161.0 │   40128.4 │ 1.25158e5 │ 2.47902e5 │\n",
      "│ 162.0 │   47737.3 │ 1.27315e5 │ 2.35607e5 │\n",
      "│ 163.0 │   53338.2 │  131198.0 │ 2.24675e5 │\n",
      "│ 164.0 │   52561.7 │ 1.81334e5 │ 1.84759e5 │\n",
      "│ 165.0 │   56057.3 │ 1.97701e5 │ 1.66657e5 │\n",
      "│ 166.0 │   57656.3 │ 1.88046e5 │ 1.72178e5 │\n",
      "│ 167.0 │   60501.2 │  190086.0 │  166553.0 │\n",
      "│ 168.0 │   64443.6 │  1.7167e5 │ 1.75628e5 │\n",
      "│ 169.0 │   55664.2 │ 1.38771e5 │ 2.13625e5 │\n",
      "│ 170.0 │   34221.0 │ 1.56255e5 │ 2.27823e5 │\n",
      "│ 171.0 │   33114.7 │  173614.0 │ 2.15387e5 │\n",
      "│ 172.0 │   36579.9 │ 1.71999e5 │ 2.12129e5 │\n",
      "│ 173.0 │   26355.9 │ 1.59612e5 │ 2.35425e5 │\n",
      "│ 174.0 │   21047.8 │  167366.0 │ 2.36075e5 │\n",
      "│ 175.0 │   25113.8 │ 1.79165e5 │ 2.21652e5 │\n",
      "│ 176.0 │   23287.0 │  165734.0 │  2.3449e5 │\n",
      "│ 177.0 │   31556.5 │ 1.68706e5 │ 2.21523e5 │\n",
      "│ 178.0 │   35563.4 │ 1.59561e5 │ 2.23437e5 │\n",
      "│ 179.0 │   26321.4 │  107976.0 │  276955.0 │\n",
      "│ 180.0 │   26860.0 │   46743.7 │  326339.0 │\n",
      "│ 181.0 │   36161.4 │   33403.9 │  324748.0 │\n",
      "│ 182.0 │   43729.4 │   41478.7 │ 3.08066e5 │\n",
      "│ 183.0 │   18283.6 │     0.005 │ 3.76102e5 │\n",
      "│ 184.0 │   14763.8 │   36352.1 │ 3.51753e5 │\n",
      "│ 185.0 │   10996.3 │   68074.5 │ 3.31606e5 │\n",
      "│ 186.0 │   24900.4 │   26319.9 │ 3.46264e5 │\n",
      "│ 187.0 │   32742.5 │   70490.0 │ 3.02348e5 │\n",
      "│ 188.0 │   33278.1 │   38718.3 │ 3.26067e5 │\n",
      "│ 189.0 │   30758.5 │   80043.4 │ 2.98082e5 │\n",
      "│ 190.0 │   31879.1 │   79613.5 │ 2.96961e5 │\n",
      "│ 191.0 │   37368.3 │ 1.09518e5 │   2.673e5 │\n",
      "│ 192.0 │   39855.7 │ 1.19466e5 │ 2.56573e5 │\n",
      "│ 193.0 │   40577.4 │ 1.07281e5 │ 2.64785e5 │\n",
      "│ 194.0 │   41019.2 │ 1.33372e5 │ 2.45014e5 │\n",
      "│ 195.0 │   47597.9 │ 1.10893e5 │ 2.53216e5 │\n",
      "│ 196.0 │   42909.6 │   89822.6 │ 2.75275e5 │\n",
      "│ 197.0 │   37240.5 │ 1.13133e5 │ 2.65106e5 │\n",
      "│ 198.0 │   29009.4 │ 1.22533e5 │ 2.68534e5 │\n",
      "│ 199.0 │   33235.9 │   84295.4 │ 2.91415e5 │\n",
      "│ 200.0 │   37434.8 │   70821.5 │  2.9589e5 │\n",
      "│ 201.0 │   17631.4 │   55220.0 │  332951.0 │\n",
      "│ 202.0 │   12899.4 │   72770.8 │  325660.0 │\n",
      "│ 203.0 │   14329.7 │ 1.02446e5 │  301847.0 │\n",
      "│ 204.0 │   1.318e5 │ 2.74364e5 │       0.0 │\n",
      "│ 205.0 │  1.3505e5 │ 2.69224e5 │       0.0 │\n",
      "│ 206.0 │ 1.32522e5 │  2.7336e5 │       0.0 │\n",
      "│ 207.0 │ 1.31524e5 │ 2.75015e5 │       0.0 │\n",
      "│ 208.0 │ 1.31333e5 │ 2.75334e5 │       0.0 │\n",
      "│ 209.0 │  1.3009e5 │ 2.77435e5 │       0.0 │\n",
      "│ 210.0 │  1.2862e5 │ 2.79975e5 │       0.0 │\n",
      "│ 211.0 │ 1.29365e5 │ 2.78702e5 │       0.0 │\n",
      "│ 212.0 │ 1.28986e5 │ 2.79351e5 │       0.0 │\n",
      "│ 213.0 │ 1.27731e5 │ 2.81547e5 │       0.0 │\n",
      "│ 214.0 │ 1.27586e5 │   2.818e5 │       0.0 │\n",
      "│ 215.0 │ 1.26393e5 │ 2.83925e5 │       0.0 │\n",
      "│ 216.0 │ 1.24217e5 │ 2.87925e5 │       0.0 │\n",
      "│ 217.0 │ 1.25561e5 │ 2.85501e5 │       0.0 │\n",
      "│ 218.0 │ 1.24373e5 │ 2.87682e5 │       0.0 │\n",
      "│ 219.0 │   85045.5 │     0.005 │ 2.71509e5 │\n",
      "│ 220.0 │  100820.0 │   33848.3 │ 2.24443e5 │\n",
      "│ 221.0 │ 1.15095e5 │   9194.58 │  2.2297e5 │\n",
      "│ 222.0 │  112420.0 │   28832.3 │ 2.11929e5 │\n",
      "│ 223.0 │ 1.05115e5 │   28884.7 │  222057.0 │\n",
      "│ 224.0 │   96927.1 │   46877.2 │  220158.0 │\n",
      "│ 225.0 │ 1.07145e5 │   13714.4 │ 2.30673e5 │\n",
      "│ 226.0 │ 1.10018e5 │   5004.47 │ 2.33151e5 │\n",
      "│ 227.0 │ 1.07051e5 │   14470.3 │ 2.30357e5 │\n",
      "│ 228.0 │ 1.23401e5 │ 2.91338e5 │       0.0 │\n",
      "│ 229.0 │  124107.0 │  2.9003e5 │       0.0 │\n",
      "│ 230.0 │ 1.24298e5 │  289678.0 │       0.0 │\n",
      "└───────┴───────────┴───────────┴───────────┘\n"
     ]
    }
   ],
   "source": [
    "share_volume_array = Array{Float64,2}(undef, number_of_trading_days+1, length(w)+1)\n",
    "\n",
    "# initial (tday = 0)\n",
    "share_volume_array[1,1] = 0;\n",
    "for i ∈ eachindex(my_list_of_tickers)\n",
    "    share_volume_array[1,i+1] = Nₒ[i]\n",
    "end\n",
    "\n",
    "for i ∈ 1:number_of_trading_days\n",
    "    n_vector = my_results_df[i,:N_new]\n",
    "    share_volume_array[i+1,1] = i;\n",
    "    for j ∈ eachindex(n_vector)\n",
    "        share_volume_array[i+1,j+1] = n_vector[j] |> x-> round(x,digits=3) |> abs\n",
    "    end\n",
    "end\n",
    "header_data = Array{String,1}()\n",
    "push!(header_data,\"index\");\n",
    "[push!(header_data, ticker) for ticker ∈ my_list_of_tickers]\n",
    "pretty_table(share_volume_array, header=header_data)"
   ]
  },
  {
   "cell_type": "markdown",
   "id": "3d8f1ebd-a1bd-4190-a9b8-0d4ea9e6a4c4",
   "metadata": {},
   "source": [
    "## Disclaimer and Risks\n",
    "__This content is offered solely for training and  informational purposes__. No offer or solicitation to buy or sell securities or derivative products, or any investment or trading advice or strategy,  is made, given, or endorsed by the teaching team. \n",
    "\n",
    "__Trading involves risk__. Carefully review your financial situation before investing in securities, futures contracts, options, or commodity interests. Past performance, whether actual or indicated by historical tests of strategies, is no guarantee of future performance or success. Trading is generally inappropriate for someone with limited resources, investment or trading experience, or a low-risk tolerance.  Only risk capital that is not required for living expenses.\n",
    "\n",
    "__You are fully responsible for any investment or trading decisions you make__. Such decisions should be based solely on your evaluation of your financial circumstances, investment or trading objectives, risk tolerance, and liquidity needs."
   ]
  }
 ],
 "metadata": {
  "kernelspec": {
   "display_name": "Julia 1.9.3",
   "language": "julia",
   "name": "julia-1.9"
  },
  "language_info": {
   "file_extension": ".jl",
   "mimetype": "application/julia",
   "name": "julia",
   "version": "1.9.3"
  }
 },
 "nbformat": 4,
 "nbformat_minor": 5
}
